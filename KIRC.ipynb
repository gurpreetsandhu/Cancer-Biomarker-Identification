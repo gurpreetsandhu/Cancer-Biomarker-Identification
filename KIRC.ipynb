{
 "cells": [
  {
   "cell_type": "code",
   "execution_count": 1,
   "metadata": {},
   "outputs": [],
   "source": [
    "import numpy as np\n",
    "import copy\n",
    "import csv\n",
    "from sklearn import preprocessing\n",
    "from sklearn.model_selection import train_test_split\n",
    "from sklearn import svm\n",
    "from sklearn.discriminant_analysis import LinearDiscriminantAnalysis\n",
    "from sklearn.decomposition import PCA\n",
    "import matplotlib.pyplot as plt\n",
    "import matplotlib\n",
    "import random\n",
    "import math\n",
    "from sklearn.metrics import matthews_corrcoef\n",
    "from sklearn.metrics import precision_recall_fscore_support\n",
    "from sklearn.linear_model import LogisticRegression"
   ]
  },
  {
   "cell_type": "code",
   "execution_count": 2,
   "metadata": {},
   "outputs": [],
   "source": [
    "def get_classwise(train_data, train_labels):\n",
    "    dct = {}\n",
    "    for i in range(len(train_data)):\n",
    "        if train_labels[i] not in dct.keys():\n",
    "            dct[train_labels[i]] = [train_data[i]]\n",
    "        else:\n",
    "            dct[train_labels[i]].append(train_data[i])\n",
    "    return dct\n",
    "\n",
    "def get_data(dct, ini, ky, hwmch):\n",
    "    tst_dt = []\n",
    "    tst_lbl = []\n",
    "    tr_dt = []\n",
    "    tr_lbl = []\n",
    "    for i in range(len(dct[ky])):\n",
    "        if i >= ini and i < (ini+hwmch):\n",
    "            if i >= len(dct[ky]):\n",
    "                break\n",
    "            else:\n",
    "                tst_dt.append(dct[ky][i])\n",
    "                tst_lbl.append(ky)\n",
    "        else:\n",
    "            tr_dt.append(dct[ky][i])\n",
    "            tr_lbl.append(ky)\n",
    "    return tr_dt, tr_lbl, tst_dt, tst_lbl, ini+hwmch\n",
    "\n",
    "def K_fold(train_data, train_label, k):\n",
    "    dct = get_classwise(train_data, train_label)\n",
    "    ins = []\n",
    "    cont = []\n",
    "    for i in range(len(dct.keys())):\n",
    "        ins.append(0)\n",
    "        cont.append(int(len(dct[i])/k))\n",
    "    \n",
    "    tr_accs, tst_accs, tr_mccs, tst_mccs, tr_ps, tst_ps, tr_rs, tst_rs, tr_f1s, tst_f1s = [],[],[],[],[],[],[],[],[],[] \n",
    "    for j in range(k):\n",
    "        tr_dt = []\n",
    "        tr_lbl = []\n",
    "        tst_dt = []\n",
    "        tst_lbl = []\n",
    "        for i in dct.keys():\n",
    "            tr_d, tr_l, tst_d, tst_l,upt = get_data(dct, ins[i], i, cont[i])\n",
    "            tr_dt += tr_d\n",
    "            tr_lbl += tr_l\n",
    "            tst_dt += tst_d\n",
    "            tst_lbl += tst_l\n",
    "            ins[i] = upt\n",
    "        \n",
    "        tr_dt = np.array(tr_dt)\n",
    "        tr_lbl = np.array(tr_lbl)\n",
    "        tst_dt = np.array(tst_dt)\n",
    "        tst_lbl = np.array(tst_lbl)\n",
    "        \n",
    "        #print(tr_dt.shape)\n",
    "        #print(tst_dt.shape)\n",
    "        \n",
    "        idx = np.random.permutation(len(tr_dt))\n",
    "        tr_x, tr_y = tr_dt[idx], tr_lbl[idx]\n",
    "        \n",
    "        idx = np.random.permutation(len(tst_dt))\n",
    "        tst_x, tst_y = tst_dt[idx], tst_lbl[idx]\n",
    "        \n",
    "        \n",
    "        \n",
    "        clf = svm.SVC(kernel='linear')\n",
    "        clf.fit(tr_x, tr_y)\n",
    "        \n",
    "        tr_sc = clf.score(tr_x, tr_y)\n",
    "        tst_sc = clf.score(tst_x, tst_y)\n",
    "        \n",
    "        pred = clf.predict(tr_x)\n",
    "        tr_mcc = matthews_corrcoef(tr_y, pred)\n",
    "        prf = precision_recall_fscore_support(tr_y, pred, average='macro')\n",
    "        tr_p = prf[0]\n",
    "        tr_r = prf[1]\n",
    "        tr_f1 = prf[2]\n",
    "        \n",
    "        pred = clf.predict(tst_x)\n",
    "        tst_mcc = matthews_corrcoef(tst_y, pred)\n",
    "        prf = precision_recall_fscore_support(tst_y, pred, average='macro')\n",
    "        tst_p = prf[0]\n",
    "        tst_r = prf[1]\n",
    "        tst_f1 = prf[2]\n",
    "        \n",
    "        tr_accs.append(tr_sc)\n",
    "        tst_accs.append(tst_sc)\n",
    "        tr_mccs.append(tr_mcc)\n",
    "        tst_mccs.append(tst_mcc)\n",
    "        tr_ps.append(tr_p)\n",
    "        tst_ps.append(tst_p)\n",
    "        tr_rs.append(tr_r)\n",
    "        tst_rs.append(tst_r)\n",
    "        tr_f1s.append(tr_f1)\n",
    "        tst_f1s.append(tst_f1)\n",
    "        #print(\"Fold : \", j+1, \" Train Acc : \", tr_sc, \" Validation Acc : \", tst_sc)\n",
    "        #print(\"Fold : \", j+1, \" Train MCC : \", tr_mcc, \" Validation MCC : \", tst_mcc)\n",
    "        #print(\"Fold : \", j+1, \" Train Precission : \", tr_p, \" Validation Precission : \", tst_p)\n",
    "        #print(\"Fold : \", j+1, \" Train Recall : \", tr_r, \" Validation Recall : \", tst_r)\n",
    "        #print(\"Fold : \", j+1, \" Train F1 : \", tr_f1, \" Validation F1 : \", tst_f1)\n",
    "        #print(\"-----------------------------------------------------------------------------------\")\n",
    "    return tr_accs,tst_accs,tr_mccs,tst_mccs,tr_ps,tst_ps,tr_rs,tst_rs,tr_f1s,tst_f1s\n",
    "\n",
    "\n",
    "\n",
    "def K_fold2(train_data, train_label, k):\n",
    "    dct = get_classwise(train_data, train_label)\n",
    "    ins = []\n",
    "    cont = []\n",
    "    for i in range(len(dct.keys())):\n",
    "        ins.append(0)\n",
    "        cont.append(int(len(dct[i])/k))\n",
    "    \n",
    "    tr_accs, tst_accs, tr_mccs, tst_mccs, tr_ps, tst_ps, tr_rs, tst_rs, tr_f1s, tst_f1s = [],[],[],[],[],[],[],[],[],[] \n",
    "    for j in range(k):\n",
    "        tr_dt = []\n",
    "        tr_lbl = []\n",
    "        tst_dt = []\n",
    "        tst_lbl = []\n",
    "        for i in dct.keys():\n",
    "            tr_d, tr_l, tst_d, tst_l,upt = get_data(dct, ins[i], i, cont[i])\n",
    "            tr_dt += tr_d\n",
    "            tr_lbl += tr_l\n",
    "            tst_dt += tst_d\n",
    "            tst_lbl += tst_l\n",
    "            ins[i] = upt\n",
    "        \n",
    "        tr_dt = np.array(tr_dt)\n",
    "        tr_lbl = np.array(tr_lbl)\n",
    "        tst_dt = np.array(tst_dt)\n",
    "        tst_lbl = np.array(tst_lbl)\n",
    "        \n",
    "        #print(tr_dt.shape)\n",
    "        #print(tst_dt.shape)\n",
    "        \n",
    "        idx = np.random.permutation(len(tr_dt))\n",
    "        tr_x, tr_y = tr_dt[idx], tr_lbl[idx]\n",
    "        \n",
    "        idx = np.random.permutation(len(tst_dt))\n",
    "        tst_x, tst_y = tst_dt[idx], tst_lbl[idx]\n",
    "        \n",
    "        \n",
    "        \n",
    "        clf = LogisticRegression(random_state=0)\n",
    "        clf.fit(tr_x, tr_y)\n",
    "        \n",
    "        tr_sc = clf.score(tr_x, tr_y)\n",
    "        tst_sc = clf.score(tst_x, tst_y)\n",
    "        \n",
    "        pred = clf.predict(tr_x)\n",
    "        tr_mcc = matthews_corrcoef(tr_y, pred)\n",
    "        prf = precision_recall_fscore_support(tr_y, pred, average='macro')\n",
    "        tr_p = prf[0]\n",
    "        tr_r = prf[1]\n",
    "        tr_f1 = prf[2]\n",
    "        \n",
    "        pred = clf.predict(tst_x)\n",
    "        tst_mcc = matthews_corrcoef(tst_y, pred)\n",
    "        prf = precision_recall_fscore_support(tst_y, pred, average='macro')\n",
    "        tst_p = prf[0]\n",
    "        tst_r = prf[1]\n",
    "        tst_f1 = prf[2]\n",
    "        \n",
    "        tr_accs.append(tr_sc)\n",
    "        tst_accs.append(tst_sc)\n",
    "        tr_mccs.append(tr_mcc)\n",
    "        tst_mccs.append(tst_mcc)\n",
    "        tr_ps.append(tr_p)\n",
    "        tst_ps.append(tst_p)\n",
    "        tr_rs.append(tr_r)\n",
    "        tst_rs.append(tst_r)\n",
    "        tr_f1s.append(tr_f1)\n",
    "        tst_f1s.append(tst_f1)\n",
    "        #print(\"Fold : \", j+1, \" Train Acc : \", tr_sc, \" Validation Acc : \", tst_sc)\n",
    "        #print(\"Fold : \", j+1, \" Train MCC : \", tr_mcc, \" Validation MCC : \", tst_mcc)\n",
    "        #print(\"Fold : \", j+1, \" Train Precission : \", tr_p, \" Validation Precission : \", tst_p)\n",
    "        #print(\"Fold : \", j+1, \" Train Recall : \", tr_r, \" Validation Recall : \", tst_r)\n",
    "        #print(\"Fold : \", j+1, \" Train F1 : \", tr_f1, \" Validation F1 : \", tst_f1)\n",
    "        #print(\"-----------------------------------------------------------------------------------\")\n",
    "    return tr_accs,tst_accs,tr_mccs,tst_mccs,tr_ps,tst_ps,tr_rs,tst_rs,tr_f1s,tst_f1s\n",
    "\n",
    "\n",
    "def print_metrics(tr_accs,tst_accs,tr_mccs,tst_mccs,tr_ps,tst_ps,tr_rs,tst_rs,tr_f1s,tst_f1s):\n",
    "    print(\"---------------------Training-------------------------------\")\n",
    "    print(\"Accuracy : \", np.mean(tr_accs))\n",
    "    print(\"MCC : \", np.mean(tr_mccs))\n",
    "    print(\"Precision : \", np.mean(tr_ps))\n",
    "    print(\"Recall : \", np.mean(tr_rs))\n",
    "    print(\"F1 : \", np.mean(tr_f1s))\n",
    "    \n",
    "    print(\"---------------------Validation-------------------------------\")\n",
    "    print(\"Accuracy : \", np.mean(tst_accs))\n",
    "    print(\"MCC : \", np.mean(tst_mccs))\n",
    "    print(\"Precision : \", np.mean(tst_ps))\n",
    "    print(\"Recall : \", np.mean(tst_rs))\n",
    "    print(\"F1 : \", np.mean(tst_f1s))"
   ]
  },
  {
   "cell_type": "code",
   "execution_count": 3,
   "metadata": {},
   "outputs": [],
   "source": [
    "data = []\n",
    "with open('kircdata.csv','rt')as f:\n",
    "  dt = csv.reader(f)\n",
    "  for row in dt:\n",
    "        data.append(row)"
   ]
  },
  {
   "cell_type": "code",
   "execution_count": 4,
   "metadata": {},
   "outputs": [],
   "source": [
    "data = data[1:]"
   ]
  },
  {
   "cell_type": "code",
   "execution_count": 5,
   "metadata": {},
   "outputs": [],
   "source": [
    "data = np.array(data)"
   ]
  },
  {
   "cell_type": "code",
   "execution_count": 6,
   "metadata": {},
   "outputs": [],
   "source": [
    "data = data[:,1:]"
   ]
  },
  {
   "cell_type": "code",
   "execution_count": 7,
   "metadata": {},
   "outputs": [],
   "source": [
    "labels = []\n",
    "with open('kirclabel.csv','rt')as f:\n",
    "  dt = csv.reader(f)\n",
    "  for row in dt:\n",
    "        labels.append(row)"
   ]
  },
  {
   "cell_type": "code",
   "execution_count": 8,
   "metadata": {},
   "outputs": [],
   "source": [
    "labels = labels[1:]"
   ]
  },
  {
   "cell_type": "code",
   "execution_count": 9,
   "metadata": {},
   "outputs": [],
   "source": [
    "labels = np.array(labels)[:,1:]"
   ]
  },
  {
   "cell_type": "code",
   "execution_count": 10,
   "metadata": {},
   "outputs": [
    {
     "data": {
      "text/plain": [
       "array(['194.9691', '96.6032', '1.8819', ..., '493.0527', '38.8922', '0'],\n",
       "      dtype='<U12')"
      ]
     },
     "execution_count": 10,
     "metadata": {},
     "output_type": "execute_result"
    }
   ],
   "source": [
    "data[0]"
   ]
  },
  {
   "cell_type": "code",
   "execution_count": 11,
   "metadata": {},
   "outputs": [
    {
     "data": {
      "text/plain": [
       "606"
      ]
     },
     "execution_count": 11,
     "metadata": {},
     "output_type": "execute_result"
    }
   ],
   "source": [
    "len(labels)"
   ]
  },
  {
   "cell_type": "code",
   "execution_count": 12,
   "metadata": {},
   "outputs": [],
   "source": [
    "u,c = np.unique(labels , return_counts=True)"
   ]
  },
  {
   "cell_type": "code",
   "execution_count": 13,
   "metadata": {},
   "outputs": [
    {
     "data": {
      "text/plain": [
       "array(['0', '1'], dtype='<U3')"
      ]
     },
     "execution_count": 13,
     "metadata": {},
     "output_type": "execute_result"
    }
   ],
   "source": [
    "u"
   ]
  },
  {
   "cell_type": "code",
   "execution_count": 14,
   "metadata": {},
   "outputs": [
    {
     "data": {
      "text/plain": [
       "array([ 72, 534], dtype=int64)"
      ]
     },
     "execution_count": 14,
     "metadata": {},
     "output_type": "execute_result"
    }
   ],
   "source": [
    "c"
   ]
  },
  {
   "cell_type": "markdown",
   "metadata": {},
   "source": [
    "# Exp 2"
   ]
  },
  {
   "cell_type": "code",
   "execution_count": 15,
   "metadata": {},
   "outputs": [
    {
     "data": {
      "text/plain": [
       "(606, 20502)"
      ]
     },
     "execution_count": 15,
     "metadata": {},
     "output_type": "execute_result"
    }
   ],
   "source": [
    "data.shape"
   ]
  },
  {
   "cell_type": "code",
   "execution_count": 16,
   "metadata": {},
   "outputs": [
    {
     "data": {
      "text/plain": [
       "(606, 1)"
      ]
     },
     "execution_count": 16,
     "metadata": {},
     "output_type": "execute_result"
    }
   ],
   "source": [
    "labels.shape"
   ]
  },
  {
   "cell_type": "code",
   "execution_count": 17,
   "metadata": {},
   "outputs": [],
   "source": [
    "data = data.astype(np.float)"
   ]
  },
  {
   "cell_type": "code",
   "execution_count": 18,
   "metadata": {},
   "outputs": [
    {
     "data": {
      "text/plain": [
       "array([194.9691,  96.6032,   1.8819, ..., 493.0527,  38.8922,   0.    ])"
      ]
     },
     "execution_count": 18,
     "metadata": {},
     "output_type": "execute_result"
    }
   ],
   "source": [
    "data[0]"
   ]
  },
  {
   "cell_type": "code",
   "execution_count": 19,
   "metadata": {},
   "outputs": [],
   "source": [
    "labels = labels.astype(np.int)"
   ]
  },
  {
   "cell_type": "code",
   "execution_count": null,
   "metadata": {},
   "outputs": [],
   "source": []
  },
  {
   "cell_type": "code",
   "execution_count": null,
   "metadata": {},
   "outputs": [],
   "source": []
  },
  {
   "cell_type": "markdown",
   "metadata": {},
   "source": [
    "# Now process"
   ]
  },
  {
   "cell_type": "code",
   "execution_count": 20,
   "metadata": {},
   "outputs": [],
   "source": [
    "labels = labels.reshape((len(labels),))\n",
    "\n",
    "X_train2, X_test2, y_train, y_test = train_test_split(data, labels, test_size = 0.3, stratify = labels, random_state = 3)\n",
    "\n",
    "scaler = preprocessing.StandardScaler().fit(X_train2) \n",
    "\n",
    "X_train = scaler.transform(X_train2)\n",
    "X_test = scaler.transform(X_test2)"
   ]
  },
  {
   "cell_type": "code",
   "execution_count": 21,
   "metadata": {},
   "outputs": [
    {
     "name": "stdout",
     "output_type": "stream",
     "text": [
      "---------------------Training-------------------------------\n",
      "Accuracy :  1.0\n",
      "MCC :  1.0\n",
      "Precision :  1.0\n",
      "Recall :  1.0\n",
      "F1 :  1.0\n",
      "---------------------Validation-------------------------------\n",
      "Accuracy :  0.9928571428571429\n",
      "MCC :  0.9683480625721081\n",
      "Precision :  0.9820175438596491\n",
      "Recall :  0.9872972972972972\n",
      "F1 :  0.9833170056731702\n"
     ]
    }
   ],
   "source": [
    "tr_accs,tst_accs,tr_mccs,tst_mccs,tr_ps,tst_ps,tr_rs,tst_rs,tr_f1s,tst_f1s = K_fold(X_train, y_train, 10)\n",
    "print_metrics(tr_accs,tst_accs,tr_mccs,tst_mccs,tr_ps,tst_ps,tr_rs,tst_rs,tr_f1s,tst_f1s)"
   ]
  },
  {
   "cell_type": "code",
   "execution_count": 22,
   "metadata": {},
   "outputs": [],
   "source": [
    "clf = svm.SVC(kernel='linear')"
   ]
  },
  {
   "cell_type": "code",
   "execution_count": 23,
   "metadata": {},
   "outputs": [
    {
     "data": {
      "text/plain": [
       "SVC(C=1.0, cache_size=200, class_weight=None, coef0=0.0,\n",
       "  decision_function_shape='ovr', degree=3, gamma='auto_deprecated',\n",
       "  kernel='linear', max_iter=-1, probability=False, random_state=None,\n",
       "  shrinking=True, tol=0.001, verbose=False)"
      ]
     },
     "execution_count": 23,
     "metadata": {},
     "output_type": "execute_result"
    }
   ],
   "source": [
    "clf.fit(X_train, y_train)"
   ]
  },
  {
   "cell_type": "code",
   "execution_count": 24,
   "metadata": {},
   "outputs": [
    {
     "data": {
      "text/plain": [
       "0.9945054945054945"
      ]
     },
     "execution_count": 24,
     "metadata": {},
     "output_type": "execute_result"
    }
   ],
   "source": [
    "clf.score(X_test, y_test)"
   ]
  },
  {
   "cell_type": "code",
   "execution_count": 25,
   "metadata": {},
   "outputs": [
    {
     "data": {
      "text/plain": [
       "1.0"
      ]
     },
     "execution_count": 25,
     "metadata": {},
     "output_type": "execute_result"
    }
   ],
   "source": [
    "clf.score(X_train, y_train)"
   ]
  },
  {
   "cell_type": "code",
   "execution_count": null,
   "metadata": {},
   "outputs": [],
   "source": []
  },
  {
   "cell_type": "code",
   "execution_count": null,
   "metadata": {},
   "outputs": [],
   "source": []
  },
  {
   "cell_type": "code",
   "execution_count": 26,
   "metadata": {},
   "outputs": [],
   "source": [
    "pca = PCA(n_components=2)"
   ]
  },
  {
   "cell_type": "code",
   "execution_count": 27,
   "metadata": {},
   "outputs": [
    {
     "data": {
      "text/plain": [
       "PCA(copy=True, iterated_power='auto', n_components=2, random_state=None,\n",
       "  svd_solver='auto', tol=0.0, whiten=False)"
      ]
     },
     "execution_count": 27,
     "metadata": {},
     "output_type": "execute_result"
    }
   ],
   "source": [
    "pca.fit(X_train)"
   ]
  },
  {
   "cell_type": "code",
   "execution_count": 28,
   "metadata": {},
   "outputs": [],
   "source": [
    "pca_data = pca.transform(X_train)"
   ]
  },
  {
   "cell_type": "code",
   "execution_count": 29,
   "metadata": {},
   "outputs": [
    {
     "data": {
      "text/plain": [
       "(424, 2)"
      ]
     },
     "execution_count": 29,
     "metadata": {},
     "output_type": "execute_result"
    }
   ],
   "source": [
    "pca_data.shape"
   ]
  },
  {
   "cell_type": "code",
   "execution_count": 30,
   "metadata": {},
   "outputs": [],
   "source": [
    "import seaborn as sns \n",
    "import pandas as pd"
   ]
  },
  {
   "cell_type": "code",
   "execution_count": 31,
   "metadata": {},
   "outputs": [
    {
     "data": {
      "text/plain": [
       "(424, 2)"
      ]
     },
     "execution_count": 31,
     "metadata": {},
     "output_type": "execute_result"
    }
   ],
   "source": [
    "pca_data.shape"
   ]
  },
  {
   "cell_type": "code",
   "execution_count": 32,
   "metadata": {},
   "outputs": [],
   "source": [
    "df = pd.DataFrame(pca_data, columns=[\"x\", \"y\"])"
   ]
  },
  {
   "cell_type": "code",
   "execution_count": 33,
   "metadata": {},
   "outputs": [],
   "source": [
    "df[\"val\"] = pd.Series(y_train).apply(lambda x: \"red\" if x==1 else \"blue\")"
   ]
  },
  {
   "cell_type": "code",
   "execution_count": 34,
   "metadata": {},
   "outputs": [
    {
     "data": {
      "text/plain": [
       "424"
      ]
     },
     "execution_count": 34,
     "metadata": {},
     "output_type": "execute_result"
    }
   ],
   "source": [
    "len(df)"
   ]
  },
  {
   "cell_type": "code",
   "execution_count": 35,
   "metadata": {},
   "outputs": [
    {
     "data": {
      "text/html": [
       "<div>\n",
       "<style scoped>\n",
       "    .dataframe tbody tr th:only-of-type {\n",
       "        vertical-align: middle;\n",
       "    }\n",
       "\n",
       "    .dataframe tbody tr th {\n",
       "        vertical-align: top;\n",
       "    }\n",
       "\n",
       "    .dataframe thead th {\n",
       "        text-align: right;\n",
       "    }\n",
       "</style>\n",
       "<table border=\"1\" class=\"dataframe\">\n",
       "  <thead>\n",
       "    <tr style=\"text-align: right;\">\n",
       "      <th></th>\n",
       "      <th>x</th>\n",
       "      <th>y</th>\n",
       "      <th>val</th>\n",
       "    </tr>\n",
       "  </thead>\n",
       "  <tbody>\n",
       "    <tr>\n",
       "      <th>0</th>\n",
       "      <td>10.585158</td>\n",
       "      <td>-35.899101</td>\n",
       "      <td>red</td>\n",
       "    </tr>\n",
       "    <tr>\n",
       "      <th>1</th>\n",
       "      <td>-27.633672</td>\n",
       "      <td>-18.959546</td>\n",
       "      <td>red</td>\n",
       "    </tr>\n",
       "    <tr>\n",
       "      <th>2</th>\n",
       "      <td>80.327310</td>\n",
       "      <td>23.913575</td>\n",
       "      <td>red</td>\n",
       "    </tr>\n",
       "    <tr>\n",
       "      <th>3</th>\n",
       "      <td>37.596217</td>\n",
       "      <td>8.562821</td>\n",
       "      <td>red</td>\n",
       "    </tr>\n",
       "    <tr>\n",
       "      <th>4</th>\n",
       "      <td>23.465781</td>\n",
       "      <td>-11.528720</td>\n",
       "      <td>red</td>\n",
       "    </tr>\n",
       "    <tr>\n",
       "      <th>5</th>\n",
       "      <td>-9.167420</td>\n",
       "      <td>-43.953092</td>\n",
       "      <td>red</td>\n",
       "    </tr>\n",
       "    <tr>\n",
       "      <th>6</th>\n",
       "      <td>41.368909</td>\n",
       "      <td>39.731756</td>\n",
       "      <td>red</td>\n",
       "    </tr>\n",
       "    <tr>\n",
       "      <th>7</th>\n",
       "      <td>-1.205471</td>\n",
       "      <td>-46.654691</td>\n",
       "      <td>red</td>\n",
       "    </tr>\n",
       "    <tr>\n",
       "      <th>8</th>\n",
       "      <td>-11.073827</td>\n",
       "      <td>-21.437348</td>\n",
       "      <td>red</td>\n",
       "    </tr>\n",
       "    <tr>\n",
       "      <th>9</th>\n",
       "      <td>-28.915439</td>\n",
       "      <td>-19.005069</td>\n",
       "      <td>red</td>\n",
       "    </tr>\n",
       "    <tr>\n",
       "      <th>10</th>\n",
       "      <td>11.353332</td>\n",
       "      <td>-14.900274</td>\n",
       "      <td>red</td>\n",
       "    </tr>\n",
       "    <tr>\n",
       "      <th>11</th>\n",
       "      <td>-83.656369</td>\n",
       "      <td>12.443799</td>\n",
       "      <td>blue</td>\n",
       "    </tr>\n",
       "    <tr>\n",
       "      <th>12</th>\n",
       "      <td>-7.077675</td>\n",
       "      <td>-11.108824</td>\n",
       "      <td>red</td>\n",
       "    </tr>\n",
       "    <tr>\n",
       "      <th>13</th>\n",
       "      <td>74.358830</td>\n",
       "      <td>53.134345</td>\n",
       "      <td>red</td>\n",
       "    </tr>\n",
       "    <tr>\n",
       "      <th>14</th>\n",
       "      <td>-14.880306</td>\n",
       "      <td>-32.306803</td>\n",
       "      <td>red</td>\n",
       "    </tr>\n",
       "    <tr>\n",
       "      <th>15</th>\n",
       "      <td>-86.278906</td>\n",
       "      <td>59.262613</td>\n",
       "      <td>blue</td>\n",
       "    </tr>\n",
       "    <tr>\n",
       "      <th>16</th>\n",
       "      <td>15.010750</td>\n",
       "      <td>-9.357986</td>\n",
       "      <td>red</td>\n",
       "    </tr>\n",
       "    <tr>\n",
       "      <th>17</th>\n",
       "      <td>61.059528</td>\n",
       "      <td>28.249245</td>\n",
       "      <td>red</td>\n",
       "    </tr>\n",
       "    <tr>\n",
       "      <th>18</th>\n",
       "      <td>-22.603527</td>\n",
       "      <td>15.093323</td>\n",
       "      <td>red</td>\n",
       "    </tr>\n",
       "    <tr>\n",
       "      <th>19</th>\n",
       "      <td>-23.890185</td>\n",
       "      <td>-43.211416</td>\n",
       "      <td>red</td>\n",
       "    </tr>\n",
       "    <tr>\n",
       "      <th>20</th>\n",
       "      <td>12.087587</td>\n",
       "      <td>-59.021254</td>\n",
       "      <td>red</td>\n",
       "    </tr>\n",
       "    <tr>\n",
       "      <th>21</th>\n",
       "      <td>48.746405</td>\n",
       "      <td>38.887047</td>\n",
       "      <td>red</td>\n",
       "    </tr>\n",
       "    <tr>\n",
       "      <th>22</th>\n",
       "      <td>60.206837</td>\n",
       "      <td>11.486899</td>\n",
       "      <td>red</td>\n",
       "    </tr>\n",
       "    <tr>\n",
       "      <th>23</th>\n",
       "      <td>-93.886190</td>\n",
       "      <td>47.791073</td>\n",
       "      <td>blue</td>\n",
       "    </tr>\n",
       "    <tr>\n",
       "      <th>24</th>\n",
       "      <td>58.137505</td>\n",
       "      <td>2.293797</td>\n",
       "      <td>red</td>\n",
       "    </tr>\n",
       "    <tr>\n",
       "      <th>25</th>\n",
       "      <td>-79.163361</td>\n",
       "      <td>47.724680</td>\n",
       "      <td>blue</td>\n",
       "    </tr>\n",
       "    <tr>\n",
       "      <th>26</th>\n",
       "      <td>39.997152</td>\n",
       "      <td>-34.995778</td>\n",
       "      <td>red</td>\n",
       "    </tr>\n",
       "    <tr>\n",
       "      <th>27</th>\n",
       "      <td>-11.055885</td>\n",
       "      <td>-8.525078</td>\n",
       "      <td>red</td>\n",
       "    </tr>\n",
       "    <tr>\n",
       "      <th>28</th>\n",
       "      <td>15.924095</td>\n",
       "      <td>-50.013902</td>\n",
       "      <td>red</td>\n",
       "    </tr>\n",
       "    <tr>\n",
       "      <th>29</th>\n",
       "      <td>28.754731</td>\n",
       "      <td>27.656388</td>\n",
       "      <td>red</td>\n",
       "    </tr>\n",
       "    <tr>\n",
       "      <th>...</th>\n",
       "      <td>...</td>\n",
       "      <td>...</td>\n",
       "      <td>...</td>\n",
       "    </tr>\n",
       "    <tr>\n",
       "      <th>394</th>\n",
       "      <td>41.958135</td>\n",
       "      <td>-2.641659</td>\n",
       "      <td>red</td>\n",
       "    </tr>\n",
       "    <tr>\n",
       "      <th>395</th>\n",
       "      <td>-54.535382</td>\n",
       "      <td>89.148152</td>\n",
       "      <td>red</td>\n",
       "    </tr>\n",
       "    <tr>\n",
       "      <th>396</th>\n",
       "      <td>89.165360</td>\n",
       "      <td>-0.240064</td>\n",
       "      <td>red</td>\n",
       "    </tr>\n",
       "    <tr>\n",
       "      <th>397</th>\n",
       "      <td>29.757975</td>\n",
       "      <td>-0.859550</td>\n",
       "      <td>red</td>\n",
       "    </tr>\n",
       "    <tr>\n",
       "      <th>398</th>\n",
       "      <td>5.364604</td>\n",
       "      <td>-18.694904</td>\n",
       "      <td>red</td>\n",
       "    </tr>\n",
       "    <tr>\n",
       "      <th>399</th>\n",
       "      <td>-29.029512</td>\n",
       "      <td>-37.603606</td>\n",
       "      <td>red</td>\n",
       "    </tr>\n",
       "    <tr>\n",
       "      <th>400</th>\n",
       "      <td>63.174234</td>\n",
       "      <td>32.370513</td>\n",
       "      <td>red</td>\n",
       "    </tr>\n",
       "    <tr>\n",
       "      <th>401</th>\n",
       "      <td>-21.047054</td>\n",
       "      <td>-29.091641</td>\n",
       "      <td>red</td>\n",
       "    </tr>\n",
       "    <tr>\n",
       "      <th>402</th>\n",
       "      <td>13.962301</td>\n",
       "      <td>-13.074925</td>\n",
       "      <td>red</td>\n",
       "    </tr>\n",
       "    <tr>\n",
       "      <th>403</th>\n",
       "      <td>92.693940</td>\n",
       "      <td>60.098464</td>\n",
       "      <td>red</td>\n",
       "    </tr>\n",
       "    <tr>\n",
       "      <th>404</th>\n",
       "      <td>15.534961</td>\n",
       "      <td>-33.848892</td>\n",
       "      <td>red</td>\n",
       "    </tr>\n",
       "    <tr>\n",
       "      <th>405</th>\n",
       "      <td>3.888497</td>\n",
       "      <td>-30.861122</td>\n",
       "      <td>red</td>\n",
       "    </tr>\n",
       "    <tr>\n",
       "      <th>406</th>\n",
       "      <td>143.929337</td>\n",
       "      <td>94.120220</td>\n",
       "      <td>red</td>\n",
       "    </tr>\n",
       "    <tr>\n",
       "      <th>407</th>\n",
       "      <td>3.612483</td>\n",
       "      <td>-42.967606</td>\n",
       "      <td>red</td>\n",
       "    </tr>\n",
       "    <tr>\n",
       "      <th>408</th>\n",
       "      <td>3.351924</td>\n",
       "      <td>-27.843945</td>\n",
       "      <td>red</td>\n",
       "    </tr>\n",
       "    <tr>\n",
       "      <th>409</th>\n",
       "      <td>21.985826</td>\n",
       "      <td>-22.482518</td>\n",
       "      <td>red</td>\n",
       "    </tr>\n",
       "    <tr>\n",
       "      <th>410</th>\n",
       "      <td>73.032086</td>\n",
       "      <td>1.112980</td>\n",
       "      <td>red</td>\n",
       "    </tr>\n",
       "    <tr>\n",
       "      <th>411</th>\n",
       "      <td>41.111486</td>\n",
       "      <td>12.566731</td>\n",
       "      <td>red</td>\n",
       "    </tr>\n",
       "    <tr>\n",
       "      <th>412</th>\n",
       "      <td>15.632219</td>\n",
       "      <td>-17.262058</td>\n",
       "      <td>red</td>\n",
       "    </tr>\n",
       "    <tr>\n",
       "      <th>413</th>\n",
       "      <td>5.402536</td>\n",
       "      <td>-33.061768</td>\n",
       "      <td>red</td>\n",
       "    </tr>\n",
       "    <tr>\n",
       "      <th>414</th>\n",
       "      <td>34.514227</td>\n",
       "      <td>-39.255773</td>\n",
       "      <td>red</td>\n",
       "    </tr>\n",
       "    <tr>\n",
       "      <th>415</th>\n",
       "      <td>20.592566</td>\n",
       "      <td>28.318411</td>\n",
       "      <td>red</td>\n",
       "    </tr>\n",
       "    <tr>\n",
       "      <th>416</th>\n",
       "      <td>-5.582810</td>\n",
       "      <td>-6.753473</td>\n",
       "      <td>red</td>\n",
       "    </tr>\n",
       "    <tr>\n",
       "      <th>417</th>\n",
       "      <td>17.693520</td>\n",
       "      <td>-13.854432</td>\n",
       "      <td>red</td>\n",
       "    </tr>\n",
       "    <tr>\n",
       "      <th>418</th>\n",
       "      <td>17.970921</td>\n",
       "      <td>-51.424024</td>\n",
       "      <td>red</td>\n",
       "    </tr>\n",
       "    <tr>\n",
       "      <th>419</th>\n",
       "      <td>-1.507771</td>\n",
       "      <td>10.060950</td>\n",
       "      <td>red</td>\n",
       "    </tr>\n",
       "    <tr>\n",
       "      <th>420</th>\n",
       "      <td>17.906155</td>\n",
       "      <td>-39.715663</td>\n",
       "      <td>red</td>\n",
       "    </tr>\n",
       "    <tr>\n",
       "      <th>421</th>\n",
       "      <td>16.216232</td>\n",
       "      <td>-20.820395</td>\n",
       "      <td>red</td>\n",
       "    </tr>\n",
       "    <tr>\n",
       "      <th>422</th>\n",
       "      <td>39.267189</td>\n",
       "      <td>23.905408</td>\n",
       "      <td>red</td>\n",
       "    </tr>\n",
       "    <tr>\n",
       "      <th>423</th>\n",
       "      <td>-92.322751</td>\n",
       "      <td>43.899161</td>\n",
       "      <td>blue</td>\n",
       "    </tr>\n",
       "  </tbody>\n",
       "</table>\n",
       "<p>424 rows × 3 columns</p>\n",
       "</div>"
      ],
      "text/plain": [
       "              x          y   val\n",
       "0     10.585158 -35.899101   red\n",
       "1    -27.633672 -18.959546   red\n",
       "2     80.327310  23.913575   red\n",
       "3     37.596217   8.562821   red\n",
       "4     23.465781 -11.528720   red\n",
       "5     -9.167420 -43.953092   red\n",
       "6     41.368909  39.731756   red\n",
       "7     -1.205471 -46.654691   red\n",
       "8    -11.073827 -21.437348   red\n",
       "9    -28.915439 -19.005069   red\n",
       "10    11.353332 -14.900274   red\n",
       "11   -83.656369  12.443799  blue\n",
       "12    -7.077675 -11.108824   red\n",
       "13    74.358830  53.134345   red\n",
       "14   -14.880306 -32.306803   red\n",
       "15   -86.278906  59.262613  blue\n",
       "16    15.010750  -9.357986   red\n",
       "17    61.059528  28.249245   red\n",
       "18   -22.603527  15.093323   red\n",
       "19   -23.890185 -43.211416   red\n",
       "20    12.087587 -59.021254   red\n",
       "21    48.746405  38.887047   red\n",
       "22    60.206837  11.486899   red\n",
       "23   -93.886190  47.791073  blue\n",
       "24    58.137505   2.293797   red\n",
       "25   -79.163361  47.724680  blue\n",
       "26    39.997152 -34.995778   red\n",
       "27   -11.055885  -8.525078   red\n",
       "28    15.924095 -50.013902   red\n",
       "29    28.754731  27.656388   red\n",
       "..          ...        ...   ...\n",
       "394   41.958135  -2.641659   red\n",
       "395  -54.535382  89.148152   red\n",
       "396   89.165360  -0.240064   red\n",
       "397   29.757975  -0.859550   red\n",
       "398    5.364604 -18.694904   red\n",
       "399  -29.029512 -37.603606   red\n",
       "400   63.174234  32.370513   red\n",
       "401  -21.047054 -29.091641   red\n",
       "402   13.962301 -13.074925   red\n",
       "403   92.693940  60.098464   red\n",
       "404   15.534961 -33.848892   red\n",
       "405    3.888497 -30.861122   red\n",
       "406  143.929337  94.120220   red\n",
       "407    3.612483 -42.967606   red\n",
       "408    3.351924 -27.843945   red\n",
       "409   21.985826 -22.482518   red\n",
       "410   73.032086   1.112980   red\n",
       "411   41.111486  12.566731   red\n",
       "412   15.632219 -17.262058   red\n",
       "413    5.402536 -33.061768   red\n",
       "414   34.514227 -39.255773   red\n",
       "415   20.592566  28.318411   red\n",
       "416   -5.582810  -6.753473   red\n",
       "417   17.693520 -13.854432   red\n",
       "418   17.970921 -51.424024   red\n",
       "419   -1.507771  10.060950   red\n",
       "420   17.906155 -39.715663   red\n",
       "421   16.216232 -20.820395   red\n",
       "422   39.267189  23.905408   red\n",
       "423  -92.322751  43.899161  blue\n",
       "\n",
       "[424 rows x 3 columns]"
      ]
     },
     "execution_count": 35,
     "metadata": {},
     "output_type": "execute_result"
    }
   ],
   "source": [
    "df"
   ]
  },
  {
   "cell_type": "code",
   "execution_count": 36,
   "metadata": {},
   "outputs": [
    {
     "data": {
      "text/plain": [
       "[]"
      ]
     },
     "execution_count": 36,
     "metadata": {},
     "output_type": "execute_result"
    },
    {
     "data": {
      "image/png": "[encoded data removed]",
      "text/plain": [
       "<Figure size 432x288 with 1 Axes>"
      ]
     },
     "metadata": {
      "needs_background": "light"
     },
     "output_type": "display_data"
    }
   ],
   "source": [
    "fig, ax = plt.subplots()\n",
    "ax.scatter(x=df[\"x\"], y=df[\"y\"], c=df[\"val\"])\n",
    "plt.plot()"
   ]
  },
  {
   "cell_type": "code",
   "execution_count": 37,
   "metadata": {},
   "outputs": [],
   "source": [
    "from sklearn.metrics import matthews_corrcoef"
   ]
  },
  {
   "cell_type": "code",
   "execution_count": 38,
   "metadata": {},
   "outputs": [
    {
     "data": {
      "text/plain": [
       "0.9739695071153479"
      ]
     },
     "execution_count": 38,
     "metadata": {},
     "output_type": "execute_result"
    }
   ],
   "source": [
    "pred = clf.predict(X_test)\n",
    "\n",
    "matthews_corrcoef(y_test, pred)"
   ]
  },
  {
   "cell_type": "code",
   "execution_count": 39,
   "metadata": {},
   "outputs": [
    {
     "data": {
      "text/plain": [
       "1.0"
      ]
     },
     "execution_count": 39,
     "metadata": {},
     "output_type": "execute_result"
    }
   ],
   "source": [
    "pred = clf.predict(X_train)\n",
    "\n",
    "matthews_corrcoef(y_train, pred)"
   ]
  },
  {
   "cell_type": "code",
   "execution_count": null,
   "metadata": {},
   "outputs": [],
   "source": []
  },
  {
   "cell_type": "code",
   "execution_count": null,
   "metadata": {},
   "outputs": [],
   "source": []
  },
  {
   "cell_type": "code",
   "execution_count": null,
   "metadata": {},
   "outputs": [],
   "source": []
  },
  {
   "cell_type": "code",
   "execution_count": 40,
   "metadata": {},
   "outputs": [
    {
     "name": "stderr",
     "output_type": "stream",
     "text": [
      "C:\\Users\\Gurpreet\\AppData\\Local\\Continuum\\anaconda3\\lib\\site-packages\\sklearn\\ensemble\\forest.py:246: FutureWarning: The default value of n_estimators will change from 10 in version 0.20 to 100 in 0.22.\n",
      "  \"10 in version 0.20 to 100 in 0.22.\", FutureWarning)\n"
     ]
    },
    {
     "data": {
      "text/plain": [
       "ExtraTreesClassifier(bootstrap=False, class_weight=None, criterion='gini',\n",
       "           max_depth=None, max_features='auto', max_leaf_nodes=None,\n",
       "           min_impurity_decrease=0.0, min_impurity_split=None,\n",
       "           min_samples_leaf=1, min_samples_split=2,\n",
       "           min_weight_fraction_leaf=0.0, n_estimators=10, n_jobs=None,\n",
       "           oob_score=False, random_state=3, verbose=0, warm_start=False)"
      ]
     },
     "execution_count": 40,
     "metadata": {},
     "output_type": "execute_result"
    }
   ],
   "source": [
    "from sklearn.ensemble import ExtraTreesClassifier\n",
    "model = ExtraTreesClassifier(random_state = 3)\n",
    "\n",
    "model.fit(X_train2,y_train)"
   ]
  },
  {
   "cell_type": "code",
   "execution_count": 41,
   "metadata": {},
   "outputs": [
    {
     "name": "stdout",
     "output_type": "stream",
     "text": [
      "424\n",
      "182\n"
     ]
    }
   ],
   "source": [
    "df = pd.DataFrame(data=X_train2[0:,0:],index=[i for i in range(X_train2.shape[0])], columns=['f'+str(i) for i in range(X_train2.shape[1])])\n",
    "\n",
    "print(len(df))\n",
    "\n",
    "df2 = pd.DataFrame(data=X_test2[0:,0:],index=[i for i in range(X_test2.shape[0])], columns=['f'+str(i) for i in range(X_test2.shape[1])])\n",
    "\n",
    "print(len(df2))"
   ]
  },
  {
   "cell_type": "code",
   "execution_count": 42,
   "metadata": {},
   "outputs": [
    {
     "data": {
      "image/png": "[encoded data removed]",
      "text/plain": [
       "<Figure size 432x288 with 1 Axes>"
      ]
     },
     "metadata": {
      "needs_background": "light"
     },
     "output_type": "display_data"
    }
   ],
   "source": [
    "feat_importances = pd.Series(model.feature_importances_, index=df.columns)\n",
    "feat_importances.nlargest(2).plot(kind='barh')\n",
    "plt.show()"
   ]
  },
  {
   "cell_type": "code",
   "execution_count": null,
   "metadata": {},
   "outputs": [],
   "source": []
  },
  {
   "cell_type": "code",
   "execution_count": 44,
   "metadata": {},
   "outputs": [
    {
     "name": "stdout",
     "output_type": "stream",
     "text": [
      "Index(['f156', 'f18228'], dtype='object')\n"
     ]
    }
   ],
   "source": [
    "fi = pd.Series(model.feature_importances_, index=df.columns)\n",
    "\n",
    "ftr = fi.nlargest(2)\n",
    "\n",
    "print(ftr.index)"
   ]
  },
  {
   "cell_type": "code",
   "execution_count": 45,
   "metadata": {},
   "outputs": [
    {
     "name": "stdout",
     "output_type": "stream",
     "text": [
      "(424, 2)\n",
      "(182, 2)\n"
     ]
    }
   ],
   "source": [
    "npar = []\n",
    "for i in range(len(ftr.index)):\n",
    "    npar.append(df[ftr.index[i]].values)\n",
    "\n",
    "npar = np.array(npar).T\n",
    "\n",
    "print(npar.shape)\n",
    "\n",
    "\n",
    "npar2 = []\n",
    "for i in range(len(ftr.index)):\n",
    "    npar2.append(df2[ftr.index[i]].values)\n",
    "\n",
    "npar2 = np.array(npar2).T\n",
    "\n",
    "print(npar2.shape)\n",
    "\n",
    "\n",
    "\n",
    "\n",
    "\n",
    "scaler = preprocessing.StandardScaler().fit(npar)\n",
    "\n",
    "X_train = scaler.transform(npar)\n",
    "\n",
    "X_test = scaler.transform(npar2)"
   ]
  },
  {
   "cell_type": "code",
   "execution_count": 46,
   "metadata": {},
   "outputs": [
    {
     "name": "stdout",
     "output_type": "stream",
     "text": [
      "---------------------Training-------------------------------\n",
      "Accuracy :  0.9691099476439792\n",
      "MCC :  0.8441738348193335\n",
      "Precision :  0.9781448733629581\n",
      "Recall :  0.8727398615232443\n",
      "F1 :  0.9166604279921217\n",
      "---------------------Validation-------------------------------\n",
      "Accuracy :  0.9666666666666666\n",
      "MCC :  0.8316252403901924\n",
      "Precision :  0.9618773935879199\n",
      "Recall :  0.8772972972972972\n",
      "F1 :  0.9098679468942628\n"
     ]
    }
   ],
   "source": [
    "tr_accs,tst_accs,tr_mccs,tst_mccs,tr_ps,tst_ps,tr_rs,tst_rs,tr_f1s,tst_f1s = K_fold(X_train, y_train, 10)\n",
    "print_metrics(tr_accs,tst_accs,tr_mccs,tst_mccs,tr_ps,tst_ps,tr_rs,tst_rs,tr_f1s,tst_f1s)"
   ]
  },
  {
   "cell_type": "code",
   "execution_count": 47,
   "metadata": {},
   "outputs": [
    {
     "data": {
      "text/plain": [
       "SVC(C=1.0, cache_size=200, class_weight=None, coef0=0.0,\n",
       "  decision_function_shape='ovr', degree=3, gamma='auto_deprecated',\n",
       "  kernel='linear', max_iter=-1, probability=True, random_state=None,\n",
       "  shrinking=True, tol=0.001, verbose=False)"
      ]
     },
     "execution_count": 47,
     "metadata": {},
     "output_type": "execute_result"
    }
   ],
   "source": [
    "clf = svm.SVC(kernel='linear', probability = True)\n",
    "\n",
    "clf.fit(X_train, y_train)"
   ]
  },
  {
   "cell_type": "code",
   "execution_count": 48,
   "metadata": {},
   "outputs": [
    {
     "data": {
      "text/plain": [
       "0.978021978021978"
      ]
     },
     "execution_count": 48,
     "metadata": {},
     "output_type": "execute_result"
    }
   ],
   "source": [
    "clf.score(X_test, y_test)"
   ]
  },
  {
   "cell_type": "code",
   "execution_count": 49,
   "metadata": {},
   "outputs": [
    {
     "data": {
      "text/plain": [
       "0.9693396226415094"
      ]
     },
     "execution_count": 49,
     "metadata": {},
     "output_type": "execute_result"
    }
   ],
   "source": [
    "clf.score(X_train, y_train)"
   ]
  },
  {
   "cell_type": "code",
   "execution_count": 50,
   "metadata": {},
   "outputs": [
    {
     "data": {
      "text/plain": [
       "0.8456607587342865"
      ]
     },
     "execution_count": 50,
     "metadata": {},
     "output_type": "execute_result"
    }
   ],
   "source": [
    "pred = clf.predict(X_train)\n",
    "\n",
    "matthews_corrcoef(y_train, pred)"
   ]
  },
  {
   "cell_type": "code",
   "execution_count": 51,
   "metadata": {},
   "outputs": [
    {
     "data": {
      "text/plain": [
       "0.8934350362952097"
      ]
     },
     "execution_count": 51,
     "metadata": {},
     "output_type": "execute_result"
    }
   ],
   "source": [
    "pred = clf.predict(X_test)\n",
    "\n",
    "matthews_corrcoef(y_test, pred)"
   ]
  },
  {
   "cell_type": "code",
   "execution_count": 52,
   "metadata": {},
   "outputs": [
    {
     "name": "stdout",
     "output_type": "stream",
     "text": [
      "ACOT12\n",
      "TMEM207\n"
     ]
    }
   ],
   "source": [
    "import pickle\n",
    "with open('my_dict_ft.pkl', 'rb') as fp:\n",
    "    dct = pickle.load(fp)\n",
    "\n",
    "for i in range(len(ftr)):\n",
    "    print(dct[ftr.index[i]])"
   ]
  },
  {
   "cell_type": "code",
   "execution_count": 53,
   "metadata": {},
   "outputs": [
    {
     "data": {
      "text/plain": [
       "(0.9878048780487805, 0.9090909090909092, 0.9438271604938271, None)"
      ]
     },
     "execution_count": 53,
     "metadata": {},
     "output_type": "execute_result"
    }
   ],
   "source": [
    "from sklearn.metrics import precision_recall_fscore_support\n",
    "\n",
    "precision_recall_fscore_support(y_test, pred, average='macro')"
   ]
  },
  {
   "cell_type": "code",
   "execution_count": 54,
   "metadata": {},
   "outputs": [
    {
     "name": "stderr",
     "output_type": "stream",
     "text": [
      "C:\\Users\\Gurpreet\\AppData\\Local\\Continuum\\anaconda3\\lib\\site-packages\\sklearn\\utils\\deprecation.py:77: DeprecationWarning: Function plot_roc_curve is deprecated; This will be removed in v0.5.0. Please use scikitplot.metrics.plot_roc instead.\n",
      "  warnings.warn(msg, category=DeprecationWarning)\n"
     ]
    },
    {
     "data": {
      "image/png": "[encoded data removed]",
      "text/plain": [
       "<Figure size 432x288 with 1 Axes>"
      ]
     },
     "metadata": {
      "needs_background": "light"
     },
     "output_type": "display_data"
    }
   ],
   "source": [
    "import scikitplot as skplt\n",
    "\n",
    "y_probas = clf.predict_proba(X_test)\n",
    "skplt.metrics.plot_roc_curve(y_test, y_probas)\n",
    "plt.show()"
   ]
  },
  {
   "cell_type": "code",
   "execution_count": 55,
   "metadata": {},
   "outputs": [
    {
     "name": "stdout",
     "output_type": "stream",
     "text": [
      "---------------------Training-------------------------------\n",
      "Accuracy :  0.9662303664921467\n",
      "MCC :  0.8284965868748987\n",
      "Precision :  0.9565312198232581\n",
      "Recall :  0.8759215298384438\n",
      "F1 :  0.9109633449763155\n",
      "---------------------Validation-------------------------------\n",
      "Accuracy :  0.9642857142857142\n",
      "MCC :  0.8170054820917023\n",
      "Precision :  0.9606914961520225\n",
      "Recall :  0.8672972972972973\n",
      "F1 :  0.9003071129913234\n"
     ]
    },
    {
     "name": "stderr",
     "output_type": "stream",
     "text": [
      "C:\\Users\\Gurpreet\\AppData\\Local\\Continuum\\anaconda3\\lib\\site-packages\\sklearn\\linear_model\\logistic.py:433: FutureWarning: Default solver will be changed to 'lbfgs' in 0.22. Specify a solver to silence this warning.\n",
      "  FutureWarning)\n",
      "C:\\Users\\Gurpreet\\AppData\\Local\\Continuum\\anaconda3\\lib\\site-packages\\sklearn\\linear_model\\logistic.py:433: FutureWarning: Default solver will be changed to 'lbfgs' in 0.22. Specify a solver to silence this warning.\n",
      "  FutureWarning)\n",
      "C:\\Users\\Gurpreet\\AppData\\Local\\Continuum\\anaconda3\\lib\\site-packages\\sklearn\\linear_model\\logistic.py:433: FutureWarning: Default solver will be changed to 'lbfgs' in 0.22. Specify a solver to silence this warning.\n",
      "  FutureWarning)\n",
      "C:\\Users\\Gurpreet\\AppData\\Local\\Continuum\\anaconda3\\lib\\site-packages\\sklearn\\linear_model\\logistic.py:433: FutureWarning: Default solver will be changed to 'lbfgs' in 0.22. Specify a solver to silence this warning.\n",
      "  FutureWarning)\n",
      "C:\\Users\\Gurpreet\\AppData\\Local\\Continuum\\anaconda3\\lib\\site-packages\\sklearn\\linear_model\\logistic.py:433: FutureWarning: Default solver will be changed to 'lbfgs' in 0.22. Specify a solver to silence this warning.\n",
      "  FutureWarning)\n",
      "C:\\Users\\Gurpreet\\AppData\\Local\\Continuum\\anaconda3\\lib\\site-packages\\sklearn\\linear_model\\logistic.py:433: FutureWarning: Default solver will be changed to 'lbfgs' in 0.22. Specify a solver to silence this warning.\n",
      "  FutureWarning)\n",
      "C:\\Users\\Gurpreet\\AppData\\Local\\Continuum\\anaconda3\\lib\\site-packages\\sklearn\\linear_model\\logistic.py:433: FutureWarning: Default solver will be changed to 'lbfgs' in 0.22. Specify a solver to silence this warning.\n",
      "  FutureWarning)\n",
      "C:\\Users\\Gurpreet\\AppData\\Local\\Continuum\\anaconda3\\lib\\site-packages\\sklearn\\linear_model\\logistic.py:433: FutureWarning: Default solver will be changed to 'lbfgs' in 0.22. Specify a solver to silence this warning.\n",
      "  FutureWarning)\n",
      "C:\\Users\\Gurpreet\\AppData\\Local\\Continuum\\anaconda3\\lib\\site-packages\\sklearn\\linear_model\\logistic.py:433: FutureWarning: Default solver will be changed to 'lbfgs' in 0.22. Specify a solver to silence this warning.\n",
      "  FutureWarning)\n",
      "C:\\Users\\Gurpreet\\AppData\\Local\\Continuum\\anaconda3\\lib\\site-packages\\sklearn\\linear_model\\logistic.py:433: FutureWarning: Default solver will be changed to 'lbfgs' in 0.22. Specify a solver to silence this warning.\n",
      "  FutureWarning)\n"
     ]
    }
   ],
   "source": [
    "tr_accs,tst_accs,tr_mccs,tst_mccs,tr_ps,tst_ps,tr_rs,tst_rs,tr_f1s,tst_f1s = K_fold2(X_train, y_train, 10)\n",
    "print_metrics(tr_accs,tst_accs,tr_mccs,tst_mccs,tr_ps,tst_ps,tr_rs,tst_rs,tr_f1s,tst_f1s)"
   ]
  },
  {
   "cell_type": "code",
   "execution_count": 56,
   "metadata": {},
   "outputs": [
    {
     "name": "stdout",
     "output_type": "stream",
     "text": [
      "Accuracy :  0.967032967032967\n",
      "MCC :  0.8372489242911723\n",
      "Precission :  0.9819277108433735\n",
      "Recall :  0.8636363636363636\n",
      "F1 :  0.9118501775912173\n"
     ]
    },
    {
     "name": "stderr",
     "output_type": "stream",
     "text": [
      "C:\\Users\\Gurpreet\\AppData\\Local\\Continuum\\anaconda3\\lib\\site-packages\\sklearn\\linear_model\\logistic.py:433: FutureWarning: Default solver will be changed to 'lbfgs' in 0.22. Specify a solver to silence this warning.\n",
      "  FutureWarning)\n"
     ]
    }
   ],
   "source": [
    "from sklearn.linear_model import LogisticRegression\n",
    "\n",
    "clf = LogisticRegression(random_state=0)\n",
    "\n",
    "clf.fit(X_train,y_train)\n",
    "\n",
    "prd = clf.predict(X_test)\n",
    "\n",
    "print(\"Accuracy : \",clf.score(X_test, y_test))\n",
    "\n",
    "print(\"MCC : \",matthews_corrcoef(y_test, prd))\n",
    "\n",
    "prf = precision_recall_fscore_support(y_test, prd, average='macro')\n",
    "print(\"Precission : \",prf[0])\n",
    "print(\"Recall : \",prf[1])\n",
    "print(\"F1 : \",prf[2])"
   ]
  },
  {
   "cell_type": "code",
   "execution_count": 57,
   "metadata": {},
   "outputs": [
    {
     "name": "stderr",
     "output_type": "stream",
     "text": [
      "C:\\Users\\Gurpreet\\AppData\\Local\\Continuum\\anaconda3\\lib\\site-packages\\sklearn\\utils\\deprecation.py:77: DeprecationWarning: Function plot_roc_curve is deprecated; This will be removed in v0.5.0. Please use scikitplot.metrics.plot_roc instead.\n",
      "  warnings.warn(msg, category=DeprecationWarning)\n"
     ]
    },
    {
     "data": {
      "image/png": "[encoded data removed]",
      "text/plain": [
       "<Figure size 432x288 with 1 Axes>"
      ]
     },
     "metadata": {
      "needs_background": "light"
     },
     "output_type": "display_data"
    }
   ],
   "source": [
    "y_probas = clf.predict_proba(X_test)\n",
    "skplt.metrics.plot_roc_curve(y_test, y_probas)\n",
    "plt.show()"
   ]
  },
  {
   "cell_type": "code",
   "execution_count": null,
   "metadata": {},
   "outputs": [],
   "source": []
  },
  {
   "cell_type": "code",
   "execution_count": 58,
   "metadata": {},
   "outputs": [
    {
     "name": "stdout",
     "output_type": "stream",
     "text": [
      "---------------------Training-------------------------------\n",
      "Accuracy :  0.9853403141361256\n",
      "MCC :  0.9280087091881573\n",
      "Precision :  0.991829052452385\n",
      "Recall :  0.9377777777777778\n",
      "F1 :  0.9626724680935828\n",
      "---------------------Validation-------------------------------\n",
      "Accuracy :  0.9833333333333334\n",
      "MCC :  0.9127909989360719\n",
      "Precision :  0.991054318488529\n",
      "Recall :  0.93\n",
      "F1 :  0.9503631427052479\n"
     ]
    },
    {
     "name": "stderr",
     "output_type": "stream",
     "text": [
      "C:\\Users\\Gurpreet\\AppData\\Local\\Continuum\\anaconda3\\lib\\site-packages\\sklearn\\linear_model\\logistic.py:433: FutureWarning: Default solver will be changed to 'lbfgs' in 0.22. Specify a solver to silence this warning.\n",
      "  FutureWarning)\n",
      "C:\\Users\\Gurpreet\\AppData\\Local\\Continuum\\anaconda3\\lib\\site-packages\\sklearn\\linear_model\\logistic.py:433: FutureWarning: Default solver will be changed to 'lbfgs' in 0.22. Specify a solver to silence this warning.\n",
      "  FutureWarning)\n",
      "C:\\Users\\Gurpreet\\AppData\\Local\\Continuum\\anaconda3\\lib\\site-packages\\sklearn\\linear_model\\logistic.py:433: FutureWarning: Default solver will be changed to 'lbfgs' in 0.22. Specify a solver to silence this warning.\n",
      "  FutureWarning)\n",
      "C:\\Users\\Gurpreet\\AppData\\Local\\Continuum\\anaconda3\\lib\\site-packages\\sklearn\\linear_model\\logistic.py:433: FutureWarning: Default solver will be changed to 'lbfgs' in 0.22. Specify a solver to silence this warning.\n",
      "  FutureWarning)\n",
      "C:\\Users\\Gurpreet\\AppData\\Local\\Continuum\\anaconda3\\lib\\site-packages\\sklearn\\linear_model\\logistic.py:433: FutureWarning: Default solver will be changed to 'lbfgs' in 0.22. Specify a solver to silence this warning.\n",
      "  FutureWarning)\n",
      "C:\\Users\\Gurpreet\\AppData\\Local\\Continuum\\anaconda3\\lib\\site-packages\\sklearn\\linear_model\\logistic.py:433: FutureWarning: Default solver will be changed to 'lbfgs' in 0.22. Specify a solver to silence this warning.\n",
      "  FutureWarning)\n",
      "C:\\Users\\Gurpreet\\AppData\\Local\\Continuum\\anaconda3\\lib\\site-packages\\sklearn\\linear_model\\logistic.py:433: FutureWarning: Default solver will be changed to 'lbfgs' in 0.22. Specify a solver to silence this warning.\n",
      "  FutureWarning)\n",
      "C:\\Users\\Gurpreet\\AppData\\Local\\Continuum\\anaconda3\\lib\\site-packages\\sklearn\\linear_model\\logistic.py:433: FutureWarning: Default solver will be changed to 'lbfgs' in 0.22. Specify a solver to silence this warning.\n",
      "  FutureWarning)\n",
      "C:\\Users\\Gurpreet\\AppData\\Local\\Continuum\\anaconda3\\lib\\site-packages\\sklearn\\linear_model\\logistic.py:433: FutureWarning: Default solver will be changed to 'lbfgs' in 0.22. Specify a solver to silence this warning.\n",
      "  FutureWarning)\n",
      "C:\\Users\\Gurpreet\\AppData\\Local\\Continuum\\anaconda3\\lib\\site-packages\\sklearn\\linear_model\\logistic.py:433: FutureWarning: Default solver will be changed to 'lbfgs' in 0.22. Specify a solver to silence this warning.\n",
      "  FutureWarning)\n"
     ]
    }
   ],
   "source": [
    "from sklearn.feature_selection import SelectKBest, chi2\n",
    "\n",
    "skb = SelectKBest(chi2, k=2).fit(X_train2, y_train)\n",
    "X_now_train = skb.transform(X_train2)\n",
    "X_now_test = skb.transform(X_test2)\n",
    "\n",
    "\n",
    "scaler = preprocessing.StandardScaler().fit(X_now_train)\n",
    "X_now_train = scaler.transform(X_now_train)\n",
    "X_now_test = scaler.transform(X_now_test)\n",
    "\n",
    "tr_accs,tst_accs,tr_mccs,tst_mccs,tr_ps,tst_ps,tr_rs,tst_rs,tr_f1s,tst_f1s = K_fold2(X_now_train, y_train, 10)\n",
    "print_metrics(tr_accs,tst_accs,tr_mccs,tst_mccs,tr_ps,tst_ps,tr_rs,tst_rs,tr_f1s,tst_f1s)"
   ]
  },
  {
   "cell_type": "code",
   "execution_count": 59,
   "metadata": {},
   "outputs": [
    {
     "name": "stdout",
     "output_type": "stream",
     "text": [
      "Accuracy :  0.9725274725274725\n",
      "MCC :  0.8656276883082242\n",
      "Precission :  0.9848484848484849\n",
      "Recall :  0.8863636363636364\n",
      "F1 :  0.9282051282051282\n"
     ]
    },
    {
     "name": "stderr",
     "output_type": "stream",
     "text": [
      "C:\\Users\\Gurpreet\\AppData\\Local\\Continuum\\anaconda3\\lib\\site-packages\\sklearn\\linear_model\\logistic.py:433: FutureWarning: Default solver will be changed to 'lbfgs' in 0.22. Specify a solver to silence this warning.\n",
      "  FutureWarning)\n"
     ]
    }
   ],
   "source": [
    "clf = LogisticRegression(random_state=0)\n",
    "\n",
    "clf.fit(X_now_train,y_train)\n",
    "\n",
    "prd = clf.predict(X_now_test)\n",
    "\n",
    "print(\"Accuracy : \",clf.score(X_now_test, y_test))\n",
    "\n",
    "print(\"MCC : \",matthews_corrcoef(y_test, prd))\n",
    "\n",
    "prf = precision_recall_fscore_support(y_test, prd, average='macro')\n",
    "print(\"Precission : \",prf[0])\n",
    "print(\"Recall : \",prf[1])\n",
    "print(\"F1 : \",prf[2])"
   ]
  },
  {
   "cell_type": "code",
   "execution_count": null,
   "metadata": {},
   "outputs": [],
   "source": []
  },
  {
   "cell_type": "code",
   "execution_count": null,
   "metadata": {},
   "outputs": [],
   "source": []
  }
 ],
 "metadata": {
  "kernelspec": {
   "display_name": "Python 3",
   "language": "python",
   "name": "python3"
  },
  "language_info": {
   "codemirror_mode": {
    "name": "ipython",
    "version": 3
   },
   "file_extension": ".py",
   "mimetype": "text/x-python",
   "name": "python",
   "nbconvert_exporter": "python",
   "pygments_lexer": "ipython3",
   "version": "3.7.1"
  }
 },
 "nbformat": 4,
 "nbformat_minor": 2
}
