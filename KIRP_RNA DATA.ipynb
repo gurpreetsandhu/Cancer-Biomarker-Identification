{
 "cells": [
  {
   "cell_type": "code",
   "execution_count": 1,
   "metadata": {},
   "outputs": [],
   "source": [
    "import numpy as np\n",
    "import copy"
   ]
  },
  {
   "cell_type": "code",
   "execution_count": 2,
   "metadata": {},
   "outputs": [],
   "source": [
    "f = open(\"KIRP__RNAExp.txt\",\"r\")"
   ]
  },
  {
   "cell_type": "code",
   "execution_count": 3,
   "metadata": {},
   "outputs": [
    {
     "data": {
      "text/plain": [
       "<_io.TextIOWrapper name='KIRP__RNAExp.txt' mode='r' encoding='cp1252'>"
      ]
     },
     "execution_count": 3,
     "metadata": {},
     "output_type": "execute_result"
    }
   ],
   "source": [
    "f"
   ]
  },
  {
   "cell_type": "code",
   "execution_count": 4,
   "metadata": {},
   "outputs": [],
   "source": [
    "dt = f.readlines()"
   ]
  },
  {
   "cell_type": "code",
   "execution_count": 5,
   "metadata": {},
   "outputs": [],
   "source": [
    "l = []\n",
    "for i in range(len(dt)):\n",
    "    l.append(dt[i].split(\"\\t\"))"
   ]
  },
  {
   "cell_type": "code",
   "execution_count": 6,
   "metadata": {},
   "outputs": [],
   "source": [
    "f.close()"
   ]
  },
  {
   "cell_type": "code",
   "execution_count": 7,
   "metadata": {},
   "outputs": [
    {
     "data": {
      "text/plain": [
       "20531"
      ]
     },
     "execution_count": 7,
     "metadata": {},
     "output_type": "execute_result"
    }
   ],
   "source": [
    "len(l)"
   ]
  },
  {
   "cell_type": "code",
   "execution_count": 8,
   "metadata": {},
   "outputs": [
    {
     "data": {
      "text/plain": [
       "325"
      ]
     },
     "execution_count": 8,
     "metadata": {},
     "output_type": "execute_result"
    }
   ],
   "source": [
    "len(l[34])"
   ]
  },
  {
   "cell_type": "code",
   "execution_count": 10,
   "metadata": {},
   "outputs": [
    {
     "data": {
      "text/plain": [
       "'38294.8786\\n'"
      ]
     },
     "execution_count": 10,
     "metadata": {},
     "output_type": "execute_result"
    }
   ],
   "source": [
    "l[34][324]"
   ]
  },
  {
   "cell_type": "code",
   "execution_count": 11,
   "metadata": {},
   "outputs": [],
   "source": [
    "for i in range(len(l)):\n",
    "    l[i][324] = l[i][324].split(\"\\n\")[0]"
   ]
  },
  {
   "cell_type": "code",
   "execution_count": 12,
   "metadata": {},
   "outputs": [
    {
     "data": {
      "text/plain": [
       "['GeneSymbol',\n",
       " 'EntrezID',\n",
       " 'TCGA-2K-A9WE-01A-11R-A38C-07',\n",
       " 'TCGA-2Z-A9J1-01A-11R-A38C-07',\n",
       " 'TCGA-2Z-A9J2-01A-11R-A38C-07',\n",
       " 'TCGA-2Z-A9J3-01A-12R-A38C-07',\n",
       " 'TCGA-2Z-A9J5-01A-21R-A38C-07',\n",
       " 'TCGA-2Z-A9J6-01A-11R-A38C-07',\n",
       " 'TCGA-2Z-A9J7-01A-11R-A38C-07',\n",
       " 'TCGA-2Z-A9J8-01A-11R-A42S-07',\n",
       " 'TCGA-2Z-A9J9-01A-11R-A42S-07',\n",
       " 'TCGA-2Z-A9JD-01A-11R-A42S-07',\n",
       " 'TCGA-2Z-A9JE-01A-11R-A42S-07',\n",
       " 'TCGA-2Z-A9JG-01A-11R-A42S-07',\n",
       " 'TCGA-2Z-A9JI-01A-11R-A42S-07',\n",
       " 'TCGA-2Z-A9JJ-01A-11R-A42S-07',\n",
       " 'TCGA-2Z-A9JK-01A-11R-A42S-07',\n",
       " 'TCGA-2Z-A9JL-01A-11R-A42S-07',\n",
       " 'TCGA-2Z-A9JM-01A-12R-A42S-07',\n",
       " 'TCGA-2Z-A9JN-01A-21R-A42S-07',\n",
       " 'TCGA-2Z-A9JO-01A-11R-A42S-07',\n",
       " 'TCGA-2Z-A9JP-01A-11R-A42S-07',\n",
       " 'TCGA-2Z-A9JQ-01A-11R-A42S-07',\n",
       " 'TCGA-2Z-A9JR-01A-12R-A42S-07',\n",
       " 'TCGA-2Z-A9JS-01A-21R-A42S-07',\n",
       " 'TCGA-2Z-A9JT-01A-11R-A42S-07',\n",
       " 'TCGA-4A-A93W-01A-11R-A37K-07',\n",
       " 'TCGA-4A-A93X-01A-11R-A37K-07',\n",
       " 'TCGA-4A-A93Y-01A-11R-A37K-07',\n",
       " 'TCGA-5P-A9JU-01A-11R-A42S-07',\n",
       " 'TCGA-5P-A9JV-01A-12R-A42S-07',\n",
       " 'TCGA-5P-A9JW-01A-11R-A42S-07',\n",
       " 'TCGA-5P-A9JY-01A-11R-A42S-07',\n",
       " 'TCGA-5P-A9JZ-01A-11R-A42S-07',\n",
       " 'TCGA-5P-A9K0-01A-11R-A42S-07',\n",
       " 'TCGA-5P-A9K2-01A-11R-A42S-07',\n",
       " 'TCGA-5P-A9K3-01A-11R-A42S-07',\n",
       " 'TCGA-5P-A9K4-01A-11R-A42S-07',\n",
       " 'TCGA-5P-A9K6-01A-11R-A42S-07',\n",
       " 'TCGA-5P-A9K8-01A-11R-A42S-07',\n",
       " 'TCGA-5P-A9K9-01A-11R-A42S-07',\n",
       " 'TCGA-5P-A9KA-01A-11R-A42S-07',\n",
       " 'TCGA-5P-A9KC-01A-11R-A42S-07',\n",
       " 'TCGA-5P-A9KE-01A-11R-A42S-07',\n",
       " 'TCGA-5P-A9KF-01A-11R-A42S-07',\n",
       " 'TCGA-5P-A9KH-01A-11R-A42S-07',\n",
       " 'TCGA-A4-7286-01A-11R-A32Z-07',\n",
       " 'TCGA-A4-7287-01A-11R-2139-07',\n",
       " 'TCGA-A4-7288-01A-11R-A32Z-07',\n",
       " 'TCGA-A4-7583-01A-11R-A32Z-07',\n",
       " 'TCGA-A4-7584-01A-11R-2139-07',\n",
       " 'TCGA-A4-7585-01A-11R-2139-07',\n",
       " 'TCGA-A4-7732-01A-11R-2139-07',\n",
       " 'TCGA-A4-7734-01A-11R-A32Z-07',\n",
       " 'TCGA-A4-7828-01A-11R-2139-07',\n",
       " 'TCGA-A4-7915-01A-11R-2204-07',\n",
       " 'TCGA-A4-7996-01A-11R-2204-07',\n",
       " 'TCGA-A4-7997-01A-11R-2204-07',\n",
       " 'TCGA-A4-8098-01A-11R-2404-07',\n",
       " 'TCGA-A4-8310-01A-11R-2404-07',\n",
       " 'TCGA-A4-8311-01A-11R-2404-07',\n",
       " 'TCGA-A4-8312-01A-11R-2404-07',\n",
       " 'TCGA-A4-8515-01A-11R-2404-07',\n",
       " 'TCGA-A4-8516-01A-11R-2404-07',\n",
       " 'TCGA-A4-8517-01A-11R-2404-07',\n",
       " 'TCGA-A4-8518-01A-11R-2404-07',\n",
       " 'TCGA-A4-8630-01A-11R-2404-07',\n",
       " 'TCGA-A4-A48D-01A-11R-A24Z-07',\n",
       " 'TCGA-A4-A4ZT-01A-11R-A26U-07',\n",
       " 'TCGA-A4-A4ZT-11A-11R-A26U-07',\n",
       " 'TCGA-A4-A57E-01A-11R-A26U-07',\n",
       " 'TCGA-A4-A57E-11A-11R-A26U-07',\n",
       " 'TCGA-A4-A5DU-01A-11R-A28H-07',\n",
       " 'TCGA-A4-A5XZ-01A-11R-A31O-07',\n",
       " 'TCGA-A4-A5Y0-01A-11R-A31O-07',\n",
       " 'TCGA-A4-A5Y1-01A-11R-A28H-07',\n",
       " 'TCGA-A4-A6HP-01A-11R-A31O-07',\n",
       " 'TCGA-A4-A772-01A-11R-A33Z-07',\n",
       " 'TCGA-A4-A7UZ-01A-12R-A355-07',\n",
       " 'TCGA-AL-3466-01A-02R-1351-07',\n",
       " 'TCGA-AL-3467-01A-02R-1351-07',\n",
       " 'TCGA-AL-3468-01A-02R-1351-07',\n",
       " 'TCGA-AL-3471-01A-02R-1351-07',\n",
       " 'TCGA-AL-3472-01A-01R-1193-07',\n",
       " 'TCGA-AL-3473-01A-01R-1193-07',\n",
       " 'TCGA-AL-7173-01A-11R-2139-07',\n",
       " 'TCGA-AL-A5DJ-01A-11R-A26U-07',\n",
       " 'TCGA-AT-A5NU-01A-11R-A28H-07',\n",
       " 'TCGA-B1-5398-01A-02R-1592-07',\n",
       " 'TCGA-B1-7332-01A-11R-A32Z-07',\n",
       " 'TCGA-B1-A47M-01A-11R-A24Z-07',\n",
       " 'TCGA-B1-A47N-01A-11R-A24Z-07',\n",
       " 'TCGA-B1-A47O-01A-11R-A24Z-07',\n",
       " 'TCGA-B1-A654-01A-11R-A31O-07',\n",
       " 'TCGA-B1-A655-01A-11R-A31O-07',\n",
       " 'TCGA-B1-A656-01A-11R-A31O-07',\n",
       " 'TCGA-B1-A657-01A-11R-A31O-07',\n",
       " 'TCGA-B3-3925-01A-02R-1351-07',\n",
       " 'TCGA-B3-3926-01A-02R-1351-07',\n",
       " 'TCGA-B3-4103-01A-02R-1351-07',\n",
       " 'TCGA-B3-4104-01A-02R-1351-07',\n",
       " 'TCGA-B3-8121-01A-21R-2404-07',\n",
       " 'TCGA-B3-A6W5-01A-12R-A33Z-07',\n",
       " 'TCGA-B9-4113-01A-01R-1193-07',\n",
       " 'TCGA-B9-4114-01A-01R-1193-07',\n",
       " 'TCGA-B9-4115-01A-01R-1193-07',\n",
       " 'TCGA-B9-4115-11A-01R-1758-07',\n",
       " 'TCGA-B9-4116-01A-02R-1351-07',\n",
       " 'TCGA-B9-4117-01A-02R-1351-07',\n",
       " 'TCGA-B9-4617-01A-01R-1193-07',\n",
       " 'TCGA-B9-5155-01A-01R-1592-07',\n",
       " 'TCGA-B9-5156-01A-01R-1592-07',\n",
       " 'TCGA-B9-7268-01A-11R-A32Z-07',\n",
       " 'TCGA-B9-A44B-01A-11R-A24Z-07',\n",
       " 'TCGA-B9-A5W7-01A-11R-A31O-07',\n",
       " 'TCGA-B9-A5W8-01A-11R-A28H-07',\n",
       " 'TCGA-B9-A5W9-01A-11R-A28H-07',\n",
       " 'TCGA-B9-A69E-01A-11R-A31O-07',\n",
       " 'TCGA-B9-A8YH-01A-11R-A37K-07',\n",
       " 'TCGA-B9-A8YI-01A-21R-A37K-07',\n",
       " 'TCGA-BQ-5875-01A-11R-1592-07',\n",
       " 'TCGA-BQ-5875-11A-01R-1592-07',\n",
       " 'TCGA-BQ-5876-01A-11R-1592-07',\n",
       " 'TCGA-BQ-5877-01A-11R-1592-07',\n",
       " 'TCGA-BQ-5877-11A-01R-1592-07',\n",
       " 'TCGA-BQ-5878-01A-11R-1592-07',\n",
       " 'TCGA-BQ-5878-11A-01R-1592-07',\n",
       " 'TCGA-BQ-5879-01A-11R-1592-07',\n",
       " 'TCGA-BQ-5879-11A-01R-1592-07',\n",
       " 'TCGA-BQ-5880-01A-11R-1592-07',\n",
       " 'TCGA-BQ-5881-01A-11R-1592-07',\n",
       " 'TCGA-BQ-5882-01A-11R-1592-07',\n",
       " 'TCGA-BQ-5882-11A-01R-1592-07',\n",
       " 'TCGA-BQ-5883-01A-11R-1592-07',\n",
       " 'TCGA-BQ-5884-01A-11R-1592-07',\n",
       " 'TCGA-BQ-5884-11A-01R-1592-07',\n",
       " 'TCGA-BQ-5885-01A-11R-1592-07',\n",
       " 'TCGA-BQ-5886-01A-11R-1592-07',\n",
       " 'TCGA-BQ-5887-01A-11R-1965-07',\n",
       " 'TCGA-BQ-5887-11A-01R-1965-07',\n",
       " 'TCGA-BQ-5888-01A-11R-1592-07',\n",
       " 'TCGA-BQ-5888-11A-01R-1592-07',\n",
       " 'TCGA-BQ-5889-01A-11R-1592-07',\n",
       " 'TCGA-BQ-5890-01A-11R-1592-07',\n",
       " 'TCGA-BQ-5890-11A-01R-1592-07',\n",
       " 'TCGA-BQ-5891-01A-11R-1592-07',\n",
       " 'TCGA-BQ-5891-11A-01R-1592-07',\n",
       " 'TCGA-BQ-5892-01A-11R-1592-07',\n",
       " 'TCGA-BQ-5893-01A-11R-1592-07',\n",
       " 'TCGA-BQ-5894-01A-11R-1592-07',\n",
       " 'TCGA-BQ-5894-11A-01R-1592-07',\n",
       " 'TCGA-BQ-7044-01A-11R-1965-07',\n",
       " 'TCGA-BQ-7044-11A-01R-1965-07',\n",
       " 'TCGA-BQ-7045-01A-31R-1965-07',\n",
       " 'TCGA-BQ-7045-11A-01R-1965-07',\n",
       " 'TCGA-BQ-7046-01A-11R-1965-07',\n",
       " 'TCGA-BQ-7046-11A-01R-1965-07',\n",
       " 'TCGA-BQ-7048-01A-11R-1965-07',\n",
       " 'TCGA-BQ-7049-01A-11R-1965-07',\n",
       " 'TCGA-BQ-7050-01A-11R-1965-07',\n",
       " 'TCGA-BQ-7051-01A-12R-1965-07',\n",
       " 'TCGA-BQ-7051-11A-02R-1965-07',\n",
       " 'TCGA-BQ-7053-01A-11R-1965-07',\n",
       " 'TCGA-BQ-7055-01A-11R-1965-07',\n",
       " 'TCGA-BQ-7055-11A-01R-1965-07',\n",
       " 'TCGA-BQ-7056-01A-11R-1965-07',\n",
       " 'TCGA-BQ-7058-01A-11R-1965-07',\n",
       " 'TCGA-BQ-7059-01A-11R-1965-07',\n",
       " 'TCGA-BQ-7059-11A-01R-1965-07',\n",
       " 'TCGA-BQ-7060-01A-11R-1965-07',\n",
       " 'TCGA-BQ-7061-01A-11R-1965-07',\n",
       " 'TCGA-BQ-7061-11A-01R-1965-07',\n",
       " 'TCGA-BQ-7062-01A-11R-1965-07',\n",
       " 'TCGA-DW-5560-01A-01R-1592-07',\n",
       " 'TCGA-DW-5561-01A-01R-1592-07',\n",
       " 'TCGA-DW-7834-01A-11R-2139-07',\n",
       " 'TCGA-DW-7836-01A-11R-2139-07',\n",
       " 'TCGA-DW-7837-01A-11R-2139-07',\n",
       " 'TCGA-DW-7838-01A-11R-2139-07',\n",
       " 'TCGA-DW-7839-01A-11R-2139-07',\n",
       " 'TCGA-DW-7840-01A-11R-A32Z-07',\n",
       " 'TCGA-DW-7841-01A-11R-A32Z-07',\n",
       " 'TCGA-DW-7842-01A-11R-A32Z-07',\n",
       " 'TCGA-DW-7963-01B-11R-A28H-07',\n",
       " 'TCGA-DZ-6131-01A-11R-1965-07',\n",
       " 'TCGA-DZ-6131-11A-01R-1965-07',\n",
       " 'TCGA-DZ-6132-01A-11R-1965-07',\n",
       " 'TCGA-DZ-6132-11A-01R-1965-07',\n",
       " 'TCGA-DZ-6133-01A-11R-1965-07',\n",
       " 'TCGA-DZ-6133-11A-01R-1965-07',\n",
       " 'TCGA-DZ-6134-01A-11R-1965-07',\n",
       " 'TCGA-DZ-6134-11A-01R-1965-07',\n",
       " 'TCGA-DZ-6135-01A-11R-1965-07',\n",
       " 'TCGA-EV-5901-01A-11R-1592-07',\n",
       " 'TCGA-EV-5902-01A-11R-1592-07',\n",
       " 'TCGA-EV-5903-01A-11R-1592-07',\n",
       " 'TCGA-F9-A4JJ-01A-11R-A24Z-07',\n",
       " 'TCGA-F9-A7Q0-01A-11R-A36F-07',\n",
       " 'TCGA-F9-A7VF-01A-11R-A33Z-07',\n",
       " 'TCGA-F9-A8NY-01A-11R-A36F-07',\n",
       " 'TCGA-F9-A97G-01A-11R-A38C-07',\n",
       " 'TCGA-G7-6789-01A-11R-1965-07',\n",
       " 'TCGA-G7-6790-01A-11R-1965-07',\n",
       " 'TCGA-G7-6792-01A-21R-1965-07',\n",
       " 'TCGA-G7-6793-01A-11R-1965-07',\n",
       " 'TCGA-G7-6795-01A-11R-1965-07',\n",
       " 'TCGA-G7-6796-01A-11R-1965-07',\n",
       " 'TCGA-G7-6797-01A-11R-1965-07',\n",
       " 'TCGA-G7-7501-01A-11R-2204-07',\n",
       " 'TCGA-G7-7502-01A-11R-2204-07',\n",
       " 'TCGA-G7-A4TM-01A-11R-A31O-07',\n",
       " 'TCGA-G7-A8LB-01A-11R-A36F-07',\n",
       " 'TCGA-G7-A8LC-01A-11R-A36F-07',\n",
       " 'TCGA-G7-A8LD-01A-11R-A36F-07',\n",
       " 'TCGA-G7-A8LE-01A-11R-A36F-07',\n",
       " 'TCGA-GL-6846-01A-11R-1965-07',\n",
       " 'TCGA-GL-6846-11A-01R-1965-07',\n",
       " 'TCGA-GL-7773-01A-11R-A32Z-07',\n",
       " 'TCGA-GL-7966-01A-11R-2204-07',\n",
       " 'TCGA-GL-7966-11A-01R-2204-07',\n",
       " 'TCGA-GL-8500-01A-11R-2404-07',\n",
       " 'TCGA-GL-A4EM-01A-11R-A24Z-07',\n",
       " 'TCGA-GL-A59R-01A-11R-A26U-07',\n",
       " 'TCGA-GL-A59R-11A-11R-A26U-07',\n",
       " 'TCGA-GL-A59T-01A-21R-A28H-07',\n",
       " 'TCGA-GL-A9DC-01A-11R-A37K-07',\n",
       " 'TCGA-GL-A9DD-01A-11R-A37K-07',\n",
       " 'TCGA-GL-A9DE-01A-11R-A37K-07',\n",
       " 'TCGA-GL-A9DE-11A-11R-A37K-07',\n",
       " 'TCGA-HE-7128-01A-11R-1965-07',\n",
       " 'TCGA-HE-7129-01A-11R-1965-07',\n",
       " 'TCGA-HE-7130-01A-11R-1965-07',\n",
       " 'TCGA-HE-A5NF-01A-11R-A26U-07',\n",
       " 'TCGA-HE-A5NH-01A-11R-A26U-07',\n",
       " 'TCGA-HE-A5NI-01A-11R-A26U-07',\n",
       " 'TCGA-HE-A5NJ-01A-11R-A26U-07',\n",
       " 'TCGA-HE-A5NK-01A-11R-A26U-07',\n",
       " 'TCGA-HE-A5NL-01A-11R-A26U-07',\n",
       " 'TCGA-IA-A40U-01A-11R-A24Z-07',\n",
       " 'TCGA-IA-A40X-01A-11R-A24Z-07',\n",
       " 'TCGA-IA-A40Y-01A-11R-A24Z-07',\n",
       " 'TCGA-IA-A83S-01A-11R-A355-07',\n",
       " 'TCGA-IA-A83T-01A-11R-A355-07',\n",
       " 'TCGA-IA-A83V-01A-11R-A355-07',\n",
       " 'TCGA-IA-A83W-01A-11R-A355-07',\n",
       " 'TCGA-IZ-8195-01A-31R-2404-07',\n",
       " 'TCGA-IZ-8196-01A-11R-2404-07',\n",
       " 'TCGA-IZ-A6M8-01A-11R-A31O-07',\n",
       " 'TCGA-IZ-A6M9-01A-11R-A31O-07',\n",
       " 'TCGA-J7-6720-01A-11R-2139-07',\n",
       " 'TCGA-J7-8537-01A-11R-2404-07',\n",
       " 'TCGA-J7-A8I2-01A-12R-A36F-07',\n",
       " 'TCGA-KV-A6GD-01A-11R-A31O-07',\n",
       " 'TCGA-KV-A6GE-01A-11R-A31O-07',\n",
       " 'TCGA-KV-A74V-01A-11R-A33Z-07',\n",
       " 'TCGA-MH-A55W-01A-11R-A26U-07',\n",
       " 'TCGA-MH-A55Z-01A-11R-A26U-07',\n",
       " 'TCGA-MH-A560-01A-11R-A26U-07',\n",
       " 'TCGA-MH-A561-01A-11R-A26U-07',\n",
       " 'TCGA-MH-A562-01A-11R-A26U-07',\n",
       " 'TCGA-MH-A854-01A-11R-A355-07',\n",
       " 'TCGA-MH-A855-01A-11R-A355-07',\n",
       " 'TCGA-MH-A856-01A-11R-A355-07',\n",
       " 'TCGA-MH-A857-01A-11R-A355-07',\n",
       " 'TCGA-O9-A75Z-01A-11R-A33Z-07',\n",
       " 'TCGA-P4-A5E6-01A-11R-A28H-07',\n",
       " 'TCGA-P4-A5E7-01A-31R-A28H-07',\n",
       " 'TCGA-P4-A5E8-01A-11R-A28H-07',\n",
       " 'TCGA-P4-A5E8-11A-12R-A28H-07',\n",
       " 'TCGA-P4-A5EA-01A-11R-A28H-07',\n",
       " 'TCGA-P4-A5EB-01A-11R-A28H-07',\n",
       " 'TCGA-P4-A5ED-01A-11R-A28H-07',\n",
       " 'TCGA-P4-A5ED-11A-11R-A28H-07',\n",
       " 'TCGA-P4-AAVK-01A-11R-A42S-07',\n",
       " 'TCGA-P4-AAVL-01A-11R-A42S-07',\n",
       " 'TCGA-P4-AAVM-01A-11R-A42S-07',\n",
       " 'TCGA-P4-AAVO-01A-11R-A42S-07',\n",
       " 'TCGA-PJ-A5Z8-01A-11R-A28H-07',\n",
       " 'TCGA-PJ-A5Z9-01A-11R-A28H-07',\n",
       " 'TCGA-Q2-A5QZ-01A-11R-A28H-07',\n",
       " 'TCGA-SX-A71R-01A-12R-A33Z-07',\n",
       " 'TCGA-SX-A71S-01A-11R-A33Z-07',\n",
       " 'TCGA-SX-A71U-01A-12R-A33Z-07',\n",
       " 'TCGA-SX-A71V-01A-11R-A33Z-07',\n",
       " 'TCGA-SX-A71W-01A-12R-A355-07',\n",
       " 'TCGA-SX-A7SL-01A-11R-A355-07',\n",
       " 'TCGA-SX-A7SM-01A-11R-A355-07',\n",
       " 'TCGA-SX-A7SN-01A-11R-A355-07',\n",
       " 'TCGA-SX-A7SO-01A-11R-A355-07',\n",
       " 'TCGA-SX-A7SP-01A-11R-A355-07',\n",
       " 'TCGA-SX-A7SQ-01A-12R-A36F-07',\n",
       " 'TCGA-SX-A7SR-01A-12R-A36F-07',\n",
       " 'TCGA-SX-A7SS-01A-11R-A36F-07',\n",
       " 'TCGA-SX-A7SU-01A-11R-A36F-07',\n",
       " 'TCGA-UN-AAZ9-01A-11R-A38C-07',\n",
       " 'TCGA-UZ-A9PJ-01A-11R-A38C-07',\n",
       " 'TCGA-UZ-A9PK-01A-11R-A38C-07',\n",
       " 'TCGA-UZ-A9PL-01A-11R-A38C-07',\n",
       " 'TCGA-UZ-A9PM-01A-21R-A38C-07',\n",
       " 'TCGA-UZ-A9PN-01A-11R-A38C-07',\n",
       " 'TCGA-UZ-A9PO-01A-11R-A38C-07',\n",
       " 'TCGA-UZ-A9PP-01A-11R-A42S-07',\n",
       " 'TCGA-UZ-A9PQ-01A-11R-A42S-07',\n",
       " 'TCGA-UZ-A9PR-01A-11R-A42S-07',\n",
       " 'TCGA-UZ-A9PS-01A-11R-A42S-07',\n",
       " 'TCGA-UZ-A9PS-05A-11R-A42S-07',\n",
       " 'TCGA-UZ-A9PU-01A-11R-A42S-07',\n",
       " 'TCGA-UZ-A9PV-01A-11R-A42S-07',\n",
       " 'TCGA-UZ-A9PX-01A-11R-A42S-07',\n",
       " 'TCGA-UZ-A9PZ-01A-11R-A42S-07',\n",
       " 'TCGA-UZ-A9Q0-01A-12R-A42S-07',\n",
       " 'TCGA-UZ-A9Q1-01A-11R-A42S-07',\n",
       " 'TCGA-V9-A7HT-01A-11R-A33Z-07',\n",
       " 'TCGA-WN-A9G9-01A-12R-A37K-07',\n",
       " 'TCGA-WN-AB4C-01A-11R-A42S-07',\n",
       " 'TCGA-Y8-A894-01A-11R-A36F-07',\n",
       " 'TCGA-Y8-A895-01A-11R-A36F-07',\n",
       " 'TCGA-Y8-A896-01A-11R-A36F-07',\n",
       " 'TCGA-Y8-A897-01A-11R-A36F-07',\n",
       " 'TCGA-Y8-A898-01A-11R-A355-07',\n",
       " 'TCGA-Y8-A8RY-01A-11R-A37K-07',\n",
       " 'TCGA-Y8-A8RY-11A-11R-A37K-07',\n",
       " 'TCGA-Y8-A8RZ-01A-11R-A37K-07',\n",
       " 'TCGA-Y8-A8S0-01A-11R-A37K-07',\n",
       " 'TCGA-Y8-A8S1-01A-11R-A37K-07']"
      ]
     },
     "execution_count": 12,
     "metadata": {},
     "output_type": "execute_result"
    }
   ],
   "source": [
    "l[0]"
   ]
  },
  {
   "cell_type": "code",
   "execution_count": 13,
   "metadata": {},
   "outputs": [
    {
     "data": {
      "text/plain": [
       "['?',\n",
       " '100133144',\n",
       " '5.0494',\n",
       " '8.0387',\n",
       " '2.8619',\n",
       " '5.8053',\n",
       " '1.3098',\n",
       " '10.1249',\n",
       " '9.2934',\n",
       " '7.8431',\n",
       " '9.1399',\n",
       " '9.5539',\n",
       " '6.6314',\n",
       " '9.7467',\n",
       " '9.1998',\n",
       " '15.1856',\n",
       " '12.4712',\n",
       " '37.5259',\n",
       " '16.5285',\n",
       " '2.5942',\n",
       " '1.0473',\n",
       " '0',\n",
       " '7.5364',\n",
       " '20.2035',\n",
       " '22.3933',\n",
       " '1.8009',\n",
       " '6.9446',\n",
       " '4.8491',\n",
       " '2.6388',\n",
       " '4.607',\n",
       " '6.3222',\n",
       " '6.7364',\n",
       " '5.1797',\n",
       " '12.75',\n",
       " '11.4569',\n",
       " '4.3894',\n",
       " '9.8005',\n",
       " '9.3439',\n",
       " '18.4038',\n",
       " '3.7194',\n",
       " '12.7867',\n",
       " '29.7625',\n",
       " '8.3251',\n",
       " '5.7169',\n",
       " '28.6595',\n",
       " '8.3512',\n",
       " '0',\n",
       " '12.5596',\n",
       " '5.8366',\n",
       " '9.8907',\n",
       " '8.1723',\n",
       " '2.0096',\n",
       " '13.4885',\n",
       " '20',\n",
       " '3.3675',\n",
       " '0.7762',\n",
       " '17.2092',\n",
       " '10.3428',\n",
       " '3.3794',\n",
       " '5.3775',\n",
       " '17.2818',\n",
       " '0.8653',\n",
       " '5.2734',\n",
       " '4.6884',\n",
       " '12.0562',\n",
       " '1.807',\n",
       " '13.2994',\n",
       " '0',\n",
       " '7.8188',\n",
       " '11.3893',\n",
       " '4.569',\n",
       " '2.0146',\n",
       " '5.4994',\n",
       " '10.0587',\n",
       " '13.5275',\n",
       " '6.3238',\n",
       " '11.129',\n",
       " '5.5174',\n",
       " '10.432',\n",
       " '22.0707',\n",
       " '20.283',\n",
       " '18.5194',\n",
       " '35.0768',\n",
       " '5.9262',\n",
       " '3.2042',\n",
       " '8.0767',\n",
       " '2.832',\n",
       " '6.6941',\n",
       " '1.5909',\n",
       " '5.5398',\n",
       " '5.7389',\n",
       " '2.1868',\n",
       " '25.8573',\n",
       " '7.7766',\n",
       " '6.9802',\n",
       " '2.443',\n",
       " '5.9836',\n",
       " '22.2054',\n",
       " '2.0941',\n",
       " '18.5324',\n",
       " '50.438',\n",
       " '10.918',\n",
       " '8.5037',\n",
       " '10.326',\n",
       " '0',\n",
       " '5.1532',\n",
       " '0',\n",
       " '15.1681',\n",
       " '18.2295',\n",
       " '2.1233',\n",
       " '0',\n",
       " '2.8145',\n",
       " '3.0715',\n",
       " '0',\n",
       " '8.3723',\n",
       " '0.7803',\n",
       " '6.8232',\n",
       " '3.0001',\n",
       " '14.2874',\n",
       " '4.8229',\n",
       " '1.8812',\n",
       " '4.8304',\n",
       " '3.6177',\n",
       " '3.5537',\n",
       " '0.4824',\n",
       " '10.585',\n",
       " '2.6382',\n",
       " '0.52',\n",
       " '5.2622',\n",
       " '4.7881',\n",
       " '3.3788',\n",
       " '0.6366',\n",
       " '4.7412',\n",
       " '6.0502',\n",
       " '2.4904',\n",
       " '1.2056',\n",
       " '10.483',\n",
       " '1.1498',\n",
       " '0.7291',\n",
       " '5.6447',\n",
       " '1.1861',\n",
       " '5.6512',\n",
       " '1.0922',\n",
       " '1.8938',\n",
       " '1.6269',\n",
       " '5.2267',\n",
       " '1.1374',\n",
       " '3.3396',\n",
       " '4.5912',\n",
       " '3.3599',\n",
       " '1.2478',\n",
       " '4.5425',\n",
       " '3.6352',\n",
       " '0',\n",
       " '0',\n",
       " '3.8122',\n",
       " '0.8868',\n",
       " '7.6038',\n",
       " '8.065',\n",
       " '7.9518',\n",
       " '13.129',\n",
       " '6.726',\n",
       " '8.2063',\n",
       " '6.1178',\n",
       " '11.9811',\n",
       " '12.4825',\n",
       " '6.2043',\n",
       " '4.6622',\n",
       " '11.3747',\n",
       " '6.1486',\n",
       " '6.1665',\n",
       " '11.5088',\n",
       " '7.5939',\n",
       " '16.6958',\n",
       " '27.9958',\n",
       " '6.8899',\n",
       " '3.3479',\n",
       " '7.7133',\n",
       " '7.986',\n",
       " '13.7233',\n",
       " '3.3146',\n",
       " '13.1853',\n",
       " '26.9342',\n",
       " '0',\n",
       " '6.403',\n",
       " '8.7261',\n",
       " '8.3053',\n",
       " '5.9956',\n",
       " '6.8367',\n",
       " '2.2005',\n",
       " '6.2537',\n",
       " '3.5635',\n",
       " '7.3837',\n",
       " '15.4618',\n",
       " '19.2738',\n",
       " '7.0403',\n",
       " '4.1954',\n",
       " '3.3957',\n",
       " '1.1501',\n",
       " '5.6143',\n",
       " '3.2453',\n",
       " '4.2583',\n",
       " '0.6837',\n",
       " '4.792',\n",
       " '7.9789',\n",
       " '0.3219',\n",
       " '0',\n",
       " '9.5729',\n",
       " '3.0733',\n",
       " '9.0731',\n",
       " '18.891',\n",
       " '7.119',\n",
       " '2.1185',\n",
       " '20.3528',\n",
       " '44.0345',\n",
       " '4.075',\n",
       " '0',\n",
       " '14.2695',\n",
       " '12.8911',\n",
       " '9.4474',\n",
       " '4.8611',\n",
       " '1.9433',\n",
       " '3.7282',\n",
       " '1.7052',\n",
       " '5.7895',\n",
       " '8.5559',\n",
       " '17.321',\n",
       " '0.439',\n",
       " '9.5685',\n",
       " '6.4039',\n",
       " '6.1279',\n",
       " '8.8564',\n",
       " '0',\n",
       " '6.1274',\n",
       " '5.3348',\n",
       " '11.3036',\n",
       " '0',\n",
       " '4.2941',\n",
       " '5.7782',\n",
       " '10.0047',\n",
       " '18.8415',\n",
       " '0',\n",
       " '0',\n",
       " '0',\n",
       " '21.2814',\n",
       " '2.4896',\n",
       " '19.6022',\n",
       " '2.6933',\n",
       " '6.0356',\n",
       " '2.5912',\n",
       " '0.7961',\n",
       " '11.4329',\n",
       " '3.8596',\n",
       " '3.6802',\n",
       " '3.0531',\n",
       " '16.9665',\n",
       " '0.8265',\n",
       " '2.2173',\n",
       " '3.9123',\n",
       " '1.0199',\n",
       " '3.289',\n",
       " '1.9145',\n",
       " '34.636',\n",
       " '0',\n",
       " '20.1143',\n",
       " '4.8795',\n",
       " '6.0379',\n",
       " '6.2857',\n",
       " '0',\n",
       " '0',\n",
       " '5.359',\n",
       " '0',\n",
       " '7.7034',\n",
       " '4.0292',\n",
       " '0',\n",
       " '1.7873',\n",
       " '1.8639',\n",
       " '3.5338',\n",
       " '6.3501',\n",
       " '3.643',\n",
       " '38.8806',\n",
       " '42.7286',\n",
       " '18.2961',\n",
       " '14.7875',\n",
       " '8.9811',\n",
       " '0',\n",
       " '4.588',\n",
       " '12.2131',\n",
       " '9.2054',\n",
       " '9.4097',\n",
       " '15.0833',\n",
       " '25.199',\n",
       " '19.519',\n",
       " '49.7746',\n",
       " '4.4256',\n",
       " '19.5691',\n",
       " '11.9337',\n",
       " '9.8096',\n",
       " '1.7476',\n",
       " '19.7702',\n",
       " '6.967',\n",
       " '17.5886',\n",
       " '11.7005',\n",
       " '43.6143',\n",
       " '14.506',\n",
       " '0.7843',\n",
       " '28.372',\n",
       " '29.6708',\n",
       " '25.5214',\n",
       " '24.4987',\n",
       " '8.598',\n",
       " '7.8395',\n",
       " '10.1143',\n",
       " '0.843',\n",
       " '3.3053',\n",
       " '23.0075',\n",
       " '12.5898',\n",
       " '1.6766',\n",
       " '8.2041',\n",
       " '1.0545',\n",
       " '9.6833',\n",
       " '6.2707',\n",
       " '4.1915',\n",
       " '21.3229',\n",
       " '0.7143']"
      ]
     },
     "execution_count": 13,
     "metadata": {},
     "output_type": "execute_result"
    }
   ],
   "source": [
    "l[1]"
   ]
  },
  {
   "cell_type": "code",
   "execution_count": 14,
   "metadata": {},
   "outputs": [],
   "source": [
    "l = np.array(l).T"
   ]
  },
  {
   "cell_type": "code",
   "execution_count": 15,
   "metadata": {},
   "outputs": [
    {
     "data": {
      "text/plain": [
       "array([['GeneSymbol', '?', '?', ..., 'ZZZ3', 'psiTPTE22', 'tAKR'],\n",
       "       ['EntrezID', '100133144', '100134869', ..., '26009', '387590',\n",
       "        '389932'],\n",
       "       ['TCGA-2K-A9WE-01A-11R-A38C-07', '5.0494', '5.7378', ...,\n",
       "        '978.0403', '270.1939', '0'],\n",
       "       ...,\n",
       "       ['TCGA-Y8-A8RZ-01A-11R-A37K-07', '4.1915', '14.6134', ...,\n",
       "        '792.775', '8.9076', '0'],\n",
       "       ['TCGA-Y8-A8S0-01A-11R-A37K-07', '21.3229', '22.5127', ...,\n",
       "        '753.816', '261.8395', '0'],\n",
       "       ['TCGA-Y8-A8S1-01A-11R-A37K-07', '0.7143', '0', ..., '209.2857',\n",
       "        '23.5714', '0']], dtype='<U28')"
      ]
     },
     "execution_count": 15,
     "metadata": {},
     "output_type": "execute_result"
    }
   ],
   "source": [
    "l"
   ]
  },
  {
   "cell_type": "code",
   "execution_count": 16,
   "metadata": {},
   "outputs": [],
   "source": [
    "gt = copy.deepcopy(l)"
   ]
  },
  {
   "cell_type": "code",
   "execution_count": 20,
   "metadata": {},
   "outputs": [
    {
     "data": {
      "text/plain": [
       "['GeneSymbol']"
      ]
     },
     "execution_count": 20,
     "metadata": {},
     "output_type": "execute_result"
    }
   ],
   "source": [
    "gt[0][0].split('-')"
   ]
  },
  {
   "cell_type": "code",
   "execution_count": 21,
   "metadata": {},
   "outputs": [],
   "source": [
    "labels = []\n",
    "\n",
    "for i in range(len(gt)):\n",
    "    try:\n",
    "        if gt[i][0].split(\"-\")[3][0] == '1':\n",
    "            labels.append(0)\n",
    "        else:\n",
    "            labels.append(1)\n",
    "    except:\n",
    "        labels.append(-1)"
   ]
  },
  {
   "cell_type": "code",
   "execution_count": 22,
   "metadata": {},
   "outputs": [
    {
     "data": {
      "text/plain": [
       "325"
      ]
     },
     "execution_count": 22,
     "metadata": {},
     "output_type": "execute_result"
    }
   ],
   "source": [
    "len(labels)"
   ]
  },
  {
   "cell_type": "code",
   "execution_count": 23,
   "metadata": {},
   "outputs": [
    {
     "data": {
      "text/plain": [
       "325"
      ]
     },
     "execution_count": 23,
     "metadata": {},
     "output_type": "execute_result"
    }
   ],
   "source": [
    "len(gt)"
   ]
  },
  {
   "cell_type": "code",
   "execution_count": 24,
   "metadata": {},
   "outputs": [
    {
     "data": {
      "text/plain": [
       "[-1,\n",
       " -1,\n",
       " 1,\n",
       " 1,\n",
       " 1,\n",
       " 1,\n",
       " 1,\n",
       " 1,\n",
       " 1,\n",
       " 1,\n",
       " 1,\n",
       " 1,\n",
       " 1,\n",
       " 1,\n",
       " 1,\n",
       " 1,\n",
       " 1,\n",
       " 1,\n",
       " 1,\n",
       " 1,\n",
       " 1,\n",
       " 1,\n",
       " 1,\n",
       " 1,\n",
       " 1,\n",
       " 1,\n",
       " 1,\n",
       " 1,\n",
       " 1,\n",
       " 1,\n",
       " 1,\n",
       " 1,\n",
       " 1,\n",
       " 1,\n",
       " 1,\n",
       " 1,\n",
       " 1,\n",
       " 1,\n",
       " 1,\n",
       " 1,\n",
       " 1,\n",
       " 1,\n",
       " 1,\n",
       " 1,\n",
       " 1,\n",
       " 1,\n",
       " 1,\n",
       " 1,\n",
       " 1,\n",
       " 1,\n",
       " 1,\n",
       " 1,\n",
       " 1,\n",
       " 1,\n",
       " 1,\n",
       " 1,\n",
       " 1,\n",
       " 1,\n",
       " 1,\n",
       " 1,\n",
       " 1,\n",
       " 1,\n",
       " 1,\n",
       " 1,\n",
       " 1,\n",
       " 1,\n",
       " 1,\n",
       " 1,\n",
       " 1,\n",
       " 0,\n",
       " 1,\n",
       " 0,\n",
       " 1,\n",
       " 1,\n",
       " 1,\n",
       " 1,\n",
       " 1,\n",
       " 1,\n",
       " 1,\n",
       " 1,\n",
       " 1,\n",
       " 1,\n",
       " 1,\n",
       " 1,\n",
       " 1,\n",
       " 1,\n",
       " 1,\n",
       " 1,\n",
       " 1,\n",
       " 1,\n",
       " 1,\n",
       " 1,\n",
       " 1,\n",
       " 1,\n",
       " 1,\n",
       " 1,\n",
       " 1,\n",
       " 1,\n",
       " 1,\n",
       " 1,\n",
       " 1,\n",
       " 1,\n",
       " 1,\n",
       " 1,\n",
       " 1,\n",
       " 1,\n",
       " 0,\n",
       " 1,\n",
       " 1,\n",
       " 1,\n",
       " 1,\n",
       " 1,\n",
       " 1,\n",
       " 1,\n",
       " 1,\n",
       " 1,\n",
       " 1,\n",
       " 1,\n",
       " 1,\n",
       " 1,\n",
       " 1,\n",
       " 0,\n",
       " 1,\n",
       " 1,\n",
       " 0,\n",
       " 1,\n",
       " 0,\n",
       " 1,\n",
       " 0,\n",
       " 1,\n",
       " 1,\n",
       " 1,\n",
       " 0,\n",
       " 1,\n",
       " 1,\n",
       " 0,\n",
       " 1,\n",
       " 1,\n",
       " 1,\n",
       " 0,\n",
       " 1,\n",
       " 0,\n",
       " 1,\n",
       " 1,\n",
       " 0,\n",
       " 1,\n",
       " 0,\n",
       " 1,\n",
       " 1,\n",
       " 1,\n",
       " 0,\n",
       " 1,\n",
       " 0,\n",
       " 1,\n",
       " 0,\n",
       " 1,\n",
       " 0,\n",
       " 1,\n",
       " 1,\n",
       " 1,\n",
       " 1,\n",
       " 0,\n",
       " 1,\n",
       " 1,\n",
       " 0,\n",
       " 1,\n",
       " 1,\n",
       " 1,\n",
       " 0,\n",
       " 1,\n",
       " 1,\n",
       " 0,\n",
       " 1,\n",
       " 1,\n",
       " 1,\n",
       " 1,\n",
       " 1,\n",
       " 1,\n",
       " 1,\n",
       " 1,\n",
       " 1,\n",
       " 1,\n",
       " 1,\n",
       " 1,\n",
       " 1,\n",
       " 0,\n",
       " 1,\n",
       " 0,\n",
       " 1,\n",
       " 0,\n",
       " 1,\n",
       " 0,\n",
       " 1,\n",
       " 1,\n",
       " 1,\n",
       " 1,\n",
       " 1,\n",
       " 1,\n",
       " 1,\n",
       " 1,\n",
       " 1,\n",
       " 1,\n",
       " 1,\n",
       " 1,\n",
       " 1,\n",
       " 1,\n",
       " 1,\n",
       " 1,\n",
       " 1,\n",
       " 1,\n",
       " 1,\n",
       " 1,\n",
       " 1,\n",
       " 1,\n",
       " 1,\n",
       " 1,\n",
       " 0,\n",
       " 1,\n",
       " 1,\n",
       " 0,\n",
       " 1,\n",
       " 1,\n",
       " 1,\n",
       " 0,\n",
       " 1,\n",
       " 1,\n",
       " 1,\n",
       " 1,\n",
       " 0,\n",
       " 1,\n",
       " 1,\n",
       " 1,\n",
       " 1,\n",
       " 1,\n",
       " 1,\n",
       " 1,\n",
       " 1,\n",
       " 1,\n",
       " 1,\n",
       " 1,\n",
       " 1,\n",
       " 1,\n",
       " 1,\n",
       " 1,\n",
       " 1,\n",
       " 1,\n",
       " 1,\n",
       " 1,\n",
       " 1,\n",
       " 1,\n",
       " 1,\n",
       " 1,\n",
       " 1,\n",
       " 1,\n",
       " 1,\n",
       " 1,\n",
       " 1,\n",
       " 1,\n",
       " 1,\n",
       " 1,\n",
       " 1,\n",
       " 1,\n",
       " 1,\n",
       " 1,\n",
       " 1,\n",
       " 1,\n",
       " 1,\n",
       " 1,\n",
       " 0,\n",
       " 1,\n",
       " 1,\n",
       " 1,\n",
       " 0,\n",
       " 1,\n",
       " 1,\n",
       " 1,\n",
       " 1,\n",
       " 1,\n",
       " 1,\n",
       " 1,\n",
       " 1,\n",
       " 1,\n",
       " 1,\n",
       " 1,\n",
       " 1,\n",
       " 1,\n",
       " 1,\n",
       " 1,\n",
       " 1,\n",
       " 1,\n",
       " 1,\n",
       " 1,\n",
       " 1,\n",
       " 1,\n",
       " 1,\n",
       " 1,\n",
       " 1,\n",
       " 1,\n",
       " 1,\n",
       " 1,\n",
       " 1,\n",
       " 1,\n",
       " 1,\n",
       " 1,\n",
       " 1,\n",
       " 1,\n",
       " 1,\n",
       " 1,\n",
       " 1,\n",
       " 1,\n",
       " 1,\n",
       " 1,\n",
       " 1,\n",
       " 1,\n",
       " 1,\n",
       " 1,\n",
       " 1,\n",
       " 1,\n",
       " 1,\n",
       " 1,\n",
       " 1,\n",
       " 0,\n",
       " 1,\n",
       " 1,\n",
       " 1]"
      ]
     },
     "execution_count": 24,
     "metadata": {},
     "output_type": "execute_result"
    }
   ],
   "source": [
    "labels"
   ]
  },
  {
   "cell_type": "code",
   "execution_count": 25,
   "metadata": {},
   "outputs": [],
   "source": [
    "u,c = np.unique(np.array(labels), return_counts = True)"
   ]
  },
  {
   "cell_type": "code",
   "execution_count": 26,
   "metadata": {},
   "outputs": [
    {
     "data": {
      "text/plain": [
       "array([-1,  0,  1])"
      ]
     },
     "execution_count": 26,
     "metadata": {},
     "output_type": "execute_result"
    }
   ],
   "source": [
    "u"
   ]
  },
  {
   "cell_type": "code",
   "execution_count": 27,
   "metadata": {},
   "outputs": [
    {
     "data": {
      "text/plain": [
       "array([  2,  32, 291], dtype=int64)"
      ]
     },
     "execution_count": 27,
     "metadata": {},
     "output_type": "execute_result"
    }
   ],
   "source": [
    "c"
   ]
  },
  {
   "cell_type": "code",
   "execution_count": 28,
   "metadata": {},
   "outputs": [
    {
     "data": {
      "text/plain": [
       "array(['EntrezID', '100133144', '100134869', ..., '26009', '387590',\n",
       "       '389932'], dtype='<U28')"
      ]
     },
     "execution_count": 28,
     "metadata": {},
     "output_type": "execute_result"
    }
   ],
   "source": [
    "l[1]"
   ]
  },
  {
   "cell_type": "code",
   "execution_count": 29,
   "metadata": {},
   "outputs": [
    {
     "data": {
      "text/plain": [
       "array(['TCGA-2K-A9WE-01A-11R-A38C-07', '5.0494', '5.7378', ...,\n",
       "       '978.0403', '270.1939', '0'], dtype='<U28')"
      ]
     },
     "execution_count": 29,
     "metadata": {},
     "output_type": "execute_result"
    }
   ],
   "source": [
    "l[2]"
   ]
  },
  {
   "cell_type": "code",
   "execution_count": 30,
   "metadata": {},
   "outputs": [],
   "source": [
    "data = l[2:]\n",
    "labels = labels[2:]"
   ]
  },
  {
   "cell_type": "code",
   "execution_count": 31,
   "metadata": {},
   "outputs": [
    {
     "data": {
      "text/plain": [
       "array(['TCGA-2K-A9WE-01A-11R-A38C-07', '5.0494', '5.7378', ...,\n",
       "       '978.0403', '270.1939', '0'], dtype='<U28')"
      ]
     },
     "execution_count": 31,
     "metadata": {},
     "output_type": "execute_result"
    }
   ],
   "source": [
    "data[0]"
   ]
  },
  {
   "cell_type": "code",
   "execution_count": 32,
   "metadata": {},
   "outputs": [
    {
     "data": {
      "text/plain": [
       "array(['TCGA-2K-A9WE-01A-11R-A38C-07', '5.0494', '5.7378', ...,\n",
       "       '978.0403', '270.1939', '0'], dtype='<U28')"
      ]
     },
     "execution_count": 32,
     "metadata": {},
     "output_type": "execute_result"
    }
   ],
   "source": [
    "l[2]"
   ]
  },
  {
   "cell_type": "code",
   "execution_count": 33,
   "metadata": {},
   "outputs": [],
   "source": [
    "u,c = np.unique(labels, return_counts = True)"
   ]
  },
  {
   "cell_type": "code",
   "execution_count": 34,
   "metadata": {},
   "outputs": [
    {
     "data": {
      "text/plain": [
       "array([0, 1])"
      ]
     },
     "execution_count": 34,
     "metadata": {},
     "output_type": "execute_result"
    }
   ],
   "source": [
    "u"
   ]
  },
  {
   "cell_type": "code",
   "execution_count": 35,
   "metadata": {},
   "outputs": [
    {
     "data": {
      "text/plain": [
       "array([ 32, 291], dtype=int64)"
      ]
     },
     "execution_count": 35,
     "metadata": {},
     "output_type": "execute_result"
    }
   ],
   "source": [
    "c"
   ]
  },
  {
   "cell_type": "code",
   "execution_count": 36,
   "metadata": {},
   "outputs": [
    {
     "data": {
      "text/plain": [
       "323"
      ]
     },
     "execution_count": 36,
     "metadata": {},
     "output_type": "execute_result"
    }
   ],
   "source": [
    "len(data)"
   ]
  },
  {
   "cell_type": "code",
   "execution_count": 37,
   "metadata": {},
   "outputs": [],
   "source": [
    "data = data[:,1:]"
   ]
  },
  {
   "cell_type": "code",
   "execution_count": 38,
   "metadata": {},
   "outputs": [
    {
     "data": {
      "text/plain": [
       "array(['5.0494', '5.7378', '54.6809', ..., '978.0403', '270.1939', '0'],\n",
       "      dtype='<U28')"
      ]
     },
     "execution_count": 38,
     "metadata": {},
     "output_type": "execute_result"
    }
   ],
   "source": [
    "data[0]"
   ]
  },
  {
   "cell_type": "code",
   "execution_count": 39,
   "metadata": {},
   "outputs": [],
   "source": [
    "import pandas as pd \n",
    "pd.DataFrame(l).to_csv(\"kirpfile.csv\")"
   ]
  },
  {
   "cell_type": "code",
   "execution_count": 40,
   "metadata": {},
   "outputs": [],
   "source": [
    "pd.DataFrame(l[:,29:]).to_csv(\"kirpfile2.csv\")"
   ]
  },
  {
   "cell_type": "code",
   "execution_count": 41,
   "metadata": {},
   "outputs": [],
   "source": [
    "loo = l[:,29:]"
   ]
  },
  {
   "cell_type": "code",
   "execution_count": 42,
   "metadata": {},
   "outputs": [],
   "source": [
    "dt = data[:,28:]"
   ]
  },
  {
   "cell_type": "code",
   "execution_count": 43,
   "metadata": {},
   "outputs": [
    {
     "data": {
      "text/plain": [
       "array(['201.3304', '4.1094', '0.5137', ..., '978.0403', '270.1939', '0'],\n",
       "      dtype='<U28')"
      ]
     },
     "execution_count": 43,
     "metadata": {},
     "output_type": "execute_result"
    }
   ],
   "source": [
    "dt[0]"
   ]
  },
  {
   "cell_type": "code",
   "execution_count": 44,
   "metadata": {},
   "outputs": [
    {
     "data": {
      "text/plain": [
       "array(['201.3304', '4.1094', '0.5137', ..., '978.0403', '270.1939', '0'],\n",
       "      dtype='<U28')"
      ]
     },
     "execution_count": 44,
     "metadata": {},
     "output_type": "execute_result"
    }
   ],
   "source": [
    "loo[2]"
   ]
  },
  {
   "cell_type": "code",
   "execution_count": 45,
   "metadata": {},
   "outputs": [],
   "source": [
    "pd.DataFrame(labels).to_csv(\"kirplabel.csv\")"
   ]
  },
  {
   "cell_type": "code",
   "execution_count": 46,
   "metadata": {},
   "outputs": [],
   "source": [
    "pd.DataFrame(dt).to_csv(\"kirpdata.csv\")"
   ]
  },
  {
   "cell_type": "code",
   "execution_count": 47,
   "metadata": {},
   "outputs": [
    {
     "data": {
      "text/plain": [
       "323"
      ]
     },
     "execution_count": 47,
     "metadata": {},
     "output_type": "execute_result"
    }
   ],
   "source": [
    "len(dt)"
   ]
  },
  {
   "cell_type": "code",
   "execution_count": 48,
   "metadata": {},
   "outputs": [
    {
     "data": {
      "text/plain": [
       "323"
      ]
     },
     "execution_count": 48,
     "metadata": {},
     "output_type": "execute_result"
    }
   ],
   "source": [
    "len(labels)"
   ]
  },
  {
   "cell_type": "code",
   "execution_count": null,
   "metadata": {},
   "outputs": [],
   "source": []
  }
 ],
 "metadata": {
  "kernelspec": {
   "display_name": "Python 3",
   "language": "python",
   "name": "python3"
  },
  "language_info": {
   "codemirror_mode": {
    "name": "ipython",
    "version": 3
   },
   "file_extension": ".py",
   "mimetype": "text/x-python",
   "name": "python",
   "nbconvert_exporter": "python",
   "pygments_lexer": "ipython3",
   "version": "3.7.1"
  }
 },
 "nbformat": 4,
 "nbformat_minor": 2
}
