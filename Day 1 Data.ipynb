{
 "cells": [
  {
   "cell_type": "code",
   "execution_count": 63,
   "metadata": {},
   "outputs": [],
   "source": [
    "import numpy as np\n",
    "import copy"
   ]
  },
  {
   "cell_type": "code",
   "execution_count": 2,
   "metadata": {},
   "outputs": [],
   "source": [
    "f = open(\"PAAD__RNAExp.txt\",\"r\")"
   ]
  },
  {
   "cell_type": "code",
   "execution_count": 3,
   "metadata": {},
   "outputs": [
    {
     "data": {
      "text/plain": [
       "<_io.TextIOWrapper name='PAAD__RNAExp.txt' mode='r' encoding='cp1252'>"
      ]
     },
     "execution_count": 3,
     "metadata": {},
     "output_type": "execute_result"
    }
   ],
   "source": [
    "f"
   ]
  },
  {
   "cell_type": "code",
   "execution_count": 4,
   "metadata": {},
   "outputs": [],
   "source": [
    "dt = f.readlines()"
   ]
  },
  {
   "cell_type": "code",
   "execution_count": 9,
   "metadata": {},
   "outputs": [],
   "source": [
    "l = []\n",
    "for i in range(len(dt)):\n",
    "    l.append(dt[i].split(\"\\t\"))"
   ]
  },
  {
   "cell_type": "code",
   "execution_count": 10,
   "metadata": {},
   "outputs": [],
   "source": [
    "f.close()"
   ]
  },
  {
   "cell_type": "code",
   "execution_count": 23,
   "metadata": {},
   "outputs": [
    {
     "data": {
      "text/plain": [
       "20531"
      ]
     },
     "execution_count": 23,
     "metadata": {},
     "output_type": "execute_result"
    }
   ],
   "source": [
    "len(l)"
   ]
  },
  {
   "cell_type": "code",
   "execution_count": 14,
   "metadata": {},
   "outputs": [],
   "source": [
    "f = open(\"clinical__nationwidechildrens.org_clinical_patient_paad.txt\",\"r\")\n",
    "dt2 = f.readlines()\n",
    "l2 = []\n",
    "for i in range(len(dt2)):\n",
    "    l2.append(dt2[i].split(\"\\t\"))"
   ]
  },
  {
   "cell_type": "code",
   "execution_count": 24,
   "metadata": {},
   "outputs": [
    {
     "data": {
      "text/plain": [
       "188"
      ]
     },
     "execution_count": 24,
     "metadata": {},
     "output_type": "execute_result"
    }
   ],
   "source": [
    "len(l2)"
   ]
  },
  {
   "cell_type": "code",
   "execution_count": 22,
   "metadata": {},
   "outputs": [],
   "source": [
    "f.close()"
   ]
  },
  {
   "cell_type": "code",
   "execution_count": 43,
   "metadata": {},
   "outputs": [],
   "source": [
    "for i in range(len(l)):\n",
    "    l[i][184] = l[i][184].split(\"\\n\")[0]"
   ]
  },
  {
   "cell_type": "code",
   "execution_count": 44,
   "metadata": {},
   "outputs": [
    {
     "data": {
      "text/plain": [
       "['GeneSymbol',\n",
       " 'EntrezID',\n",
       " 'TCGA-2J-AAB1-01A-11R-A41B-07',\n",
       " 'TCGA-2J-AAB4-01A-12R-A41B-07',\n",
       " 'TCGA-2J-AAB6-01A-11R-A41B-07',\n",
       " 'TCGA-2J-AAB8-01A-12R-A41B-07',\n",
       " 'TCGA-2J-AAB9-01A-11R-A41B-07',\n",
       " 'TCGA-2J-AABA-01A-21R-A41B-07',\n",
       " 'TCGA-2J-AABE-01A-12R-A41B-07',\n",
       " 'TCGA-2J-AABF-01A-31R-A41B-07',\n",
       " 'TCGA-2J-AABH-01A-21R-A41B-07',\n",
       " 'TCGA-2J-AABI-01A-12R-A41B-07',\n",
       " 'TCGA-2J-AABK-01A-31R-A41B-07',\n",
       " 'TCGA-2J-AABO-01A-21R-A41B-07',\n",
       " 'TCGA-2J-AABP-01A-11R-A41B-07',\n",
       " 'TCGA-2J-AABR-01A-11R-A41B-07',\n",
       " 'TCGA-2J-AABT-01A-11R-A41B-07',\n",
       " 'TCGA-2J-AABU-01A-11R-A41B-07',\n",
       " 'TCGA-2J-AABV-01A-12R-A41B-07',\n",
       " 'TCGA-2L-AAQA-01A-21R-A38C-07',\n",
       " 'TCGA-2L-AAQE-01A-11R-A39D-07',\n",
       " 'TCGA-2L-AAQI-01A-12R-A39D-07',\n",
       " 'TCGA-2L-AAQJ-01A-12R-A39D-07',\n",
       " 'TCGA-2L-AAQL-01A-11R-A38C-07',\n",
       " 'TCGA-2L-AAQM-01A-11R-A39D-07',\n",
       " 'TCGA-3A-A9I5-01A-11R-A38C-07',\n",
       " 'TCGA-3A-A9I7-01A-21R-A38C-07',\n",
       " 'TCGA-3A-A9I9-01A-11R-A38C-07',\n",
       " 'TCGA-3A-A9IB-01A-21R-A39D-07',\n",
       " 'TCGA-3A-A9IC-01A-11R-A38C-07',\n",
       " 'TCGA-3A-A9IH-01A-12R-A39D-07',\n",
       " 'TCGA-3A-A9IJ-01A-11R-A39D-07',\n",
       " 'TCGA-3A-A9IL-01A-11R-A38C-07',\n",
       " 'TCGA-3A-A9IN-01A-11R-A39D-07',\n",
       " 'TCGA-3A-A9IO-01A-11R-A38C-07',\n",
       " 'TCGA-3A-A9IR-01A-11R-A38C-07',\n",
       " 'TCGA-3A-A9IS-01A-21R-A39D-07',\n",
       " 'TCGA-3A-A9IU-01A-11R-A39D-07',\n",
       " 'TCGA-3A-A9IV-01A-11R-A41B-07',\n",
       " 'TCGA-3A-A9IX-01A-11R-A41B-07',\n",
       " 'TCGA-3A-A9IZ-01A-12R-A41B-07',\n",
       " 'TCGA-3A-A9J0-01A-11R-A41B-07',\n",
       " 'TCGA-3E-AAAY-01A-11R-A38C-07',\n",
       " 'TCGA-3E-AAAZ-01A-11R-A38C-07',\n",
       " 'TCGA-F2-6879-01A-11R-2156-07',\n",
       " 'TCGA-F2-6880-01A-11R-2156-07',\n",
       " 'TCGA-F2-7273-01A-11R-2156-07',\n",
       " 'TCGA-F2-7276-01A-11R-2156-07',\n",
       " 'TCGA-F2-A44G-01A-11R-A26U-07',\n",
       " 'TCGA-F2-A44H-01A-11R-A26U-07',\n",
       " 'TCGA-F2-A7TX-01A-33R-A38C-07',\n",
       " 'TCGA-F2-A8YN-01A-11R-A37L-07',\n",
       " 'TCGA-FB-A4P5-01A-11R-A26U-07',\n",
       " 'TCGA-FB-A4P6-01A-12R-A26U-07',\n",
       " 'TCGA-FB-A545-01A-11R-A26U-07',\n",
       " 'TCGA-FB-A5VM-01A-11R-A32O-07',\n",
       " 'TCGA-FB-A78T-01A-12R-A32O-07',\n",
       " 'TCGA-FB-A7DR-01A-21R-A33R-07',\n",
       " 'TCGA-FB-AAPP-01A-12R-A41B-07',\n",
       " 'TCGA-FB-AAPQ-01A-11R-A41B-07',\n",
       " 'TCGA-FB-AAPS-01A-12R-A39D-07',\n",
       " 'TCGA-FB-AAPU-01A-31R-A41B-07',\n",
       " 'TCGA-FB-AAPY-01A-11R-A41B-07',\n",
       " 'TCGA-FB-AAPZ-01A-11R-A41B-07',\n",
       " 'TCGA-FB-AAQ0-01A-31R-A41B-07',\n",
       " 'TCGA-FB-AAQ1-01A-12R-A41B-07',\n",
       " 'TCGA-FB-AAQ2-01A-31R-A41B-07',\n",
       " 'TCGA-FB-AAQ3-01A-11R-A41B-07',\n",
       " 'TCGA-FB-AAQ6-01A-11R-A41B-07',\n",
       " 'TCGA-H6-8124-01A-11R-2404-07',\n",
       " 'TCGA-H6-8124-11A-01R-2404-07',\n",
       " 'TCGA-H6-A45N-01A-11R-A26U-07',\n",
       " 'TCGA-H6-A45N-11A-12R-A26U-07',\n",
       " 'TCGA-H8-A6C1-01A-11R-A32O-07',\n",
       " 'TCGA-HV-A5A3-01A-11R-A26U-07',\n",
       " 'TCGA-HV-A5A3-11A-11R-A26U-07',\n",
       " 'TCGA-HV-A5A4-01A-11R-A26U-07',\n",
       " 'TCGA-HV-A5A5-01A-11R-A26U-07',\n",
       " 'TCGA-HV-A5A6-01A-11R-A26U-07',\n",
       " 'TCGA-HV-A7OL-01A-11R-A33R-07',\n",
       " 'TCGA-HV-A7OP-01A-11R-A33R-07',\n",
       " 'TCGA-HV-AA8V-01A-11R-A41B-07',\n",
       " 'TCGA-HV-AA8X-01A-11R-A39D-07',\n",
       " 'TCGA-HZ-7289-01A-11R-2156-07',\n",
       " 'TCGA-HZ-7918-01A-11R-2156-07',\n",
       " 'TCGA-HZ-7919-01A-11R-2156-07',\n",
       " 'TCGA-HZ-7920-01A-11R-2204-07',\n",
       " 'TCGA-HZ-7922-01A-11R-2156-07',\n",
       " 'TCGA-HZ-7923-01A-12R-2156-07',\n",
       " 'TCGA-HZ-7924-01A-11R-2156-07',\n",
       " 'TCGA-HZ-7925-01A-11R-2156-07',\n",
       " 'TCGA-HZ-7926-01A-11R-2156-07',\n",
       " 'TCGA-HZ-8001-01A-11R-2204-07',\n",
       " 'TCGA-HZ-8002-01A-11R-2204-07',\n",
       " 'TCGA-HZ-8003-01A-21R-2204-07',\n",
       " 'TCGA-HZ-8005-01A-11R-2204-07',\n",
       " 'TCGA-HZ-8315-01A-11R-2404-07',\n",
       " 'TCGA-HZ-8317-01A-11R-2404-07',\n",
       " 'TCGA-HZ-8519-01A-11R-2404-07',\n",
       " 'TCGA-HZ-8636-01A-21R-2404-07',\n",
       " 'TCGA-HZ-8637-01A-11R-2404-07',\n",
       " 'TCGA-HZ-8638-01A-11R-2404-07',\n",
       " 'TCGA-HZ-A49G-01A-11R-A26U-07',\n",
       " 'TCGA-HZ-A49H-01A-11R-A26U-07',\n",
       " 'TCGA-HZ-A49I-01A-12R-A26U-07',\n",
       " 'TCGA-HZ-A4BH-01A-11R-A26U-07',\n",
       " 'TCGA-HZ-A4BK-01A-11R-A26U-07',\n",
       " 'TCGA-HZ-A77O-01A-11R-A33R-07',\n",
       " 'TCGA-HZ-A77P-01A-11R-A33R-07',\n",
       " 'TCGA-HZ-A77Q-01A-11R-A36G-07',\n",
       " 'TCGA-HZ-A8P0-01A-11R-A36G-07',\n",
       " 'TCGA-HZ-A8P1-01A-11R-A37L-07',\n",
       " 'TCGA-HZ-A9TJ-01A-11R-A41I-07',\n",
       " 'TCGA-HZ-A9TJ-06A-11R-A41B-07',\n",
       " 'TCGA-IB-7644-01A-11R-2156-07',\n",
       " 'TCGA-IB-7645-01A-22R-2204-07',\n",
       " 'TCGA-IB-7646-01A-11R-2156-07',\n",
       " 'TCGA-IB-7647-01A-11R-2156-07',\n",
       " 'TCGA-IB-7649-01A-11R-2156-07',\n",
       " 'TCGA-IB-7651-01A-11R-2156-07',\n",
       " 'TCGA-IB-7652-01A-11R-2156-07',\n",
       " 'TCGA-IB-7654-01A-11R-2156-07',\n",
       " 'TCGA-IB-7885-01A-11R-2156-07',\n",
       " 'TCGA-IB-7886-01A-11R-2156-07',\n",
       " 'TCGA-IB-7887-01A-11R-2156-07',\n",
       " 'TCGA-IB-7888-01A-11R-2156-07',\n",
       " 'TCGA-IB-7889-01A-11R-2156-07',\n",
       " 'TCGA-IB-7890-01A-12R-2204-07',\n",
       " 'TCGA-IB-7891-01A-11R-2204-07',\n",
       " 'TCGA-IB-7893-01A-11R-2204-07',\n",
       " 'TCGA-IB-7897-01A-21R-2204-07',\n",
       " 'TCGA-IB-8126-01A-11R-2404-07',\n",
       " 'TCGA-IB-8127-01A-11R-2404-07',\n",
       " 'TCGA-IB-A5SO-01A-11R-A32O-07',\n",
       " 'TCGA-IB-A5SP-01A-11R-A32O-07',\n",
       " 'TCGA-IB-A5SQ-01A-11R-A32O-07',\n",
       " 'TCGA-IB-A5SS-01A-11R-A32O-07',\n",
       " 'TCGA-IB-A5ST-01A-11R-A32O-07',\n",
       " 'TCGA-IB-A6UF-01A-23R-A33R-07',\n",
       " 'TCGA-IB-A6UG-01A-32R-A33R-07',\n",
       " 'TCGA-IB-A7LX-01A-12R-A36G-07',\n",
       " 'TCGA-IB-A7M4-01A-11R-A36G-07',\n",
       " 'TCGA-IB-AAUM-01A-11R-A37L-07',\n",
       " 'TCGA-IB-AAUN-01A-12R-A38C-07',\n",
       " 'TCGA-IB-AAUO-01A-12R-A38C-07',\n",
       " 'TCGA-IB-AAUP-01A-11R-A37L-07',\n",
       " 'TCGA-IB-AAUQ-01A-22R-A41I-07',\n",
       " 'TCGA-IB-AAUR-01A-21R-A38C-07',\n",
       " 'TCGA-IB-AAUS-01A-12R-A38C-07',\n",
       " 'TCGA-IB-AAUT-01A-11R-A37L-07',\n",
       " 'TCGA-IB-AAUU-01A-11R-A37L-07',\n",
       " 'TCGA-IB-AAUV-01A-11R-A38C-07',\n",
       " 'TCGA-IB-AAUW-01A-12R-A38C-07',\n",
       " 'TCGA-L1-A7W4-01A-12R-A36G-07',\n",
       " 'TCGA-LB-A7SX-01A-11R-A33R-07',\n",
       " 'TCGA-LB-A8F3-01A-11R-A36G-07',\n",
       " 'TCGA-LB-A9Q5-01A-11R-A39D-07',\n",
       " 'TCGA-M8-A5N4-01A-11R-A26U-07',\n",
       " 'TCGA-OE-A75W-01A-12R-A32O-07',\n",
       " 'TCGA-PZ-A5RE-01A-11R-A32O-07',\n",
       " 'TCGA-Q3-A5QY-01A-12R-A32O-07',\n",
       " 'TCGA-Q3-AA2A-01A-11R-A37L-07',\n",
       " 'TCGA-RB-A7B8-01A-12R-A33R-07',\n",
       " 'TCGA-RB-AA9M-01A-11R-A39D-07',\n",
       " 'TCGA-RL-AAAS-01A-32R-A39D-07',\n",
       " 'TCGA-S4-A8RM-01A-11R-A37L-07',\n",
       " 'TCGA-S4-A8RO-01A-12R-A37L-07',\n",
       " 'TCGA-S4-A8RP-01A-11R-A36G-07',\n",
       " 'TCGA-US-A774-01A-21R-A32O-07',\n",
       " 'TCGA-US-A776-01A-13R-A33R-07',\n",
       " 'TCGA-US-A779-01A-11R-A32O-07',\n",
       " 'TCGA-US-A77E-01A-11R-A32O-07',\n",
       " 'TCGA-US-A77G-01A-11R-A32O-07',\n",
       " 'TCGA-US-A77J-01A-11R-A32O-07',\n",
       " 'TCGA-XD-AAUG-01A-61R-A41B-07',\n",
       " 'TCGA-XD-AAUH-01A-42R-A41B-07',\n",
       " 'TCGA-XD-AAUI-01A-42R-A41B-07',\n",
       " 'TCGA-XD-AAUL-01A-21R-A39D-07',\n",
       " 'TCGA-XN-A8T3-01A-11R-A36G-07',\n",
       " 'TCGA-XN-A8T5-01A-12R-A36G-07',\n",
       " 'TCGA-YB-A89D-01A-12R-A36G-07',\n",
       " 'TCGA-YB-A89D-11A-11R-A36G-07',\n",
       " 'TCGA-YH-A8SY-01A-11R-A37L-07',\n",
       " 'TCGA-YY-A8LH-01A-11R-A36G-07',\n",
       " 'TCGA-Z5-AAPL-01A-12R-A41B-07']"
      ]
     },
     "execution_count": 44,
     "metadata": {},
     "output_type": "execute_result"
    }
   ],
   "source": [
    "l[0]"
   ]
  },
  {
   "cell_type": "code",
   "execution_count": null,
   "metadata": {},
   "outputs": [],
   "source": []
  },
  {
   "cell_type": "code",
   "execution_count": 48,
   "metadata": {},
   "outputs": [],
   "source": [
    "for i in range(len(l2)):\n",
    "    l2[i][76] = l2[i][76].split(\"\\n\")[0]"
   ]
  },
  {
   "cell_type": "code",
   "execution_count": 55,
   "metadata": {},
   "outputs": [
    {
     "data": {
      "text/plain": [
       "['CDE_ID:',\n",
       " 'CDE_ID:2673794',\n",
       " 'CDE_ID:',\n",
       " 'CDE_ID:3027106',\n",
       " 'CDE_ID:3081934',\n",
       " 'CDE_ID:3124492',\n",
       " 'CDE_ID:3288124',\n",
       " 'CDE_ID:3088492',\n",
       " 'CDE_ID:3088528',\n",
       " 'CDE_ID:2200604',\n",
       " 'CDE_ID:3008233',\n",
       " 'CDE_ID:2192199',\n",
       " 'CDE_ID:2192217',\n",
       " 'CDE_ID:3382736',\n",
       " 'CDE_ID:3382737',\n",
       " 'CDE_ID:2896960',\n",
       " 'CDE_ID:2757941',\n",
       " 'CDE_ID:2757948',\n",
       " 'CDE_ID:3121809',\n",
       " 'CDE_ID:2200396',\n",
       " 'CDE_ID:3',\n",
       " 'CDE_ID:3086388',\n",
       " 'CDE_ID:3086383',\n",
       " 'CDE_ID:2785839',\n",
       " 'CDE_ID:3385981',\n",
       " 'CDE_ID:64215',\n",
       " 'CDE_ID:2608702',\n",
       " 'CDE_ID:2722309',\n",
       " 'CDE_ID:3045435',\n",
       " 'CDE_ID:3203106',\n",
       " 'CDE_ID:3045439',\n",
       " 'CDE_ID:3203222',\n",
       " 'CDE_ID:5',\n",
       " 'CDE_ID:3008273',\n",
       " 'CDE_ID:3165475',\n",
       " 'CDE_ID:2759550',\n",
       " 'CDE_ID:2554674',\n",
       " 'CDE_ID:2390921',\n",
       " 'CDE_ID:2181650',\n",
       " 'CDE_ID:2228604',\n",
       " 'CDE_ID:2228610',\n",
       " 'CDE_ID:2955385',\n",
       " 'CDE_ID:2201918',\n",
       " 'CDE_ID:3457767',\n",
       " 'CDE_ID:3114013',\n",
       " 'CDE_ID:3124961',\n",
       " 'CDE_ID:3197322',\n",
       " 'CDE_ID:3457768',\n",
       " 'CDE_ID:3457760',\n",
       " 'CDE_ID:3457771',\n",
       " 'CDE_ID:2436860',\n",
       " 'CDE_ID:3457764',\n",
       " 'CDE_ID:2005312',\n",
       " 'CDE_ID:2786727',\n",
       " 'CDE_ID:3121376',\n",
       " 'CDE_ID:2006657',\n",
       " 'CDE_ID:3108203',\n",
       " 'CDE_ID:2584114',\n",
       " 'CDE_ID:3440331',\n",
       " 'CDE_ID:3440330',\n",
       " 'CDE_ID:3440328',\n",
       " 'CDE_ID:3440332',\n",
       " 'CDE_ID:3131740',\n",
       " 'CDE_ID:4887491',\n",
       " 'CDE_ID:3165480',\n",
       " 'CDE_ID:',\n",
       " 'CDE_ID:3364582',\n",
       " 'CDE_ID:3226287',\n",
       " 'CDE_ID:3226275',\n",
       " 'CDE_ID:3226281',\n",
       " 'CDE_ID:3288361',\n",
       " 'CDE_ID:',\n",
       " 'CDE_ID:',\n",
       " 'CDE_ID:2007104',\n",
       " 'CDE_ID:2785850',\n",
       " 'CDE_ID:',\n",
       " 'CDE_ID:3427536']"
      ]
     },
     "execution_count": 55,
     "metadata": {},
     "output_type": "execute_result"
    }
   ],
   "source": [
    "l2[2]"
   ]
  },
  {
   "cell_type": "code",
   "execution_count": 56,
   "metadata": {},
   "outputs": [
    {
     "data": {
      "text/plain": [
       "['?',\n",
       " '100133144',\n",
       " '8.5512',\n",
       " '23.9941',\n",
       " '1.7836',\n",
       " '3.5159',\n",
       " '1.0718',\n",
       " '12.5881',\n",
       " '6.2957',\n",
       " '13.5235',\n",
       " '5.3397',\n",
       " '14.5972',\n",
       " '13.8306',\n",
       " '2.7724',\n",
       " '0',\n",
       " '8.5158',\n",
       " '2.7472',\n",
       " '10.1856',\n",
       " '14.1732',\n",
       " '39.4772',\n",
       " '9.7683',\n",
       " '14.6922',\n",
       " '6.0495',\n",
       " '0',\n",
       " '5.9763',\n",
       " '4.0156',\n",
       " '1.6357',\n",
       " '9.4278',\n",
       " '4.7002',\n",
       " '7.3333',\n",
       " '21.0551',\n",
       " '1.9843',\n",
       " '14.1555',\n",
       " '5.1617',\n",
       " '22.9251',\n",
       " '22.071',\n",
       " '21.9264',\n",
       " '9.4508',\n",
       " '6.2242',\n",
       " '6.2277',\n",
       " '18.461',\n",
       " '18.2255',\n",
       " '4.0956',\n",
       " '17.1466',\n",
       " '7.9535',\n",
       " '8.5425',\n",
       " '5.501',\n",
       " '8.6169',\n",
       " '10.1435',\n",
       " '5.5257',\n",
       " '11.6403',\n",
       " '22.1817',\n",
       " '1.4527',\n",
       " '13.0654',\n",
       " '5.7154',\n",
       " '0',\n",
       " '10.6533',\n",
       " '0.7023',\n",
       " '10.732',\n",
       " '16.6385',\n",
       " '6.6345',\n",
       " '16.9595',\n",
       " '20.2221',\n",
       " '6.9298',\n",
       " '6.4359',\n",
       " '6.9798',\n",
       " '8.7529',\n",
       " '1.607',\n",
       " '6.3662',\n",
       " '34.5185',\n",
       " '15.3481',\n",
       " '12.0811',\n",
       " '22.0314',\n",
       " '21.3901',\n",
       " '3.9322',\n",
       " '6.3991',\n",
       " '6.4858',\n",
       " '7.9376',\n",
       " '5.0482',\n",
       " '3.8386',\n",
       " '0.0919',\n",
       " '7.1048',\n",
       " '8.2213',\n",
       " '4.1976',\n",
       " '1.681',\n",
       " '11.1265',\n",
       " '6.406',\n",
       " '11.2505',\n",
       " '10.4341',\n",
       " '10.783',\n",
       " '1.6316',\n",
       " '9.1747',\n",
       " '3.272',\n",
       " '14.0891',\n",
       " '11.956',\n",
       " '4.7348',\n",
       " '12.2757',\n",
       " '8.3701',\n",
       " '16.0264',\n",
       " '13.3322',\n",
       " '6.1992',\n",
       " '11.7571',\n",
       " '8.326',\n",
       " '0.6761',\n",
       " '4.8026',\n",
       " '10.444',\n",
       " '6.6345',\n",
       " '5.1039',\n",
       " '7.941',\n",
       " '3.5664',\n",
       " '9.0428',\n",
       " '7.7904',\n",
       " '16.146',\n",
       " '6.2589',\n",
       " '7.8282',\n",
       " '3.3264',\n",
       " '2.797',\n",
       " '4.3466',\n",
       " '2.7229',\n",
       " '4.7135',\n",
       " '7.3655',\n",
       " '4.1948',\n",
       " '1.8897',\n",
       " '18.1123',\n",
       " '6.4675',\n",
       " '4.5184',\n",
       " '3.6753',\n",
       " '6.8001',\n",
       " '2.9377',\n",
       " '2.3351',\n",
       " '6.3535',\n",
       " '11.1226',\n",
       " '4.7659',\n",
       " '13.057',\n",
       " '7.6452',\n",
       " '3.9065',\n",
       " '9.3443',\n",
       " '6.7278',\n",
       " '15.1297',\n",
       " '7.2306',\n",
       " '14.2309',\n",
       " '13.2792',\n",
       " '28.8674',\n",
       " '12.389',\n",
       " '4.0236',\n",
       " '7.0179',\n",
       " '15',\n",
       " '1.596',\n",
       " '4.3508',\n",
       " '12.2608',\n",
       " '13.6557',\n",
       " '8.9607',\n",
       " '8.8714',\n",
       " '14.38',\n",
       " '18.1839',\n",
       " '3.2741',\n",
       " '0',\n",
       " '3.676',\n",
       " '3.5899',\n",
       " '4.795',\n",
       " '7.1851',\n",
       " '8.3417',\n",
       " '4.5759',\n",
       " '4.4936',\n",
       " '0',\n",
       " '23.5967',\n",
       " '9.3243',\n",
       " '45.3044',\n",
       " '14.8716',\n",
       " '12.4204',\n",
       " '7.9146',\n",
       " '19.1528',\n",
       " '27.3619',\n",
       " '2.8563',\n",
       " '11.8243',\n",
       " '0',\n",
       " '4.7895',\n",
       " '6.2661',\n",
       " '13.27',\n",
       " '6.5912',\n",
       " '4.6506',\n",
       " '0',\n",
       " '8.4755',\n",
       " '6.3411',\n",
       " '0']"
      ]
     },
     "execution_count": 56,
     "metadata": {},
     "output_type": "execute_result"
    }
   ],
   "source": [
    "l[1]"
   ]
  },
  {
   "cell_type": "code",
   "execution_count": 66,
   "metadata": {},
   "outputs": [],
   "source": [
    "l = np.array(l).T"
   ]
  },
  {
   "cell_type": "code",
   "execution_count": 67,
   "metadata": {},
   "outputs": [
    {
     "data": {
      "text/plain": [
       "array([['GeneSymbol', '?', '?', ..., 'ZZZ3', 'psiTPTE22', 'tAKR'],\n",
       "       ['EntrezID', '100133144', '100134869', ..., '26009', '387590',\n",
       "        '389932'],\n",
       "       ['TCGA-2J-AAB1-01A-11R-A41B-07', '8.5512', '8.522', ...,\n",
       "        '616.0976', '45.3659', '0'],\n",
       "       ...,\n",
       "       ['TCGA-YH-A8SY-01A-11R-A37L-07', '8.4755', '4.375', ..., '375',\n",
       "        '58.4112', '0'],\n",
       "       ['TCGA-YY-A8LH-01A-11R-A36G-07', '6.3411', '24.5265', ...,\n",
       "        '330.7243', '5.2916', '0'],\n",
       "       ['TCGA-Z5-AAPL-01A-12R-A41B-07', '0', '11.396', ..., '695.1567',\n",
       "        '42.1652', '0']], dtype='<U28')"
      ]
     },
     "execution_count": 67,
     "metadata": {},
     "output_type": "execute_result"
    }
   ],
   "source": [
    "l"
   ]
  },
  {
   "cell_type": "code",
   "execution_count": 64,
   "metadata": {},
   "outputs": [],
   "source": [
    "gt = copy.deepcopy(l[0])"
   ]
  },
  {
   "cell_type": "code",
   "execution_count": 74,
   "metadata": {},
   "outputs": [
    {
     "data": {
      "text/plain": [
       "'2'"
      ]
     },
     "execution_count": 74,
     "metadata": {},
     "output_type": "execute_result"
    }
   ],
   "source": [
    "gt[3].split(\"-\")[4][1]"
   ]
  },
  {
   "cell_type": "code",
   "execution_count": 88,
   "metadata": {},
   "outputs": [
    {
     "data": {
      "text/plain": [
       "['GeneSymbol',\n",
       " 'EntrezID',\n",
       " 'TCGA-2J-AAB1-01A-11R-A41B-07',\n",
       " 'TCGA-2J-AAB4-01A-12R-A41B-07',\n",
       " 'TCGA-2J-AAB6-01A-11R-A41B-07',\n",
       " 'TCGA-2J-AAB8-01A-12R-A41B-07',\n",
       " 'TCGA-2J-AAB9-01A-11R-A41B-07',\n",
       " 'TCGA-2J-AABA-01A-21R-A41B-07',\n",
       " 'TCGA-2J-AABE-01A-12R-A41B-07',\n",
       " 'TCGA-2J-AABF-01A-31R-A41B-07',\n",
       " 'TCGA-2J-AABH-01A-21R-A41B-07',\n",
       " 'TCGA-2J-AABI-01A-12R-A41B-07',\n",
       " 'TCGA-2J-AABK-01A-31R-A41B-07',\n",
       " 'TCGA-2J-AABO-01A-21R-A41B-07',\n",
       " 'TCGA-2J-AABP-01A-11R-A41B-07',\n",
       " 'TCGA-2J-AABR-01A-11R-A41B-07',\n",
       " 'TCGA-2J-AABT-01A-11R-A41B-07',\n",
       " 'TCGA-2J-AABU-01A-11R-A41B-07',\n",
       " 'TCGA-2J-AABV-01A-12R-A41B-07',\n",
       " 'TCGA-2L-AAQA-01A-21R-A38C-07',\n",
       " 'TCGA-2L-AAQE-01A-11R-A39D-07',\n",
       " 'TCGA-2L-AAQI-01A-12R-A39D-07',\n",
       " 'TCGA-2L-AAQJ-01A-12R-A39D-07',\n",
       " 'TCGA-2L-AAQL-01A-11R-A38C-07',\n",
       " 'TCGA-2L-AAQM-01A-11R-A39D-07',\n",
       " 'TCGA-3A-A9I5-01A-11R-A38C-07',\n",
       " 'TCGA-3A-A9I7-01A-21R-A38C-07',\n",
       " 'TCGA-3A-A9I9-01A-11R-A38C-07',\n",
       " 'TCGA-3A-A9IB-01A-21R-A39D-07',\n",
       " 'TCGA-3A-A9IC-01A-11R-A38C-07',\n",
       " 'TCGA-3A-A9IH-01A-12R-A39D-07',\n",
       " 'TCGA-3A-A9IJ-01A-11R-A39D-07',\n",
       " 'TCGA-3A-A9IL-01A-11R-A38C-07',\n",
       " 'TCGA-3A-A9IN-01A-11R-A39D-07',\n",
       " 'TCGA-3A-A9IO-01A-11R-A38C-07',\n",
       " 'TCGA-3A-A9IR-01A-11R-A38C-07',\n",
       " 'TCGA-3A-A9IS-01A-21R-A39D-07',\n",
       " 'TCGA-3A-A9IU-01A-11R-A39D-07',\n",
       " 'TCGA-3A-A9IV-01A-11R-A41B-07',\n",
       " 'TCGA-3A-A9IX-01A-11R-A41B-07',\n",
       " 'TCGA-3A-A9IZ-01A-12R-A41B-07',\n",
       " 'TCGA-3A-A9J0-01A-11R-A41B-07',\n",
       " 'TCGA-3E-AAAY-01A-11R-A38C-07',\n",
       " 'TCGA-3E-AAAZ-01A-11R-A38C-07',\n",
       " 'TCGA-F2-6879-01A-11R-2156-07',\n",
       " 'TCGA-F2-6880-01A-11R-2156-07',\n",
       " 'TCGA-F2-7273-01A-11R-2156-07',\n",
       " 'TCGA-F2-7276-01A-11R-2156-07',\n",
       " 'TCGA-F2-A44G-01A-11R-A26U-07',\n",
       " 'TCGA-F2-A44H-01A-11R-A26U-07',\n",
       " 'TCGA-F2-A7TX-01A-33R-A38C-07',\n",
       " 'TCGA-F2-A8YN-01A-11R-A37L-07',\n",
       " 'TCGA-FB-A4P5-01A-11R-A26U-07',\n",
       " 'TCGA-FB-A4P6-01A-12R-A26U-07',\n",
       " 'TCGA-FB-A545-01A-11R-A26U-07',\n",
       " 'TCGA-FB-A5VM-01A-11R-A32O-07',\n",
       " 'TCGA-FB-A78T-01A-12R-A32O-07',\n",
       " 'TCGA-FB-A7DR-01A-21R-A33R-07',\n",
       " 'TCGA-FB-AAPP-01A-12R-A41B-07',\n",
       " 'TCGA-FB-AAPQ-01A-11R-A41B-07',\n",
       " 'TCGA-FB-AAPS-01A-12R-A39D-07',\n",
       " 'TCGA-FB-AAPU-01A-31R-A41B-07',\n",
       " 'TCGA-FB-AAPY-01A-11R-A41B-07',\n",
       " 'TCGA-FB-AAPZ-01A-11R-A41B-07',\n",
       " 'TCGA-FB-AAQ0-01A-31R-A41B-07',\n",
       " 'TCGA-FB-AAQ1-01A-12R-A41B-07',\n",
       " 'TCGA-FB-AAQ2-01A-31R-A41B-07',\n",
       " 'TCGA-FB-AAQ3-01A-11R-A41B-07',\n",
       " 'TCGA-FB-AAQ6-01A-11R-A41B-07',\n",
       " 'TCGA-H6-8124-01A-11R-2404-07',\n",
       " 'TCGA-H6-8124-11A-01R-2404-07',\n",
       " 'TCGA-H6-A45N-01A-11R-A26U-07',\n",
       " 'TCGA-H6-A45N-11A-12R-A26U-07',\n",
       " 'TCGA-H8-A6C1-01A-11R-A32O-07',\n",
       " 'TCGA-HV-A5A3-01A-11R-A26U-07',\n",
       " 'TCGA-HV-A5A3-11A-11R-A26U-07',\n",
       " 'TCGA-HV-A5A4-01A-11R-A26U-07',\n",
       " 'TCGA-HV-A5A5-01A-11R-A26U-07',\n",
       " 'TCGA-HV-A5A6-01A-11R-A26U-07',\n",
       " 'TCGA-HV-A7OL-01A-11R-A33R-07',\n",
       " 'TCGA-HV-A7OP-01A-11R-A33R-07',\n",
       " 'TCGA-HV-AA8V-01A-11R-A41B-07',\n",
       " 'TCGA-HV-AA8X-01A-11R-A39D-07',\n",
       " 'TCGA-HZ-7289-01A-11R-2156-07',\n",
       " 'TCGA-HZ-7918-01A-11R-2156-07',\n",
       " 'TCGA-HZ-7919-01A-11R-2156-07',\n",
       " 'TCGA-HZ-7920-01A-11R-2204-07',\n",
       " 'TCGA-HZ-7922-01A-11R-2156-07',\n",
       " 'TCGA-HZ-7923-01A-12R-2156-07',\n",
       " 'TCGA-HZ-7924-01A-11R-2156-07',\n",
       " 'TCGA-HZ-7925-01A-11R-2156-07',\n",
       " 'TCGA-HZ-7926-01A-11R-2156-07',\n",
       " 'TCGA-HZ-8001-01A-11R-2204-07',\n",
       " 'TCGA-HZ-8002-01A-11R-2204-07',\n",
       " 'TCGA-HZ-8003-01A-21R-2204-07',\n",
       " 'TCGA-HZ-8005-01A-11R-2204-07',\n",
       " 'TCGA-HZ-8315-01A-11R-2404-07',\n",
       " 'TCGA-HZ-8317-01A-11R-2404-07',\n",
       " 'TCGA-HZ-8519-01A-11R-2404-07',\n",
       " 'TCGA-HZ-8636-01A-21R-2404-07',\n",
       " 'TCGA-HZ-8637-01A-11R-2404-07',\n",
       " 'TCGA-HZ-8638-01A-11R-2404-07',\n",
       " 'TCGA-HZ-A49G-01A-11R-A26U-07',\n",
       " 'TCGA-HZ-A49H-01A-11R-A26U-07',\n",
       " 'TCGA-HZ-A49I-01A-12R-A26U-07',\n",
       " 'TCGA-HZ-A4BH-01A-11R-A26U-07',\n",
       " 'TCGA-HZ-A4BK-01A-11R-A26U-07',\n",
       " 'TCGA-HZ-A77O-01A-11R-A33R-07',\n",
       " 'TCGA-HZ-A77P-01A-11R-A33R-07',\n",
       " 'TCGA-HZ-A77Q-01A-11R-A36G-07',\n",
       " 'TCGA-HZ-A8P0-01A-11R-A36G-07',\n",
       " 'TCGA-HZ-A8P1-01A-11R-A37L-07',\n",
       " 'TCGA-HZ-A9TJ-01A-11R-A41I-07',\n",
       " 'TCGA-HZ-A9TJ-06A-11R-A41B-07',\n",
       " 'TCGA-IB-7644-01A-11R-2156-07',\n",
       " 'TCGA-IB-7645-01A-22R-2204-07',\n",
       " 'TCGA-IB-7646-01A-11R-2156-07',\n",
       " 'TCGA-IB-7647-01A-11R-2156-07',\n",
       " 'TCGA-IB-7649-01A-11R-2156-07',\n",
       " 'TCGA-IB-7651-01A-11R-2156-07',\n",
       " 'TCGA-IB-7652-01A-11R-2156-07',\n",
       " 'TCGA-IB-7654-01A-11R-2156-07',\n",
       " 'TCGA-IB-7885-01A-11R-2156-07',\n",
       " 'TCGA-IB-7886-01A-11R-2156-07',\n",
       " 'TCGA-IB-7887-01A-11R-2156-07',\n",
       " 'TCGA-IB-7888-01A-11R-2156-07',\n",
       " 'TCGA-IB-7889-01A-11R-2156-07',\n",
       " 'TCGA-IB-7890-01A-12R-2204-07',\n",
       " 'TCGA-IB-7891-01A-11R-2204-07',\n",
       " 'TCGA-IB-7893-01A-11R-2204-07',\n",
       " 'TCGA-IB-7897-01A-21R-2204-07',\n",
       " 'TCGA-IB-8126-01A-11R-2404-07',\n",
       " 'TCGA-IB-8127-01A-11R-2404-07',\n",
       " 'TCGA-IB-A5SO-01A-11R-A32O-07',\n",
       " 'TCGA-IB-A5SP-01A-11R-A32O-07',\n",
       " 'TCGA-IB-A5SQ-01A-11R-A32O-07',\n",
       " 'TCGA-IB-A5SS-01A-11R-A32O-07',\n",
       " 'TCGA-IB-A5ST-01A-11R-A32O-07',\n",
       " 'TCGA-IB-A6UF-01A-23R-A33R-07',\n",
       " 'TCGA-IB-A6UG-01A-32R-A33R-07',\n",
       " 'TCGA-IB-A7LX-01A-12R-A36G-07',\n",
       " 'TCGA-IB-A7M4-01A-11R-A36G-07',\n",
       " 'TCGA-IB-AAUM-01A-11R-A37L-07',\n",
       " 'TCGA-IB-AAUN-01A-12R-A38C-07',\n",
       " 'TCGA-IB-AAUO-01A-12R-A38C-07',\n",
       " 'TCGA-IB-AAUP-01A-11R-A37L-07',\n",
       " 'TCGA-IB-AAUQ-01A-22R-A41I-07',\n",
       " 'TCGA-IB-AAUR-01A-21R-A38C-07',\n",
       " 'TCGA-IB-AAUS-01A-12R-A38C-07',\n",
       " 'TCGA-IB-AAUT-01A-11R-A37L-07',\n",
       " 'TCGA-IB-AAUU-01A-11R-A37L-07',\n",
       " 'TCGA-IB-AAUV-01A-11R-A38C-07',\n",
       " 'TCGA-IB-AAUW-01A-12R-A38C-07',\n",
       " 'TCGA-L1-A7W4-01A-12R-A36G-07',\n",
       " 'TCGA-LB-A7SX-01A-11R-A33R-07',\n",
       " 'TCGA-LB-A8F3-01A-11R-A36G-07',\n",
       " 'TCGA-LB-A9Q5-01A-11R-A39D-07',\n",
       " 'TCGA-M8-A5N4-01A-11R-A26U-07',\n",
       " 'TCGA-OE-A75W-01A-12R-A32O-07',\n",
       " 'TCGA-PZ-A5RE-01A-11R-A32O-07',\n",
       " 'TCGA-Q3-A5QY-01A-12R-A32O-07',\n",
       " 'TCGA-Q3-AA2A-01A-11R-A37L-07',\n",
       " 'TCGA-RB-A7B8-01A-12R-A33R-07',\n",
       " 'TCGA-RB-AA9M-01A-11R-A39D-07',\n",
       " 'TCGA-RL-AAAS-01A-32R-A39D-07',\n",
       " 'TCGA-S4-A8RM-01A-11R-A37L-07',\n",
       " 'TCGA-S4-A8RO-01A-12R-A37L-07',\n",
       " 'TCGA-S4-A8RP-01A-11R-A36G-07',\n",
       " 'TCGA-US-A774-01A-21R-A32O-07',\n",
       " 'TCGA-US-A776-01A-13R-A33R-07',\n",
       " 'TCGA-US-A779-01A-11R-A32O-07',\n",
       " 'TCGA-US-A77E-01A-11R-A32O-07',\n",
       " 'TCGA-US-A77G-01A-11R-A32O-07',\n",
       " 'TCGA-US-A77J-01A-11R-A32O-07',\n",
       " 'TCGA-XD-AAUG-01A-61R-A41B-07',\n",
       " 'TCGA-XD-AAUH-01A-42R-A41B-07',\n",
       " 'TCGA-XD-AAUI-01A-42R-A41B-07',\n",
       " 'TCGA-XD-AAUL-01A-21R-A39D-07',\n",
       " 'TCGA-XN-A8T3-01A-11R-A36G-07',\n",
       " 'TCGA-XN-A8T5-01A-12R-A36G-07',\n",
       " 'TCGA-YB-A89D-01A-12R-A36G-07',\n",
       " 'TCGA-YB-A89D-11A-11R-A36G-07',\n",
       " 'TCGA-YH-A8SY-01A-11R-A37L-07',\n",
       " 'TCGA-YY-A8LH-01A-11R-A36G-07',\n",
       " 'TCGA-Z5-AAPL-01A-12R-A41B-07']"
      ]
     },
     "execution_count": 88,
     "metadata": {},
     "output_type": "execute_result"
    }
   ],
   "source": [
    "gt"
   ]
  },
  {
   "cell_type": "code",
   "execution_count": 89,
   "metadata": {},
   "outputs": [],
   "source": [
    "labels = []\n",
    "\n",
    "for i in range(len(gt)):\n",
    "    try:\n",
    "        if gt[i].split(\"-\")[3][0] == '1':\n",
    "            labels.append(0)\n",
    "        else:\n",
    "            labels.append(1)\n",
    "    except:\n",
    "        labels.append(-1)"
   ]
  },
  {
   "cell_type": "code",
   "execution_count": 90,
   "metadata": {},
   "outputs": [
    {
     "data": {
      "text/plain": [
       "185"
      ]
     },
     "execution_count": 90,
     "metadata": {},
     "output_type": "execute_result"
    }
   ],
   "source": [
    "len(labels)"
   ]
  },
  {
   "cell_type": "code",
   "execution_count": 91,
   "metadata": {},
   "outputs": [
    {
     "data": {
      "text/plain": [
       "185"
      ]
     },
     "execution_count": 91,
     "metadata": {},
     "output_type": "execute_result"
    }
   ],
   "source": [
    "len(gt)"
   ]
  },
  {
   "cell_type": "code",
   "execution_count": 92,
   "metadata": {},
   "outputs": [
    {
     "data": {
      "text/plain": [
       "[-1,\n",
       " -1,\n",
       " 1,\n",
       " 1,\n",
       " 1,\n",
       " 1,\n",
       " 1,\n",
       " 1,\n",
       " 1,\n",
       " 1,\n",
       " 1,\n",
       " 1,\n",
       " 1,\n",
       " 1,\n",
       " 1,\n",
       " 1,\n",
       " 1,\n",
       " 1,\n",
       " 1,\n",
       " 1,\n",
       " 1,\n",
       " 1,\n",
       " 1,\n",
       " 1,\n",
       " 1,\n",
       " 1,\n",
       " 1,\n",
       " 1,\n",
       " 1,\n",
       " 1,\n",
       " 1,\n",
       " 1,\n",
       " 1,\n",
       " 1,\n",
       " 1,\n",
       " 1,\n",
       " 1,\n",
       " 1,\n",
       " 1,\n",
       " 1,\n",
       " 1,\n",
       " 1,\n",
       " 1,\n",
       " 1,\n",
       " 1,\n",
       " 1,\n",
       " 1,\n",
       " 1,\n",
       " 1,\n",
       " 1,\n",
       " 1,\n",
       " 1,\n",
       " 1,\n",
       " 1,\n",
       " 1,\n",
       " 1,\n",
       " 1,\n",
       " 1,\n",
       " 1,\n",
       " 1,\n",
       " 1,\n",
       " 1,\n",
       " 1,\n",
       " 1,\n",
       " 1,\n",
       " 1,\n",
       " 1,\n",
       " 1,\n",
       " 1,\n",
       " 1,\n",
       " 0,\n",
       " 1,\n",
       " 0,\n",
       " 1,\n",
       " 1,\n",
       " 0,\n",
       " 1,\n",
       " 1,\n",
       " 1,\n",
       " 1,\n",
       " 1,\n",
       " 1,\n",
       " 1,\n",
       " 1,\n",
       " 1,\n",
       " 1,\n",
       " 1,\n",
       " 1,\n",
       " 1,\n",
       " 1,\n",
       " 1,\n",
       " 1,\n",
       " 1,\n",
       " 1,\n",
       " 1,\n",
       " 1,\n",
       " 1,\n",
       " 1,\n",
       " 1,\n",
       " 1,\n",
       " 1,\n",
       " 1,\n",
       " 1,\n",
       " 1,\n",
       " 1,\n",
       " 1,\n",
       " 1,\n",
       " 1,\n",
       " 1,\n",
       " 1,\n",
       " 1,\n",
       " 1,\n",
       " 1,\n",
       " 1,\n",
       " 1,\n",
       " 1,\n",
       " 1,\n",
       " 1,\n",
       " 1,\n",
       " 1,\n",
       " 1,\n",
       " 1,\n",
       " 1,\n",
       " 1,\n",
       " 1,\n",
       " 1,\n",
       " 1,\n",
       " 1,\n",
       " 1,\n",
       " 1,\n",
       " 1,\n",
       " 1,\n",
       " 1,\n",
       " 1,\n",
       " 1,\n",
       " 1,\n",
       " 1,\n",
       " 1,\n",
       " 1,\n",
       " 1,\n",
       " 1,\n",
       " 1,\n",
       " 1,\n",
       " 1,\n",
       " 1,\n",
       " 1,\n",
       " 1,\n",
       " 1,\n",
       " 1,\n",
       " 1,\n",
       " 1,\n",
       " 1,\n",
       " 1,\n",
       " 1,\n",
       " 1,\n",
       " 1,\n",
       " 1,\n",
       " 1,\n",
       " 1,\n",
       " 1,\n",
       " 1,\n",
       " 1,\n",
       " 1,\n",
       " 1,\n",
       " 1,\n",
       " 1,\n",
       " 1,\n",
       " 1,\n",
       " 1,\n",
       " 1,\n",
       " 1,\n",
       " 1,\n",
       " 1,\n",
       " 1,\n",
       " 1,\n",
       " 1,\n",
       " 1,\n",
       " 1,\n",
       " 1,\n",
       " 1,\n",
       " 1,\n",
       " 0,\n",
       " 1,\n",
       " 1,\n",
       " 1]"
      ]
     },
     "execution_count": 92,
     "metadata": {},
     "output_type": "execute_result"
    }
   ],
   "source": [
    "labels"
   ]
  },
  {
   "cell_type": "code",
   "execution_count": 93,
   "metadata": {},
   "outputs": [],
   "source": [
    "u,c = np.unique(np.array(labels), return_counts = True)"
   ]
  },
  {
   "cell_type": "code",
   "execution_count": 94,
   "metadata": {},
   "outputs": [
    {
     "data": {
      "text/plain": [
       "array([-1,  0,  1])"
      ]
     },
     "execution_count": 94,
     "metadata": {},
     "output_type": "execute_result"
    }
   ],
   "source": [
    "u"
   ]
  },
  {
   "cell_type": "code",
   "execution_count": 95,
   "metadata": {},
   "outputs": [
    {
     "data": {
      "text/plain": [
       "array([  2,   4, 179], dtype=int64)"
      ]
     },
     "execution_count": 95,
     "metadata": {},
     "output_type": "execute_result"
    }
   ],
   "source": [
    "c"
   ]
  },
  {
   "cell_type": "code",
   "execution_count": 99,
   "metadata": {},
   "outputs": [
    {
     "data": {
      "text/plain": [
       "array(['EntrezID', '100133144', '100134869', ..., '26009', '387590',\n",
       "       '389932'], dtype='<U28')"
      ]
     },
     "execution_count": 99,
     "metadata": {},
     "output_type": "execute_result"
    }
   ],
   "source": [
    "l[1]"
   ]
  },
  {
   "cell_type": "code",
   "execution_count": 61,
   "metadata": {},
   "outputs": [
    {
     "data": {
      "text/plain": [
       "['75119D1A-93E5-4AE7-9D60-69EE929A0772',\n",
       " 'TCGA-2J-AAB1',\n",
       " '2014-7-16',\n",
       " 'YES',\n",
       " 'Pancreas-Adenocarcinoma-Other Subtype',\n",
       " 'invasive adenocarcinoma',\n",
       " 'Primary',\n",
       " 'NO',\n",
       " 'YES',\n",
       " 'MALE',\n",
       " '-23962',\n",
       " 'WHITE',\n",
       " '[Unknown]',\n",
       " 'No',\n",
       " 'No',\n",
       " '2012',\n",
       " 'Tumor resection',\n",
       " '[Not Applicable]',\n",
       " 'Whipple',\n",
       " 'YES',\n",
       " '22',\n",
       " '7',\n",
       " '0',\n",
       " 'G3',\n",
       " 'Four Tier',\n",
       " '4.5',\n",
       " 'R0',\n",
       " '7th',\n",
       " 'T3',\n",
       " 'N1',\n",
       " 'M0',\n",
       " 'Stage IIB',\n",
       " 'Dead',\n",
       " '[Not Available]',\n",
       " '66',\n",
       " 'TUMOR FREE',\n",
       " 'Pancreatic Cancer',\n",
       " 'Medical Record',\n",
       " '3',\n",
       " '1962',\n",
       " '1988',\n",
       " '25',\n",
       " 'YES',\n",
       " 'Weekly Drinker',\n",
       " '3',\n",
       " '1',\n",
       " 'NO',\n",
       " '[Not Available]',\n",
       " 'NO',\n",
       " '[Not Available]',\n",
       " 'NO',\n",
       " '[Not Available]',\n",
       " 'NO',\n",
       " 'Complete Remission/Response',\n",
       " 'NO',\n",
       " '65',\n",
       " 'Head of Pancreas',\n",
       " '[Not Applicable]',\n",
       " '[Not Applicable]',\n",
       " '[Not Applicable]',\n",
       " '[Not Applicable]',\n",
       " '[Not Applicable]',\n",
       " '0',\n",
       " '[Not Available]',\n",
       " '[Not Available]',\n",
       " '[Not Available]',\n",
       " '[Not Applicable]',\n",
       " 'C25.0',\n",
       " '8480/3',\n",
       " 'C25.0',\n",
       " 'YES',\n",
       " 'AAB1',\n",
       " '[Not Available]',\n",
       " '[Not Available]',\n",
       " 'YES',\n",
       " '2J',\n",
       " 'Pancreas']"
      ]
     },
     "execution_count": 61,
     "metadata": {},
     "output_type": "execute_result"
    }
   ],
   "source": [
    "l2[3]"
   ]
  },
  {
   "cell_type": "code",
   "execution_count": null,
   "metadata": {},
   "outputs": [],
   "source": []
  },
  {
   "cell_type": "code",
   "execution_count": null,
   "metadata": {},
   "outputs": [],
   "source": []
  },
  {
   "cell_type": "code",
   "execution_count": 104,
   "metadata": {},
   "outputs": [],
   "source": [
    "data = l[2:]\n",
    "labels = labels[2:]"
   ]
  },
  {
   "cell_type": "code",
   "execution_count": 105,
   "metadata": {},
   "outputs": [
    {
     "data": {
      "text/plain": [
       "array(['TCGA-2J-AAB1-01A-11R-A41B-07', '8.5512', '8.522', ..., '616.0976',\n",
       "       '45.3659', '0'], dtype='<U28')"
      ]
     },
     "execution_count": 105,
     "metadata": {},
     "output_type": "execute_result"
    }
   ],
   "source": [
    "data[0]"
   ]
  },
  {
   "cell_type": "code",
   "execution_count": 106,
   "metadata": {},
   "outputs": [
    {
     "data": {
      "text/plain": [
       "array(['TCGA-2J-AAB1-01A-11R-A41B-07', '8.5512', '8.522', ..., '616.0976',\n",
       "       '45.3659', '0'], dtype='<U28')"
      ]
     },
     "execution_count": 106,
     "metadata": {},
     "output_type": "execute_result"
    }
   ],
   "source": [
    "l[2]"
   ]
  },
  {
   "cell_type": "code",
   "execution_count": 109,
   "metadata": {},
   "outputs": [],
   "source": [
    "u,c = np.unique(labels, return_counts = True)"
   ]
  },
  {
   "cell_type": "code",
   "execution_count": 110,
   "metadata": {},
   "outputs": [
    {
     "data": {
      "text/plain": [
       "array([0, 1])"
      ]
     },
     "execution_count": 110,
     "metadata": {},
     "output_type": "execute_result"
    }
   ],
   "source": [
    "u"
   ]
  },
  {
   "cell_type": "code",
   "execution_count": 111,
   "metadata": {},
   "outputs": [
    {
     "data": {
      "text/plain": [
       "array([  4, 179], dtype=int64)"
      ]
     },
     "execution_count": 111,
     "metadata": {},
     "output_type": "execute_result"
    }
   ],
   "source": [
    "c"
   ]
  },
  {
   "cell_type": "code",
   "execution_count": 112,
   "metadata": {},
   "outputs": [
    {
     "data": {
      "text/plain": [
       "183"
      ]
     },
     "execution_count": 112,
     "metadata": {},
     "output_type": "execute_result"
    }
   ],
   "source": [
    "len(data)"
   ]
  },
  {
   "cell_type": "code",
   "execution_count": 113,
   "metadata": {},
   "outputs": [],
   "source": [
    "data = data[:,1:]"
   ]
  },
  {
   "cell_type": "code",
   "execution_count": 114,
   "metadata": {},
   "outputs": [
    {
     "data": {
      "text/plain": [
       "array(['8.5512', '8.522', '110.7707', ..., '616.0976', '45.3659', '0'],\n",
       "      dtype='<U28')"
      ]
     },
     "execution_count": 114,
     "metadata": {},
     "output_type": "execute_result"
    }
   ],
   "source": [
    "data[0]"
   ]
  },
  {
   "cell_type": "code",
   "execution_count": 117,
   "metadata": {},
   "outputs": [],
   "source": [
    "import pandas as pd \n",
    "pd.DataFrame(l).to_csv(\"file.csv\")"
   ]
  },
  {
   "cell_type": "code",
   "execution_count": 118,
   "metadata": {},
   "outputs": [],
   "source": [
    "pd.DataFrame(l[:,29:]).to_csv(\"file2.csv\")"
   ]
  },
  {
   "cell_type": "code",
   "execution_count": 119,
   "metadata": {},
   "outputs": [],
   "source": [
    "loo = l[:,29:]"
   ]
  },
  {
   "cell_type": "code",
   "execution_count": 120,
   "metadata": {},
   "outputs": [],
   "source": [
    "dt = data[:,28:]"
   ]
  },
  {
   "cell_type": "code",
   "execution_count": 121,
   "metadata": {},
   "outputs": [
    {
     "data": {
      "text/plain": [
       "array(['81.9122', '25.3659', '0.4878', ..., '616.0976', '45.3659', '0'],\n",
       "      dtype='<U28')"
      ]
     },
     "execution_count": 121,
     "metadata": {},
     "output_type": "execute_result"
    }
   ],
   "source": [
    "dt[0]"
   ]
  },
  {
   "cell_type": "code",
   "execution_count": 124,
   "metadata": {},
   "outputs": [
    {
     "data": {
      "text/plain": [
       "array(['81.9122', '25.3659', '0.4878', ..., '616.0976', '45.3659', '0'],\n",
       "      dtype='<U28')"
      ]
     },
     "execution_count": 124,
     "metadata": {},
     "output_type": "execute_result"
    }
   ],
   "source": [
    "loo[2]"
   ]
  },
  {
   "cell_type": "code",
   "execution_count": 125,
   "metadata": {},
   "outputs": [],
   "source": [
    "pd.DataFrame(labels).to_csv(\"label.csv\")"
   ]
  },
  {
   "cell_type": "code",
   "execution_count": 126,
   "metadata": {},
   "outputs": [],
   "source": [
    "pd.DataFrame(dt).to_csv(\"data.csv\")"
   ]
  },
  {
   "cell_type": "code",
   "execution_count": 127,
   "metadata": {},
   "outputs": [
    {
     "data": {
      "text/plain": [
       "183"
      ]
     },
     "execution_count": 127,
     "metadata": {},
     "output_type": "execute_result"
    }
   ],
   "source": [
    "len(dt)"
   ]
  },
  {
   "cell_type": "code",
   "execution_count": 128,
   "metadata": {},
   "outputs": [
    {
     "data": {
      "text/plain": [
       "183"
      ]
     },
     "execution_count": 128,
     "metadata": {},
     "output_type": "execute_result"
    }
   ],
   "source": [
    "len(labels)"
   ]
  },
  {
   "cell_type": "code",
   "execution_count": 132,
   "metadata": {},
   "outputs": [],
   "source": [
    "pd.DataFrame(l[0]).to_csv(\"dct.csv\")"
   ]
  },
  {
   "cell_type": "code",
   "execution_count": null,
   "metadata": {},
   "outputs": [],
   "source": []
  }
 ],
 "metadata": {
  "kernelspec": {
   "display_name": "Python 3",
   "language": "python",
   "name": "python3"
  },
  "language_info": {
   "codemirror_mode": {
    "name": "ipython",
    "version": 3
   },
   "file_extension": ".py",
   "mimetype": "text/x-python",
   "name": "python",
   "nbconvert_exporter": "python",
   "pygments_lexer": "ipython3",
   "version": "3.7.1"
  }
 },
 "nbformat": 4,
 "nbformat_minor": 2
}
