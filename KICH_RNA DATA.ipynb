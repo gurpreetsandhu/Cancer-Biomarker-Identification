{
 "cells": [
  {
   "cell_type": "code",
   "execution_count": 1,
   "metadata": {},
   "outputs": [],
   "source": [
    "import numpy as np\n",
    "import copy"
   ]
  },
  {
   "cell_type": "code",
   "execution_count": 2,
   "metadata": {},
   "outputs": [],
   "source": [
    "f = open(\"KICH__RNAExp.txt\",\"r\")"
   ]
  },
  {
   "cell_type": "code",
   "execution_count": 3,
   "metadata": {},
   "outputs": [
    {
     "data": {
      "text/plain": [
       "<_io.TextIOWrapper name='KICH__RNAExp.txt' mode='r' encoding='cp1252'>"
      ]
     },
     "execution_count": 3,
     "metadata": {},
     "output_type": "execute_result"
    }
   ],
   "source": [
    "f"
   ]
  },
  {
   "cell_type": "code",
   "execution_count": 4,
   "metadata": {},
   "outputs": [],
   "source": [
    "dt = f.readlines()"
   ]
  },
  {
   "cell_type": "code",
   "execution_count": 5,
   "metadata": {},
   "outputs": [],
   "source": [
    "l = []\n",
    "for i in range(len(dt)):\n",
    "    l.append(dt[i].split(\"\\t\"))"
   ]
  },
  {
   "cell_type": "code",
   "execution_count": 6,
   "metadata": {},
   "outputs": [],
   "source": [
    "f.close()"
   ]
  },
  {
   "cell_type": "code",
   "execution_count": 7,
   "metadata": {},
   "outputs": [
    {
     "data": {
      "text/plain": [
       "20531"
      ]
     },
     "execution_count": 7,
     "metadata": {},
     "output_type": "execute_result"
    }
   ],
   "source": [
    "len(l)"
   ]
  },
  {
   "cell_type": "code",
   "execution_count": 8,
   "metadata": {},
   "outputs": [
    {
     "data": {
      "text/plain": [
       "'5835.9632\\n'"
      ]
     },
     "execution_count": 8,
     "metadata": {},
     "output_type": "execute_result"
    }
   ],
   "source": [
    "l[34][92]"
   ]
  },
  {
   "cell_type": "code",
   "execution_count": 9,
   "metadata": {},
   "outputs": [],
   "source": [
    "for i in range(len(l)):\n",
    "    l[i][92] = l[i][92].split(\"\\n\")[0]"
   ]
  },
  {
   "cell_type": "code",
   "execution_count": 10,
   "metadata": {},
   "outputs": [
    {
     "data": {
      "text/plain": [
       "['GeneSymbol',\n",
       " 'EntrezID',\n",
       " 'TCGA-KL-8323-01A-21R-2315-07',\n",
       " 'TCGA-KL-8324-01A-11R-2315-07',\n",
       " 'TCGA-KL-8324-11A-01R-2315-07',\n",
       " 'TCGA-KL-8325-01A-11R-2315-07',\n",
       " 'TCGA-KL-8326-01A-11R-2315-07',\n",
       " 'TCGA-KL-8326-11A-01R-2315-07',\n",
       " 'TCGA-KL-8327-01A-11R-2315-07',\n",
       " 'TCGA-KL-8328-01A-11R-2315-07',\n",
       " 'TCGA-KL-8329-01A-11R-2315-07',\n",
       " 'TCGA-KL-8329-11A-01R-2315-07',\n",
       " 'TCGA-KL-8330-01A-11R-2315-07',\n",
       " 'TCGA-KL-8331-01A-11R-2315-07',\n",
       " 'TCGA-KL-8332-01A-11R-2315-07',\n",
       " 'TCGA-KL-8332-11A-01R-2315-07',\n",
       " 'TCGA-KL-8333-01A-11R-2315-07',\n",
       " 'TCGA-KL-8334-01A-11R-2315-07',\n",
       " 'TCGA-KL-8335-01A-11R-2315-07',\n",
       " 'TCGA-KL-8336-01A-11R-2315-07',\n",
       " 'TCGA-KL-8336-11A-01R-2315-07',\n",
       " 'TCGA-KL-8337-01A-11R-2315-07',\n",
       " 'TCGA-KL-8338-01A-11R-2315-07',\n",
       " 'TCGA-KL-8339-01A-11R-2315-07',\n",
       " 'TCGA-KL-8339-11A-01R-2315-07',\n",
       " 'TCGA-KL-8340-01A-11R-2315-07',\n",
       " 'TCGA-KL-8341-01A-11R-2315-07',\n",
       " 'TCGA-KL-8342-01A-11R-2315-07',\n",
       " 'TCGA-KL-8343-01A-11R-2315-07',\n",
       " 'TCGA-KL-8344-01A-11R-2315-07',\n",
       " 'TCGA-KL-8345-01A-11R-2315-07',\n",
       " 'TCGA-KL-8346-01A-11R-2315-07',\n",
       " 'TCGA-KM-8438-01A-11R-2315-07',\n",
       " 'TCGA-KM-8439-01A-11R-2315-07',\n",
       " 'TCGA-KM-8440-01A-11R-2315-07',\n",
       " 'TCGA-KM-8441-01A-11R-2315-07',\n",
       " 'TCGA-KM-8442-01A-11R-2315-07',\n",
       " 'TCGA-KM-8443-01A-11R-2315-07',\n",
       " 'TCGA-KM-8476-01A-11R-2315-07',\n",
       " 'TCGA-KM-8477-01A-11R-2315-07',\n",
       " 'TCGA-KM-8639-01A-11R-2403-07',\n",
       " 'TCGA-KN-8418-01A-11R-2315-07',\n",
       " 'TCGA-KN-8419-01A-11R-2315-07',\n",
       " 'TCGA-KN-8419-11A-01R-2315-07',\n",
       " 'TCGA-KN-8421-01A-11R-2315-07',\n",
       " 'TCGA-KN-8422-01A-11R-2315-07',\n",
       " 'TCGA-KN-8422-11A-01R-2315-07',\n",
       " 'TCGA-KN-8423-01A-11R-2315-07',\n",
       " 'TCGA-KN-8423-11A-01R-2315-07',\n",
       " 'TCGA-KN-8424-01A-11R-2315-07',\n",
       " 'TCGA-KN-8424-11A-01R-2315-07',\n",
       " 'TCGA-KN-8425-01A-11R-2315-07',\n",
       " 'TCGA-KN-8425-11A-01R-2315-07',\n",
       " 'TCGA-KN-8426-01A-11R-2315-07',\n",
       " 'TCGA-KN-8426-11A-01R-2315-07',\n",
       " 'TCGA-KN-8427-01A-11R-2315-07',\n",
       " 'TCGA-KN-8427-11A-01R-2315-07',\n",
       " 'TCGA-KN-8428-01A-11R-2315-07',\n",
       " 'TCGA-KN-8428-11A-01R-2315-07',\n",
       " 'TCGA-KN-8429-01A-11R-2315-07',\n",
       " 'TCGA-KN-8429-11A-01R-2315-07',\n",
       " 'TCGA-KN-8430-01A-11R-2315-07',\n",
       " 'TCGA-KN-8430-11A-01R-2315-07',\n",
       " 'TCGA-KN-8431-01A-11R-2315-07',\n",
       " 'TCGA-KN-8431-11A-01R-2315-07',\n",
       " 'TCGA-KN-8432-01A-11R-2315-07',\n",
       " 'TCGA-KN-8432-11A-01R-2315-07',\n",
       " 'TCGA-KN-8433-01A-11R-2315-07',\n",
       " 'TCGA-KN-8433-11A-01R-2315-07',\n",
       " 'TCGA-KN-8434-01A-11R-2315-07',\n",
       " 'TCGA-KN-8434-11A-01R-2315-07',\n",
       " 'TCGA-KN-8435-01A-11R-2315-07',\n",
       " 'TCGA-KN-8435-11A-01R-2315-07',\n",
       " 'TCGA-KN-8436-01A-11R-2315-07',\n",
       " 'TCGA-KN-8436-11A-01R-2315-07',\n",
       " 'TCGA-KN-8437-01A-11R-2315-07',\n",
       " 'TCGA-KN-8437-11A-01R-2315-07',\n",
       " 'TCGA-KO-8403-01A-11R-2315-07',\n",
       " 'TCGA-KO-8403-11A-01R-2315-07',\n",
       " 'TCGA-KO-8404-01A-11R-2315-07',\n",
       " 'TCGA-KO-8405-01A-11R-2315-07',\n",
       " 'TCGA-KO-8406-01A-11R-2315-07',\n",
       " 'TCGA-KO-8407-01A-11R-2315-07',\n",
       " 'TCGA-KO-8408-01A-11R-2315-07',\n",
       " 'TCGA-KO-8409-01A-11R-2315-07',\n",
       " 'TCGA-KO-8410-01A-11R-2315-07',\n",
       " 'TCGA-KO-8411-01A-11R-2315-07',\n",
       " 'TCGA-KO-8413-01A-11R-2315-07',\n",
       " 'TCGA-KO-8414-01A-11R-2315-07',\n",
       " 'TCGA-KO-8415-01A-11R-2315-07',\n",
       " 'TCGA-KO-8415-11A-01R-2315-07',\n",
       " 'TCGA-KO-8416-01A-11R-2315-07',\n",
       " 'TCGA-KO-8417-01A-11R-2315-07']"
      ]
     },
     "execution_count": 10,
     "metadata": {},
     "output_type": "execute_result"
    }
   ],
   "source": [
    "l[0]"
   ]
  },
  {
   "cell_type": "code",
   "execution_count": 11,
   "metadata": {},
   "outputs": [
    {
     "data": {
      "text/plain": [
       "['?',\n",
       " '100133144',\n",
       " '8.8472',\n",
       " '10.2397',\n",
       " '7.1989',\n",
       " '6.0252',\n",
       " '1.6957',\n",
       " '4.2791',\n",
       " '2.8302',\n",
       " '1.7671',\n",
       " '2.2676',\n",
       " '3.6995',\n",
       " '5.2891',\n",
       " '1.8747',\n",
       " '0',\n",
       " '0.7535',\n",
       " '5.9159',\n",
       " '8.0585',\n",
       " '3.7604',\n",
       " '3.7819',\n",
       " '3.8314',\n",
       " '1.8971',\n",
       " '0.8741',\n",
       " '22.5036',\n",
       " '6.2177',\n",
       " '3.3939',\n",
       " '15.9047',\n",
       " '1.0328',\n",
       " '8.2147',\n",
       " '8.5501',\n",
       " '3.3798',\n",
       " '0.8599',\n",
       " '2.5567',\n",
       " '0.9789',\n",
       " '3.7978',\n",
       " '0',\n",
       " '14.2178',\n",
       " '7.3859',\n",
       " '2.741',\n",
       " '8.296',\n",
       " '2.993',\n",
       " '10.8591',\n",
       " '6.2837',\n",
       " '1.2053',\n",
       " '4.7507',\n",
       " '1.7804',\n",
       " '3.6778',\n",
       " '0',\n",
       " '6.1941',\n",
       " '15.349',\n",
       " '3.256',\n",
       " '8',\n",
       " '7.9298',\n",
       " '30.7276',\n",
       " '11.4151',\n",
       " '21.4202',\n",
       " '3.8193',\n",
       " '21.1208',\n",
       " '2.67',\n",
       " '8.8466',\n",
       " '2.288',\n",
       " '14.8016',\n",
       " '6.1628',\n",
       " '0',\n",
       " '3.1434',\n",
       " '9.6729',\n",
       " '5.5357',\n",
       " '8.177',\n",
       " '6.1649',\n",
       " '6.161',\n",
       " '0.9934',\n",
       " '30.399',\n",
       " '6.4548',\n",
       " '17.2822',\n",
       " '2.0853',\n",
       " '2.701',\n",
       " '4.6397',\n",
       " '4.4464',\n",
       " '11.9308',\n",
       " '4.9342',\n",
       " '0.4801',\n",
       " '3.5704',\n",
       " '7.8356',\n",
       " '7.1955',\n",
       " '6.1565',\n",
       " '8.8693',\n",
       " '3.2566',\n",
       " '11.5483',\n",
       " '3.2197',\n",
       " '0.5373',\n",
       " '7.5991',\n",
       " '1.3153',\n",
       " '2.7337']"
      ]
     },
     "execution_count": 11,
     "metadata": {},
     "output_type": "execute_result"
    }
   ],
   "source": [
    "l[1]"
   ]
  },
  {
   "cell_type": "code",
   "execution_count": 12,
   "metadata": {},
   "outputs": [],
   "source": [
    "l = np.array(l).T"
   ]
  },
  {
   "cell_type": "code",
   "execution_count": 13,
   "metadata": {},
   "outputs": [
    {
     "data": {
      "text/plain": [
       "array([['GeneSymbol', '?', '?', ..., 'ZZZ3', 'psiTPTE22', 'tAKR'],\n",
       "       ['EntrezID', '100133144', '100134869', ..., '26009', '387590',\n",
       "        '389932'],\n",
       "       ['TCGA-KL-8323-01A-21R-2315-07', '8.8472', '5.5126', ...,\n",
       "        '592.7403', '1.9944', '8.3765'],\n",
       "       ...,\n",
       "       ['TCGA-KO-8415-11A-01R-2315-07', '7.5991', '10.7784', ...,\n",
       "        '914.7378', '273.3646', '0'],\n",
       "       ['TCGA-KO-8416-01A-11R-2315-07', '1.3153', '3.4197', ...,\n",
       "        '376.1673', '583.4539', '0.5261'],\n",
       "       ['TCGA-KO-8417-01A-11R-2315-07', '2.7337', '3.9943', ...,\n",
       "        '651.5581', '474.5042', '0']], dtype='<U28')"
      ]
     },
     "execution_count": 13,
     "metadata": {},
     "output_type": "execute_result"
    }
   ],
   "source": [
    "l"
   ]
  },
  {
   "cell_type": "code",
   "execution_count": 14,
   "metadata": {},
   "outputs": [],
   "source": [
    "gt = copy.deepcopy(l)"
   ]
  },
  {
   "cell_type": "code",
   "execution_count": 15,
   "metadata": {},
   "outputs": [
    {
     "data": {
      "text/plain": [
       "['GeneSymbol']"
      ]
     },
     "execution_count": 15,
     "metadata": {},
     "output_type": "execute_result"
    }
   ],
   "source": [
    "gt[0][0].split('-')"
   ]
  },
  {
   "cell_type": "code",
   "execution_count": 16,
   "metadata": {},
   "outputs": [],
   "source": [
    "labels = []\n",
    "\n",
    "for i in range(len(gt)):\n",
    "    try:\n",
    "        if gt[i][0].split(\"-\")[3][0] == '1':\n",
    "            labels.append(0)\n",
    "        else:\n",
    "            labels.append(1)\n",
    "    except:\n",
    "        labels.append(-1)"
   ]
  },
  {
   "cell_type": "code",
   "execution_count": 17,
   "metadata": {},
   "outputs": [
    {
     "data": {
      "text/plain": [
       "93"
      ]
     },
     "execution_count": 17,
     "metadata": {},
     "output_type": "execute_result"
    }
   ],
   "source": [
    "len(labels)"
   ]
  },
  {
   "cell_type": "code",
   "execution_count": 18,
   "metadata": {},
   "outputs": [
    {
     "data": {
      "text/plain": [
       "93"
      ]
     },
     "execution_count": 18,
     "metadata": {},
     "output_type": "execute_result"
    }
   ],
   "source": [
    "len(gt)"
   ]
  },
  {
   "cell_type": "code",
   "execution_count": 19,
   "metadata": {},
   "outputs": [
    {
     "data": {
      "text/plain": [
       "[-1,\n",
       " -1,\n",
       " 1,\n",
       " 1,\n",
       " 0,\n",
       " 1,\n",
       " 1,\n",
       " 0,\n",
       " 1,\n",
       " 1,\n",
       " 1,\n",
       " 0,\n",
       " 1,\n",
       " 1,\n",
       " 1,\n",
       " 0,\n",
       " 1,\n",
       " 1,\n",
       " 1,\n",
       " 1,\n",
       " 0,\n",
       " 1,\n",
       " 1,\n",
       " 1,\n",
       " 0,\n",
       " 1,\n",
       " 1,\n",
       " 1,\n",
       " 1,\n",
       " 1,\n",
       " 1,\n",
       " 1,\n",
       " 1,\n",
       " 1,\n",
       " 1,\n",
       " 1,\n",
       " 1,\n",
       " 1,\n",
       " 1,\n",
       " 1,\n",
       " 1,\n",
       " 1,\n",
       " 1,\n",
       " 0,\n",
       " 1,\n",
       " 1,\n",
       " 0,\n",
       " 1,\n",
       " 0,\n",
       " 1,\n",
       " 0,\n",
       " 1,\n",
       " 0,\n",
       " 1,\n",
       " 0,\n",
       " 1,\n",
       " 0,\n",
       " 1,\n",
       " 0,\n",
       " 1,\n",
       " 0,\n",
       " 1,\n",
       " 0,\n",
       " 1,\n",
       " 0,\n",
       " 1,\n",
       " 0,\n",
       " 1,\n",
       " 0,\n",
       " 1,\n",
       " 0,\n",
       " 1,\n",
       " 0,\n",
       " 1,\n",
       " 0,\n",
       " 1,\n",
       " 0,\n",
       " 1,\n",
       " 0,\n",
       " 1,\n",
       " 1,\n",
       " 1,\n",
       " 1,\n",
       " 1,\n",
       " 1,\n",
       " 1,\n",
       " 1,\n",
       " 1,\n",
       " 1,\n",
       " 1,\n",
       " 0,\n",
       " 1,\n",
       " 1]"
      ]
     },
     "execution_count": 19,
     "metadata": {},
     "output_type": "execute_result"
    }
   ],
   "source": [
    "labels"
   ]
  },
  {
   "cell_type": "code",
   "execution_count": 20,
   "metadata": {},
   "outputs": [],
   "source": [
    "u,c = np.unique(np.array(labels), return_counts = True)"
   ]
  },
  {
   "cell_type": "code",
   "execution_count": 21,
   "metadata": {},
   "outputs": [
    {
     "data": {
      "text/plain": [
       "array([-1,  0,  1])"
      ]
     },
     "execution_count": 21,
     "metadata": {},
     "output_type": "execute_result"
    }
   ],
   "source": [
    "u"
   ]
  },
  {
   "cell_type": "code",
   "execution_count": 22,
   "metadata": {},
   "outputs": [
    {
     "data": {
      "text/plain": [
       "array([ 2, 25, 66], dtype=int64)"
      ]
     },
     "execution_count": 22,
     "metadata": {},
     "output_type": "execute_result"
    }
   ],
   "source": [
    "c"
   ]
  },
  {
   "cell_type": "code",
   "execution_count": 23,
   "metadata": {},
   "outputs": [
    {
     "data": {
      "text/plain": [
       "array(['EntrezID', '100133144', '100134869', ..., '26009', '387590',\n",
       "       '389932'], dtype='<U28')"
      ]
     },
     "execution_count": 23,
     "metadata": {},
     "output_type": "execute_result"
    }
   ],
   "source": [
    "l[1]"
   ]
  },
  {
   "cell_type": "code",
   "execution_count": 24,
   "metadata": {},
   "outputs": [
    {
     "data": {
      "text/plain": [
       "array(['TCGA-KL-8323-01A-21R-2315-07', '8.8472', '5.5126', ...,\n",
       "       '592.7403', '1.9944', '8.3765'], dtype='<U28')"
      ]
     },
     "execution_count": 24,
     "metadata": {},
     "output_type": "execute_result"
    }
   ],
   "source": [
    "l[2]"
   ]
  },
  {
   "cell_type": "code",
   "execution_count": 25,
   "metadata": {},
   "outputs": [],
   "source": [
    "data = l[2:]\n",
    "labels = labels[2:]"
   ]
  },
  {
   "cell_type": "code",
   "execution_count": 26,
   "metadata": {},
   "outputs": [
    {
     "data": {
      "text/plain": [
       "array(['TCGA-KL-8323-01A-21R-2315-07', '8.8472', '5.5126', ...,\n",
       "       '592.7403', '1.9944', '8.3765'], dtype='<U28')"
      ]
     },
     "execution_count": 26,
     "metadata": {},
     "output_type": "execute_result"
    }
   ],
   "source": [
    "data[0]"
   ]
  },
  {
   "cell_type": "code",
   "execution_count": 27,
   "metadata": {},
   "outputs": [
    {
     "data": {
      "text/plain": [
       "array(['TCGA-KL-8323-01A-21R-2315-07', '8.8472', '5.5126', ...,\n",
       "       '592.7403', '1.9944', '8.3765'], dtype='<U28')"
      ]
     },
     "execution_count": 27,
     "metadata": {},
     "output_type": "execute_result"
    }
   ],
   "source": [
    "l[2]"
   ]
  },
  {
   "cell_type": "code",
   "execution_count": 28,
   "metadata": {},
   "outputs": [],
   "source": [
    "u,c = np.unique(labels, return_counts = True)"
   ]
  },
  {
   "cell_type": "code",
   "execution_count": 29,
   "metadata": {},
   "outputs": [
    {
     "data": {
      "text/plain": [
       "array([0, 1])"
      ]
     },
     "execution_count": 29,
     "metadata": {},
     "output_type": "execute_result"
    }
   ],
   "source": [
    "u"
   ]
  },
  {
   "cell_type": "code",
   "execution_count": 30,
   "metadata": {},
   "outputs": [
    {
     "data": {
      "text/plain": [
       "array([25, 66], dtype=int64)"
      ]
     },
     "execution_count": 30,
     "metadata": {},
     "output_type": "execute_result"
    }
   ],
   "source": [
    "c"
   ]
  },
  {
   "cell_type": "code",
   "execution_count": 31,
   "metadata": {},
   "outputs": [
    {
     "data": {
      "text/plain": [
       "91"
      ]
     },
     "execution_count": 31,
     "metadata": {},
     "output_type": "execute_result"
    }
   ],
   "source": [
    "len(data)"
   ]
  },
  {
   "cell_type": "code",
   "execution_count": 111,
   "metadata": {},
   "outputs": [],
   "source": [
    "data = data[:,1:]"
   ]
  },
  {
   "cell_type": "code",
   "execution_count": 112,
   "metadata": {},
   "outputs": [
    {
     "data": {
      "text/plain": [
       "array(['8.8472', '5.5126', '98.6478', ..., '592.7403', '1.9944', '8.3765'],\n",
       "      dtype='<U28')"
      ]
     },
     "execution_count": 112,
     "metadata": {},
     "output_type": "execute_result"
    }
   ],
   "source": [
    "data[0]"
   ]
  },
  {
   "cell_type": "code",
   "execution_count": 113,
   "metadata": {},
   "outputs": [],
   "source": [
    "import pandas as pd \n",
    "pd.DataFrame(l).to_csv(\"kichfile.csv\")"
   ]
  },
  {
   "cell_type": "code",
   "execution_count": 114,
   "metadata": {},
   "outputs": [],
   "source": [
    "pd.DataFrame(l[:,29:]).to_csv(\"kichfile2.csv\")"
   ]
  },
  {
   "cell_type": "code",
   "execution_count": 115,
   "metadata": {},
   "outputs": [],
   "source": [
    "loo = l[:,29:]"
   ]
  },
  {
   "cell_type": "code",
   "execution_count": 116,
   "metadata": {},
   "outputs": [],
   "source": [
    "dt = data[:,28:]"
   ]
  },
  {
   "cell_type": "code",
   "execution_count": 117,
   "metadata": {},
   "outputs": [
    {
     "data": {
      "text/plain": [
       "array(['9.1903', '0', '0', ..., '592.7403', '1.9944', '8.3765'],\n",
       "      dtype='<U28')"
      ]
     },
     "execution_count": 117,
     "metadata": {},
     "output_type": "execute_result"
    }
   ],
   "source": [
    "dt[0]"
   ]
  },
  {
   "cell_type": "code",
   "execution_count": 118,
   "metadata": {},
   "outputs": [
    {
     "data": {
      "text/plain": [
       "array(['9.1903', '0', '0', ..., '592.7403', '1.9944', '8.3765'],\n",
       "      dtype='<U28')"
      ]
     },
     "execution_count": 118,
     "metadata": {},
     "output_type": "execute_result"
    }
   ],
   "source": [
    "loo[2]"
   ]
  },
  {
   "cell_type": "code",
   "execution_count": 119,
   "metadata": {},
   "outputs": [],
   "source": [
    "pd.DataFrame(labels).to_csv(\"kichlabel.csv\")"
   ]
  },
  {
   "cell_type": "code",
   "execution_count": 120,
   "metadata": {},
   "outputs": [],
   "source": [
    "pd.DataFrame(dt).to_csv(\"kichdata.csv\")"
   ]
  },
  {
   "cell_type": "code",
   "execution_count": 121,
   "metadata": {},
   "outputs": [
    {
     "data": {
      "text/plain": [
       "91"
      ]
     },
     "execution_count": 121,
     "metadata": {},
     "output_type": "execute_result"
    }
   ],
   "source": [
    "len(dt)"
   ]
  },
  {
   "cell_type": "code",
   "execution_count": 122,
   "metadata": {},
   "outputs": [
    {
     "data": {
      "text/plain": [
       "91"
      ]
     },
     "execution_count": 122,
     "metadata": {},
     "output_type": "execute_result"
    }
   ],
   "source": [
    "len(labels)"
   ]
  },
  {
   "cell_type": "code",
   "execution_count": null,
   "metadata": {},
   "outputs": [],
   "source": []
  }
 ],
 "metadata": {
  "kernelspec": {
   "display_name": "Python 3",
   "language": "python",
   "name": "python3"
  },
  "language_info": {
   "codemirror_mode": {
    "name": "ipython",
    "version": 3
   },
   "file_extension": ".py",
   "mimetype": "text/x-python",
   "name": "python",
   "nbconvert_exporter": "python",
   "pygments_lexer": "ipython3",
   "version": "3.7.1"
  }
 },
 "nbformat": 4,
 "nbformat_minor": 2
}
