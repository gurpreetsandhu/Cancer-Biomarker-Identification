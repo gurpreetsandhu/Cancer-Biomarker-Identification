{
 "cells": [
  {
   "cell_type": "code",
   "execution_count": 1,
   "metadata": {},
   "outputs": [],
   "source": [
    "import numpy as np\n",
    "import copy\n",
    "import csv\n",
    "from sklearn import preprocessing\n",
    "from sklearn.model_selection import train_test_split\n",
    "from sklearn import svm\n",
    "from sklearn.discriminant_analysis import LinearDiscriminantAnalysis\n",
    "from sklearn.decomposition import PCA\n",
    "import matplotlib.pyplot as plt\n",
    "import matplotlib\n",
    "import random\n",
    "import math\n",
    "from sklearn.metrics import matthews_corrcoef\n",
    "from sklearn.metrics import precision_recall_fscore_support\n",
    "from sklearn.linear_model import LogisticRegression"
   ]
  },
  {
   "cell_type": "code",
   "execution_count": 2,
   "metadata": {},
   "outputs": [],
   "source": [
    "def get_classwise(train_data, train_labels):\n",
    "    dct = {}\n",
    "    for i in range(len(train_data)):\n",
    "        if train_labels[i] not in dct.keys():\n",
    "            dct[train_labels[i]] = [train_data[i]]\n",
    "        else:\n",
    "            dct[train_labels[i]].append(train_data[i])\n",
    "    return dct\n",
    "\n",
    "def get_data(dct, ini, ky, hwmch):\n",
    "    tst_dt = []\n",
    "    tst_lbl = []\n",
    "    tr_dt = []\n",
    "    tr_lbl = []\n",
    "    for i in range(len(dct[ky])):\n",
    "        if i >= ini and i < (ini+hwmch):\n",
    "            if i >= len(dct[ky]):\n",
    "                break\n",
    "            else:\n",
    "                tst_dt.append(dct[ky][i])\n",
    "                tst_lbl.append(ky)\n",
    "        else:\n",
    "            tr_dt.append(dct[ky][i])\n",
    "            tr_lbl.append(ky)\n",
    "    return tr_dt, tr_lbl, tst_dt, tst_lbl, ini+hwmch\n",
    "\n",
    "def K_fold(train_data, train_label, k):\n",
    "    dct = get_classwise(train_data, train_label)\n",
    "    ins = []\n",
    "    cont = []\n",
    "    for i in range(len(dct.keys())):\n",
    "        ins.append(0)\n",
    "        cont.append(int(len(dct[i])/k))\n",
    "    \n",
    "    tr_accs, tst_accs, tr_mccs, tst_mccs, tr_ps, tst_ps, tr_rs, tst_rs, tr_f1s, tst_f1s = [],[],[],[],[],[],[],[],[],[] \n",
    "    for j in range(k):\n",
    "        tr_dt = []\n",
    "        tr_lbl = []\n",
    "        tst_dt = []\n",
    "        tst_lbl = []\n",
    "        for i in dct.keys():\n",
    "            tr_d, tr_l, tst_d, tst_l,upt = get_data(dct, ins[i], i, cont[i])\n",
    "            tr_dt += tr_d\n",
    "            tr_lbl += tr_l\n",
    "            tst_dt += tst_d\n",
    "            tst_lbl += tst_l\n",
    "            ins[i] = upt\n",
    "        \n",
    "        tr_dt = np.array(tr_dt)\n",
    "        tr_lbl = np.array(tr_lbl)\n",
    "        tst_dt = np.array(tst_dt)\n",
    "        tst_lbl = np.array(tst_lbl)\n",
    "        \n",
    "        #print(tr_dt.shape)\n",
    "        #print(tst_dt.shape)\n",
    "        \n",
    "        idx = np.random.permutation(len(tr_dt))\n",
    "        tr_x, tr_y = tr_dt[idx], tr_lbl[idx]\n",
    "        \n",
    "        idx = np.random.permutation(len(tst_dt))\n",
    "        tst_x, tst_y = tst_dt[idx], tst_lbl[idx]\n",
    "        \n",
    "        \n",
    "        \n",
    "        clf = svm.SVC(kernel='linear')\n",
    "        clf.fit(tr_x, tr_y)\n",
    "        \n",
    "        tr_sc = clf.score(tr_x, tr_y)\n",
    "        tst_sc = clf.score(tst_x, tst_y)\n",
    "        \n",
    "        pred = clf.predict(tr_x)\n",
    "        tr_mcc = matthews_corrcoef(tr_y, pred)\n",
    "        prf = precision_recall_fscore_support(tr_y, pred, average='macro')\n",
    "        tr_p = prf[0]\n",
    "        tr_r = prf[1]\n",
    "        tr_f1 = prf[2]\n",
    "        \n",
    "        pred = clf.predict(tst_x)\n",
    "        tst_mcc = matthews_corrcoef(tst_y, pred)\n",
    "        prf = precision_recall_fscore_support(tst_y, pred, average='macro')\n",
    "        tst_p = prf[0]\n",
    "        tst_r = prf[1]\n",
    "        tst_f1 = prf[2]\n",
    "        \n",
    "        tr_accs.append(tr_sc)\n",
    "        tst_accs.append(tst_sc)\n",
    "        tr_mccs.append(tr_mcc)\n",
    "        tst_mccs.append(tst_mcc)\n",
    "        tr_ps.append(tr_p)\n",
    "        tst_ps.append(tst_p)\n",
    "        tr_rs.append(tr_r)\n",
    "        tst_rs.append(tst_r)\n",
    "        tr_f1s.append(tr_f1)\n",
    "        tst_f1s.append(tst_f1)\n",
    "        #print(\"Fold : \", j+1, \" Train Acc : \", tr_sc, \" Validation Acc : \", tst_sc)\n",
    "        #print(\"Fold : \", j+1, \" Train MCC : \", tr_mcc, \" Validation MCC : \", tst_mcc)\n",
    "        #print(\"Fold : \", j+1, \" Train Precission : \", tr_p, \" Validation Precission : \", tst_p)\n",
    "        #print(\"Fold : \", j+1, \" Train Recall : \", tr_r, \" Validation Recall : \", tst_r)\n",
    "        #print(\"Fold : \", j+1, \" Train F1 : \", tr_f1, \" Validation F1 : \", tst_f1)\n",
    "        #print(\"-----------------------------------------------------------------------------------\")\n",
    "    return tr_accs,tst_accs,tr_mccs,tst_mccs,tr_ps,tst_ps,tr_rs,tst_rs,tr_f1s,tst_f1s\n",
    "\n",
    "\n",
    "\n",
    "def K_fold2(train_data, train_label, k):\n",
    "    dct = get_classwise(train_data, train_label)\n",
    "    ins = []\n",
    "    cont = []\n",
    "    for i in range(len(dct.keys())):\n",
    "        ins.append(0)\n",
    "        cont.append(int(len(dct[i])/k))\n",
    "    \n",
    "    tr_accs, tst_accs, tr_mccs, tst_mccs, tr_ps, tst_ps, tr_rs, tst_rs, tr_f1s, tst_f1s = [],[],[],[],[],[],[],[],[],[] \n",
    "    for j in range(k):\n",
    "        tr_dt = []\n",
    "        tr_lbl = []\n",
    "        tst_dt = []\n",
    "        tst_lbl = []\n",
    "        for i in dct.keys():\n",
    "            tr_d, tr_l, tst_d, tst_l,upt = get_data(dct, ins[i], i, cont[i])\n",
    "            tr_dt += tr_d\n",
    "            tr_lbl += tr_l\n",
    "            tst_dt += tst_d\n",
    "            tst_lbl += tst_l\n",
    "            ins[i] = upt\n",
    "        \n",
    "        tr_dt = np.array(tr_dt)\n",
    "        tr_lbl = np.array(tr_lbl)\n",
    "        tst_dt = np.array(tst_dt)\n",
    "        tst_lbl = np.array(tst_lbl)\n",
    "        \n",
    "        #print(tr_dt.shape)\n",
    "        #print(tst_dt.shape)\n",
    "        \n",
    "        idx = np.random.permutation(len(tr_dt))\n",
    "        tr_x, tr_y = tr_dt[idx], tr_lbl[idx]\n",
    "        \n",
    "        idx = np.random.permutation(len(tst_dt))\n",
    "        tst_x, tst_y = tst_dt[idx], tst_lbl[idx]\n",
    "        \n",
    "        \n",
    "        \n",
    "        clf = LogisticRegression(random_state=0)\n",
    "        clf.fit(tr_x, tr_y)\n",
    "        \n",
    "        tr_sc = clf.score(tr_x, tr_y)\n",
    "        tst_sc = clf.score(tst_x, tst_y)\n",
    "        \n",
    "        pred = clf.predict(tr_x)\n",
    "        tr_mcc = matthews_corrcoef(tr_y, pred)\n",
    "        prf = precision_recall_fscore_support(tr_y, pred, average='macro')\n",
    "        tr_p = prf[0]\n",
    "        tr_r = prf[1]\n",
    "        tr_f1 = prf[2]\n",
    "        \n",
    "        pred = clf.predict(tst_x)\n",
    "        tst_mcc = matthews_corrcoef(tst_y, pred)\n",
    "        prf = precision_recall_fscore_support(tst_y, pred, average='macro')\n",
    "        tst_p = prf[0]\n",
    "        tst_r = prf[1]\n",
    "        tst_f1 = prf[2]\n",
    "        \n",
    "        tr_accs.append(tr_sc)\n",
    "        tst_accs.append(tst_sc)\n",
    "        tr_mccs.append(tr_mcc)\n",
    "        tst_mccs.append(tst_mcc)\n",
    "        tr_ps.append(tr_p)\n",
    "        tst_ps.append(tst_p)\n",
    "        tr_rs.append(tr_r)\n",
    "        tst_rs.append(tst_r)\n",
    "        tr_f1s.append(tr_f1)\n",
    "        tst_f1s.append(tst_f1)\n",
    "        #print(\"Fold : \", j+1, \" Train Acc : \", tr_sc, \" Validation Acc : \", tst_sc)\n",
    "        #print(\"Fold : \", j+1, \" Train MCC : \", tr_mcc, \" Validation MCC : \", tst_mcc)\n",
    "        #print(\"Fold : \", j+1, \" Train Precission : \", tr_p, \" Validation Precission : \", tst_p)\n",
    "        #print(\"Fold : \", j+1, \" Train Recall : \", tr_r, \" Validation Recall : \", tst_r)\n",
    "        #print(\"Fold : \", j+1, \" Train F1 : \", tr_f1, \" Validation F1 : \", tst_f1)\n",
    "        #print(\"-----------------------------------------------------------------------------------\")\n",
    "    return tr_accs,tst_accs,tr_mccs,tst_mccs,tr_ps,tst_ps,tr_rs,tst_rs,tr_f1s,tst_f1s\n",
    "\n",
    "\n",
    "\n",
    "def print_metrics(tr_accs,tst_accs,tr_mccs,tst_mccs,tr_ps,tst_ps,tr_rs,tst_rs,tr_f1s,tst_f1s):\n",
    "    print(\"---------------------Training-------------------------------\")\n",
    "    print(\"Accuracy : \", np.mean(tr_accs))\n",
    "    print(\"MCC : \", np.mean(tr_mccs))\n",
    "    print(\"Precision : \", np.mean(tr_ps))\n",
    "    print(\"Recall : \", np.mean(tr_rs))\n",
    "    print(\"F1 : \", np.mean(tr_f1s))\n",
    "    \n",
    "    print(\"---------------------Validation-------------------------------\")\n",
    "    print(\"Accuracy : \", np.mean(tst_accs))\n",
    "    print(\"MCC : \", np.mean(tst_mccs))\n",
    "    print(\"Precision : \", np.mean(tst_ps))\n",
    "    print(\"Recall : \", np.mean(tst_rs))\n",
    "    print(\"F1 : \", np.mean(tst_f1s))"
   ]
  },
  {
   "cell_type": "code",
   "execution_count": 3,
   "metadata": {},
   "outputs": [],
   "source": [
    "data = []\n",
    "with open('kirpdata.csv','rt')as f:\n",
    "  dt = csv.reader(f)\n",
    "  for row in dt:\n",
    "        data.append(row)"
   ]
  },
  {
   "cell_type": "code",
   "execution_count": 4,
   "metadata": {},
   "outputs": [],
   "source": [
    "data = data[1:]"
   ]
  },
  {
   "cell_type": "code",
   "execution_count": 5,
   "metadata": {},
   "outputs": [],
   "source": [
    "data = np.array(data)"
   ]
  },
  {
   "cell_type": "code",
   "execution_count": 6,
   "metadata": {},
   "outputs": [],
   "source": [
    "data = data[:,1:]"
   ]
  },
  {
   "cell_type": "code",
   "execution_count": 7,
   "metadata": {},
   "outputs": [],
   "source": [
    "labels = []\n",
    "with open('kirplabel.csv','rt')as f:\n",
    "  dt = csv.reader(f)\n",
    "  for row in dt:\n",
    "        labels.append(row)"
   ]
  },
  {
   "cell_type": "code",
   "execution_count": 8,
   "metadata": {},
   "outputs": [],
   "source": [
    "labels = labels[1:]"
   ]
  },
  {
   "cell_type": "code",
   "execution_count": 9,
   "metadata": {},
   "outputs": [],
   "source": [
    "labels = np.array(labels)[:,1:]"
   ]
  },
  {
   "cell_type": "code",
   "execution_count": 10,
   "metadata": {},
   "outputs": [
    {
     "data": {
      "text/plain": [
       "array(['201.3304', '4.1094', '0.5137', ..., '978.0403', '270.1939', '0'],\n",
       "      dtype='<U12')"
      ]
     },
     "execution_count": 10,
     "metadata": {},
     "output_type": "execute_result"
    }
   ],
   "source": [
    "data[0]"
   ]
  },
  {
   "cell_type": "code",
   "execution_count": 11,
   "metadata": {},
   "outputs": [
    {
     "data": {
      "text/plain": [
       "323"
      ]
     },
     "execution_count": 11,
     "metadata": {},
     "output_type": "execute_result"
    }
   ],
   "source": [
    "len(labels)"
   ]
  },
  {
   "cell_type": "code",
   "execution_count": 12,
   "metadata": {},
   "outputs": [],
   "source": [
    "u,c = np.unique(labels , return_counts=True)"
   ]
  },
  {
   "cell_type": "code",
   "execution_count": 13,
   "metadata": {},
   "outputs": [
    {
     "data": {
      "text/plain": [
       "array(['0', '1'], dtype='<U3')"
      ]
     },
     "execution_count": 13,
     "metadata": {},
     "output_type": "execute_result"
    }
   ],
   "source": [
    "u"
   ]
  },
  {
   "cell_type": "code",
   "execution_count": 14,
   "metadata": {},
   "outputs": [
    {
     "data": {
      "text/plain": [
       "array([ 32, 291], dtype=int64)"
      ]
     },
     "execution_count": 14,
     "metadata": {},
     "output_type": "execute_result"
    }
   ],
   "source": [
    "c"
   ]
  },
  {
   "cell_type": "markdown",
   "metadata": {},
   "source": [
    "# Exp 2"
   ]
  },
  {
   "cell_type": "code",
   "execution_count": 15,
   "metadata": {},
   "outputs": [
    {
     "data": {
      "text/plain": [
       "(323, 20502)"
      ]
     },
     "execution_count": 15,
     "metadata": {},
     "output_type": "execute_result"
    }
   ],
   "source": [
    "data.shape"
   ]
  },
  {
   "cell_type": "code",
   "execution_count": 16,
   "metadata": {},
   "outputs": [
    {
     "data": {
      "text/plain": [
       "(323, 1)"
      ]
     },
     "execution_count": 16,
     "metadata": {},
     "output_type": "execute_result"
    }
   ],
   "source": [
    "labels.shape"
   ]
  },
  {
   "cell_type": "code",
   "execution_count": 17,
   "metadata": {},
   "outputs": [],
   "source": [
    "data = data.astype(np.float)"
   ]
  },
  {
   "cell_type": "code",
   "execution_count": 18,
   "metadata": {},
   "outputs": [
    {
     "data": {
      "text/plain": [
       "array([2.013304e+02, 4.109400e+00, 5.137000e-01, ..., 9.780403e+02,\n",
       "       2.701939e+02, 0.000000e+00])"
      ]
     },
     "execution_count": 18,
     "metadata": {},
     "output_type": "execute_result"
    }
   ],
   "source": [
    "data[0]"
   ]
  },
  {
   "cell_type": "code",
   "execution_count": 19,
   "metadata": {},
   "outputs": [],
   "source": [
    "labels = labels.astype(np.int)"
   ]
  },
  {
   "cell_type": "code",
   "execution_count": null,
   "metadata": {},
   "outputs": [],
   "source": []
  },
  {
   "cell_type": "code",
   "execution_count": null,
   "metadata": {},
   "outputs": [],
   "source": []
  },
  {
   "cell_type": "markdown",
   "metadata": {},
   "source": [
    "# Now process"
   ]
  },
  {
   "cell_type": "code",
   "execution_count": 20,
   "metadata": {},
   "outputs": [],
   "source": [
    "labels = labels.reshape((len(labels),))\n",
    "\n",
    "X_train2, X_test2, y_train, y_test = train_test_split(data, labels, test_size = 0.3, stratify = labels, random_state = 3)\n",
    "\n",
    "scaler = preprocessing.StandardScaler().fit(X_train2) \n",
    "\n",
    "X_train = scaler.transform(X_train2)\n",
    "X_test = scaler.transform(X_test2)"
   ]
  },
  {
   "cell_type": "code",
   "execution_count": 21,
   "metadata": {},
   "outputs": [
    {
     "name": "stdout",
     "output_type": "stream",
     "text": [
      "---------------------Training-------------------------------\n",
      "Accuracy :  1.0\n",
      "MCC :  1.0\n",
      "Precision :  1.0\n",
      "Recall :  1.0\n",
      "F1 :  1.0\n",
      "---------------------Validation-------------------------------\n",
      "Accuracy :  0.990990990990991\n",
      "MCC :  0.9510648961639272\n",
      "Precision :  0.9583333333333334\n",
      "Recall :  0.9950980392156863\n",
      "F1 :  0.9737029140014215\n"
     ]
    }
   ],
   "source": [
    "tr_accs,tst_accs,tr_mccs,tst_mccs,tr_ps,tst_ps,tr_rs,tst_rs,tr_f1s,tst_f1s = K_fold(X_train, y_train, 6)\n",
    "print_metrics(tr_accs,tst_accs,tr_mccs,tst_mccs,tr_ps,tst_ps,tr_rs,tst_rs,tr_f1s,tst_f1s)"
   ]
  },
  {
   "cell_type": "code",
   "execution_count": 22,
   "metadata": {},
   "outputs": [],
   "source": [
    "clf = svm.SVC(kernel='linear')"
   ]
  },
  {
   "cell_type": "code",
   "execution_count": 23,
   "metadata": {},
   "outputs": [
    {
     "data": {
      "text/plain": [
       "SVC(C=1.0, cache_size=200, class_weight=None, coef0=0.0,\n",
       "  decision_function_shape='ovr', degree=3, gamma='auto_deprecated',\n",
       "  kernel='linear', max_iter=-1, probability=False, random_state=None,\n",
       "  shrinking=True, tol=0.001, verbose=False)"
      ]
     },
     "execution_count": 23,
     "metadata": {},
     "output_type": "execute_result"
    }
   ],
   "source": [
    "clf.fit(X_train, y_train)"
   ]
  },
  {
   "cell_type": "code",
   "execution_count": 24,
   "metadata": {},
   "outputs": [
    {
     "data": {
      "text/plain": [
       "0.979381443298969"
      ]
     },
     "execution_count": 24,
     "metadata": {},
     "output_type": "execute_result"
    }
   ],
   "source": [
    "clf.score(X_test, y_test)"
   ]
  },
  {
   "cell_type": "code",
   "execution_count": 25,
   "metadata": {},
   "outputs": [
    {
     "data": {
      "text/plain": [
       "1.0"
      ]
     },
     "execution_count": 25,
     "metadata": {},
     "output_type": "execute_result"
    }
   ],
   "source": [
    "clf.score(X_train, y_train)"
   ]
  },
  {
   "cell_type": "code",
   "execution_count": null,
   "metadata": {},
   "outputs": [],
   "source": []
  },
  {
   "cell_type": "code",
   "execution_count": null,
   "metadata": {},
   "outputs": [],
   "source": []
  },
  {
   "cell_type": "code",
   "execution_count": 26,
   "metadata": {},
   "outputs": [],
   "source": [
    "pca = PCA(n_components=2)"
   ]
  },
  {
   "cell_type": "code",
   "execution_count": 27,
   "metadata": {},
   "outputs": [
    {
     "data": {
      "text/plain": [
       "PCA(copy=True, iterated_power='auto', n_components=2, random_state=None,\n",
       "  svd_solver='auto', tol=0.0, whiten=False)"
      ]
     },
     "execution_count": 27,
     "metadata": {},
     "output_type": "execute_result"
    }
   ],
   "source": [
    "pca.fit(X_train)"
   ]
  },
  {
   "cell_type": "code",
   "execution_count": 28,
   "metadata": {},
   "outputs": [],
   "source": [
    "pca_data = pca.transform(X_train)"
   ]
  },
  {
   "cell_type": "code",
   "execution_count": 29,
   "metadata": {},
   "outputs": [
    {
     "data": {
      "text/plain": [
       "(226, 2)"
      ]
     },
     "execution_count": 29,
     "metadata": {},
     "output_type": "execute_result"
    }
   ],
   "source": [
    "pca_data.shape"
   ]
  },
  {
   "cell_type": "code",
   "execution_count": 30,
   "metadata": {},
   "outputs": [],
   "source": [
    "import seaborn as sns \n",
    "import pandas as pd"
   ]
  },
  {
   "cell_type": "code",
   "execution_count": 31,
   "metadata": {},
   "outputs": [
    {
     "data": {
      "text/plain": [
       "(226, 2)"
      ]
     },
     "execution_count": 31,
     "metadata": {},
     "output_type": "execute_result"
    }
   ],
   "source": [
    "pca_data.shape"
   ]
  },
  {
   "cell_type": "code",
   "execution_count": 32,
   "metadata": {},
   "outputs": [],
   "source": [
    "df = pd.DataFrame(pca_data, columns=[\"x\", \"y\"])"
   ]
  },
  {
   "cell_type": "code",
   "execution_count": 33,
   "metadata": {},
   "outputs": [],
   "source": [
    "df[\"val\"] = pd.Series(y_train).apply(lambda x: \"red\" if x==1 else \"blue\")"
   ]
  },
  {
   "cell_type": "code",
   "execution_count": 34,
   "metadata": {},
   "outputs": [
    {
     "data": {
      "text/plain": [
       "226"
      ]
     },
     "execution_count": 34,
     "metadata": {},
     "output_type": "execute_result"
    }
   ],
   "source": [
    "len(df)"
   ]
  },
  {
   "cell_type": "code",
   "execution_count": 35,
   "metadata": {},
   "outputs": [
    {
     "data": {
      "text/html": [
       "<div>\n",
       "<style scoped>\n",
       "    .dataframe tbody tr th:only-of-type {\n",
       "        vertical-align: middle;\n",
       "    }\n",
       "\n",
       "    .dataframe tbody tr th {\n",
       "        vertical-align: top;\n",
       "    }\n",
       "\n",
       "    .dataframe thead th {\n",
       "        text-align: right;\n",
       "    }\n",
       "</style>\n",
       "<table border=\"1\" class=\"dataframe\">\n",
       "  <thead>\n",
       "    <tr style=\"text-align: right;\">\n",
       "      <th></th>\n",
       "      <th>x</th>\n",
       "      <th>y</th>\n",
       "      <th>val</th>\n",
       "    </tr>\n",
       "  </thead>\n",
       "  <tbody>\n",
       "    <tr>\n",
       "      <th>0</th>\n",
       "      <td>-65.378526</td>\n",
       "      <td>-40.370791</td>\n",
       "      <td>blue</td>\n",
       "    </tr>\n",
       "    <tr>\n",
       "      <th>1</th>\n",
       "      <td>133.340115</td>\n",
       "      <td>-105.215115</td>\n",
       "      <td>red</td>\n",
       "    </tr>\n",
       "    <tr>\n",
       "      <th>2</th>\n",
       "      <td>-73.495226</td>\n",
       "      <td>-53.359994</td>\n",
       "      <td>blue</td>\n",
       "    </tr>\n",
       "    <tr>\n",
       "      <th>3</th>\n",
       "      <td>5.995797</td>\n",
       "      <td>72.091056</td>\n",
       "      <td>red</td>\n",
       "    </tr>\n",
       "    <tr>\n",
       "      <th>4</th>\n",
       "      <td>-13.731230</td>\n",
       "      <td>-29.622370</td>\n",
       "      <td>blue</td>\n",
       "    </tr>\n",
       "    <tr>\n",
       "      <th>5</th>\n",
       "      <td>13.668501</td>\n",
       "      <td>14.992950</td>\n",
       "      <td>red</td>\n",
       "    </tr>\n",
       "    <tr>\n",
       "      <th>6</th>\n",
       "      <td>-6.194634</td>\n",
       "      <td>-23.860307</td>\n",
       "      <td>red</td>\n",
       "    </tr>\n",
       "    <tr>\n",
       "      <th>7</th>\n",
       "      <td>14.927211</td>\n",
       "      <td>21.296163</td>\n",
       "      <td>red</td>\n",
       "    </tr>\n",
       "    <tr>\n",
       "      <th>8</th>\n",
       "      <td>-2.286923</td>\n",
       "      <td>12.884833</td>\n",
       "      <td>red</td>\n",
       "    </tr>\n",
       "    <tr>\n",
       "      <th>9</th>\n",
       "      <td>87.831281</td>\n",
       "      <td>39.521777</td>\n",
       "      <td>red</td>\n",
       "    </tr>\n",
       "    <tr>\n",
       "      <th>10</th>\n",
       "      <td>-6.286380</td>\n",
       "      <td>12.952890</td>\n",
       "      <td>red</td>\n",
       "    </tr>\n",
       "    <tr>\n",
       "      <th>11</th>\n",
       "      <td>36.244987</td>\n",
       "      <td>24.577862</td>\n",
       "      <td>red</td>\n",
       "    </tr>\n",
       "    <tr>\n",
       "      <th>12</th>\n",
       "      <td>-52.342038</td>\n",
       "      <td>55.295186</td>\n",
       "      <td>red</td>\n",
       "    </tr>\n",
       "    <tr>\n",
       "      <th>13</th>\n",
       "      <td>14.244115</td>\n",
       "      <td>-23.707344</td>\n",
       "      <td>red</td>\n",
       "    </tr>\n",
       "    <tr>\n",
       "      <th>14</th>\n",
       "      <td>51.757987</td>\n",
       "      <td>30.016059</td>\n",
       "      <td>red</td>\n",
       "    </tr>\n",
       "    <tr>\n",
       "      <th>15</th>\n",
       "      <td>-2.382233</td>\n",
       "      <td>15.281248</td>\n",
       "      <td>red</td>\n",
       "    </tr>\n",
       "    <tr>\n",
       "      <th>16</th>\n",
       "      <td>50.834345</td>\n",
       "      <td>-11.373416</td>\n",
       "      <td>red</td>\n",
       "    </tr>\n",
       "    <tr>\n",
       "      <th>17</th>\n",
       "      <td>-33.813400</td>\n",
       "      <td>-8.753277</td>\n",
       "      <td>red</td>\n",
       "    </tr>\n",
       "    <tr>\n",
       "      <th>18</th>\n",
       "      <td>7.097393</td>\n",
       "      <td>25.288729</td>\n",
       "      <td>red</td>\n",
       "    </tr>\n",
       "    <tr>\n",
       "      <th>19</th>\n",
       "      <td>-19.586609</td>\n",
       "      <td>-17.937770</td>\n",
       "      <td>red</td>\n",
       "    </tr>\n",
       "    <tr>\n",
       "      <th>20</th>\n",
       "      <td>-36.978830</td>\n",
       "      <td>40.394502</td>\n",
       "      <td>red</td>\n",
       "    </tr>\n",
       "    <tr>\n",
       "      <th>21</th>\n",
       "      <td>-31.590179</td>\n",
       "      <td>12.327049</td>\n",
       "      <td>red</td>\n",
       "    </tr>\n",
       "    <tr>\n",
       "      <th>22</th>\n",
       "      <td>-45.721278</td>\n",
       "      <td>49.465297</td>\n",
       "      <td>red</td>\n",
       "    </tr>\n",
       "    <tr>\n",
       "      <th>23</th>\n",
       "      <td>97.523635</td>\n",
       "      <td>-27.000375</td>\n",
       "      <td>red</td>\n",
       "    </tr>\n",
       "    <tr>\n",
       "      <th>24</th>\n",
       "      <td>-90.608031</td>\n",
       "      <td>-12.597352</td>\n",
       "      <td>red</td>\n",
       "    </tr>\n",
       "    <tr>\n",
       "      <th>25</th>\n",
       "      <td>-34.437001</td>\n",
       "      <td>21.403864</td>\n",
       "      <td>red</td>\n",
       "    </tr>\n",
       "    <tr>\n",
       "      <th>26</th>\n",
       "      <td>-79.087823</td>\n",
       "      <td>-35.978207</td>\n",
       "      <td>blue</td>\n",
       "    </tr>\n",
       "    <tr>\n",
       "      <th>27</th>\n",
       "      <td>-86.898298</td>\n",
       "      <td>-30.904305</td>\n",
       "      <td>blue</td>\n",
       "    </tr>\n",
       "    <tr>\n",
       "      <th>28</th>\n",
       "      <td>24.441766</td>\n",
       "      <td>-22.250454</td>\n",
       "      <td>red</td>\n",
       "    </tr>\n",
       "    <tr>\n",
       "      <th>29</th>\n",
       "      <td>-58.245209</td>\n",
       "      <td>-14.692151</td>\n",
       "      <td>blue</td>\n",
       "    </tr>\n",
       "    <tr>\n",
       "      <th>...</th>\n",
       "      <td>...</td>\n",
       "      <td>...</td>\n",
       "      <td>...</td>\n",
       "    </tr>\n",
       "    <tr>\n",
       "      <th>196</th>\n",
       "      <td>-28.356219</td>\n",
       "      <td>-3.481570</td>\n",
       "      <td>red</td>\n",
       "    </tr>\n",
       "    <tr>\n",
       "      <th>197</th>\n",
       "      <td>-47.938365</td>\n",
       "      <td>-30.209578</td>\n",
       "      <td>red</td>\n",
       "    </tr>\n",
       "    <tr>\n",
       "      <th>198</th>\n",
       "      <td>-23.816933</td>\n",
       "      <td>46.212526</td>\n",
       "      <td>red</td>\n",
       "    </tr>\n",
       "    <tr>\n",
       "      <th>199</th>\n",
       "      <td>-7.183067</td>\n",
       "      <td>-55.789539</td>\n",
       "      <td>red</td>\n",
       "    </tr>\n",
       "    <tr>\n",
       "      <th>200</th>\n",
       "      <td>7.492435</td>\n",
       "      <td>-22.912448</td>\n",
       "      <td>red</td>\n",
       "    </tr>\n",
       "    <tr>\n",
       "      <th>201</th>\n",
       "      <td>-16.723698</td>\n",
       "      <td>-35.735318</td>\n",
       "      <td>red</td>\n",
       "    </tr>\n",
       "    <tr>\n",
       "      <th>202</th>\n",
       "      <td>38.454807</td>\n",
       "      <td>-7.989578</td>\n",
       "      <td>red</td>\n",
       "    </tr>\n",
       "    <tr>\n",
       "      <th>203</th>\n",
       "      <td>-27.081989</td>\n",
       "      <td>-33.975211</td>\n",
       "      <td>red</td>\n",
       "    </tr>\n",
       "    <tr>\n",
       "      <th>204</th>\n",
       "      <td>-2.934465</td>\n",
       "      <td>6.726068</td>\n",
       "      <td>red</td>\n",
       "    </tr>\n",
       "    <tr>\n",
       "      <th>205</th>\n",
       "      <td>-45.439259</td>\n",
       "      <td>-4.484666</td>\n",
       "      <td>blue</td>\n",
       "    </tr>\n",
       "    <tr>\n",
       "      <th>206</th>\n",
       "      <td>4.956577</td>\n",
       "      <td>-4.166842</td>\n",
       "      <td>red</td>\n",
       "    </tr>\n",
       "    <tr>\n",
       "      <th>207</th>\n",
       "      <td>6.754698</td>\n",
       "      <td>3.623631</td>\n",
       "      <td>red</td>\n",
       "    </tr>\n",
       "    <tr>\n",
       "      <th>208</th>\n",
       "      <td>-40.808102</td>\n",
       "      <td>10.160875</td>\n",
       "      <td>blue</td>\n",
       "    </tr>\n",
       "    <tr>\n",
       "      <th>209</th>\n",
       "      <td>30.536235</td>\n",
       "      <td>15.002836</td>\n",
       "      <td>red</td>\n",
       "    </tr>\n",
       "    <tr>\n",
       "      <th>210</th>\n",
       "      <td>-11.872882</td>\n",
       "      <td>19.773898</td>\n",
       "      <td>red</td>\n",
       "    </tr>\n",
       "    <tr>\n",
       "      <th>211</th>\n",
       "      <td>-10.013265</td>\n",
       "      <td>3.355407</td>\n",
       "      <td>red</td>\n",
       "    </tr>\n",
       "    <tr>\n",
       "      <th>212</th>\n",
       "      <td>121.780488</td>\n",
       "      <td>-83.374567</td>\n",
       "      <td>red</td>\n",
       "    </tr>\n",
       "    <tr>\n",
       "      <th>213</th>\n",
       "      <td>-4.553330</td>\n",
       "      <td>-9.801154</td>\n",
       "      <td>red</td>\n",
       "    </tr>\n",
       "    <tr>\n",
       "      <th>214</th>\n",
       "      <td>37.607650</td>\n",
       "      <td>-17.568137</td>\n",
       "      <td>red</td>\n",
       "    </tr>\n",
       "    <tr>\n",
       "      <th>215</th>\n",
       "      <td>-34.261798</td>\n",
       "      <td>-50.232968</td>\n",
       "      <td>blue</td>\n",
       "    </tr>\n",
       "    <tr>\n",
       "      <th>216</th>\n",
       "      <td>-21.147046</td>\n",
       "      <td>55.899584</td>\n",
       "      <td>red</td>\n",
       "    </tr>\n",
       "    <tr>\n",
       "      <th>217</th>\n",
       "      <td>-73.337878</td>\n",
       "      <td>58.413191</td>\n",
       "      <td>red</td>\n",
       "    </tr>\n",
       "    <tr>\n",
       "      <th>218</th>\n",
       "      <td>65.399825</td>\n",
       "      <td>18.786726</td>\n",
       "      <td>red</td>\n",
       "    </tr>\n",
       "    <tr>\n",
       "      <th>219</th>\n",
       "      <td>70.146165</td>\n",
       "      <td>-81.782766</td>\n",
       "      <td>red</td>\n",
       "    </tr>\n",
       "    <tr>\n",
       "      <th>220</th>\n",
       "      <td>18.719909</td>\n",
       "      <td>42.071513</td>\n",
       "      <td>red</td>\n",
       "    </tr>\n",
       "    <tr>\n",
       "      <th>221</th>\n",
       "      <td>-13.642522</td>\n",
       "      <td>17.975740</td>\n",
       "      <td>red</td>\n",
       "    </tr>\n",
       "    <tr>\n",
       "      <th>222</th>\n",
       "      <td>70.467390</td>\n",
       "      <td>-2.239399</td>\n",
       "      <td>red</td>\n",
       "    </tr>\n",
       "    <tr>\n",
       "      <th>223</th>\n",
       "      <td>-16.817869</td>\n",
       "      <td>-60.061243</td>\n",
       "      <td>red</td>\n",
       "    </tr>\n",
       "    <tr>\n",
       "      <th>224</th>\n",
       "      <td>-71.646377</td>\n",
       "      <td>-14.865493</td>\n",
       "      <td>blue</td>\n",
       "    </tr>\n",
       "    <tr>\n",
       "      <th>225</th>\n",
       "      <td>69.351334</td>\n",
       "      <td>2.588752</td>\n",
       "      <td>red</td>\n",
       "    </tr>\n",
       "  </tbody>\n",
       "</table>\n",
       "<p>226 rows × 3 columns</p>\n",
       "</div>"
      ],
      "text/plain": [
       "              x           y   val\n",
       "0    -65.378526  -40.370791  blue\n",
       "1    133.340115 -105.215115   red\n",
       "2    -73.495226  -53.359994  blue\n",
       "3      5.995797   72.091056   red\n",
       "4    -13.731230  -29.622370  blue\n",
       "5     13.668501   14.992950   red\n",
       "6     -6.194634  -23.860307   red\n",
       "7     14.927211   21.296163   red\n",
       "8     -2.286923   12.884833   red\n",
       "9     87.831281   39.521777   red\n",
       "10    -6.286380   12.952890   red\n",
       "11    36.244987   24.577862   red\n",
       "12   -52.342038   55.295186   red\n",
       "13    14.244115  -23.707344   red\n",
       "14    51.757987   30.016059   red\n",
       "15    -2.382233   15.281248   red\n",
       "16    50.834345  -11.373416   red\n",
       "17   -33.813400   -8.753277   red\n",
       "18     7.097393   25.288729   red\n",
       "19   -19.586609  -17.937770   red\n",
       "20   -36.978830   40.394502   red\n",
       "21   -31.590179   12.327049   red\n",
       "22   -45.721278   49.465297   red\n",
       "23    97.523635  -27.000375   red\n",
       "24   -90.608031  -12.597352   red\n",
       "25   -34.437001   21.403864   red\n",
       "26   -79.087823  -35.978207  blue\n",
       "27   -86.898298  -30.904305  blue\n",
       "28    24.441766  -22.250454   red\n",
       "29   -58.245209  -14.692151  blue\n",
       "..          ...         ...   ...\n",
       "196  -28.356219   -3.481570   red\n",
       "197  -47.938365  -30.209578   red\n",
       "198  -23.816933   46.212526   red\n",
       "199   -7.183067  -55.789539   red\n",
       "200    7.492435  -22.912448   red\n",
       "201  -16.723698  -35.735318   red\n",
       "202   38.454807   -7.989578   red\n",
       "203  -27.081989  -33.975211   red\n",
       "204   -2.934465    6.726068   red\n",
       "205  -45.439259   -4.484666  blue\n",
       "206    4.956577   -4.166842   red\n",
       "207    6.754698    3.623631   red\n",
       "208  -40.808102   10.160875  blue\n",
       "209   30.536235   15.002836   red\n",
       "210  -11.872882   19.773898   red\n",
       "211  -10.013265    3.355407   red\n",
       "212  121.780488  -83.374567   red\n",
       "213   -4.553330   -9.801154   red\n",
       "214   37.607650  -17.568137   red\n",
       "215  -34.261798  -50.232968  blue\n",
       "216  -21.147046   55.899584   red\n",
       "217  -73.337878   58.413191   red\n",
       "218   65.399825   18.786726   red\n",
       "219   70.146165  -81.782766   red\n",
       "220   18.719909   42.071513   red\n",
       "221  -13.642522   17.975740   red\n",
       "222   70.467390   -2.239399   red\n",
       "223  -16.817869  -60.061243   red\n",
       "224  -71.646377  -14.865493  blue\n",
       "225   69.351334    2.588752   red\n",
       "\n",
       "[226 rows x 3 columns]"
      ]
     },
     "execution_count": 35,
     "metadata": {},
     "output_type": "execute_result"
    }
   ],
   "source": [
    "df"
   ]
  },
  {
   "cell_type": "code",
   "execution_count": 36,
   "metadata": {},
   "outputs": [
    {
     "data": {
      "text/plain": [
       "[]"
      ]
     },
     "execution_count": 36,
     "metadata": {},
     "output_type": "execute_result"
    },
    {
     "data": {
      "image/png": "[encoded data removed]",
      "text/plain": [
       "<Figure size 432x288 with 1 Axes>"
      ]
     },
     "metadata": {
      "needs_background": "light"
     },
     "output_type": "display_data"
    }
   ],
   "source": [
    "fig, ax = plt.subplots()\n",
    "ax.scatter(x=df[\"x\"], y=df[\"y\"], c=df[\"val\"])\n",
    "plt.plot()"
   ]
  },
  {
   "cell_type": "code",
   "execution_count": 37,
   "metadata": {},
   "outputs": [],
   "source": [
    "from sklearn.metrics import matthews_corrcoef"
   ]
  },
  {
   "cell_type": "code",
   "execution_count": 38,
   "metadata": {},
   "outputs": [
    {
     "data": {
      "text/plain": [
       "0.8885057471264368"
      ]
     },
     "execution_count": 38,
     "metadata": {},
     "output_type": "execute_result"
    }
   ],
   "source": [
    "pred = clf.predict(X_test)\n",
    "\n",
    "matthews_corrcoef(y_test, pred)"
   ]
  },
  {
   "cell_type": "code",
   "execution_count": 39,
   "metadata": {},
   "outputs": [
    {
     "data": {
      "text/plain": [
       "1.0"
      ]
     },
     "execution_count": 39,
     "metadata": {},
     "output_type": "execute_result"
    }
   ],
   "source": [
    "pred = clf.predict(X_train)\n",
    "\n",
    "matthews_corrcoef(y_train, pred)"
   ]
  },
  {
   "cell_type": "code",
   "execution_count": null,
   "metadata": {},
   "outputs": [],
   "source": []
  },
  {
   "cell_type": "code",
   "execution_count": null,
   "metadata": {},
   "outputs": [],
   "source": []
  },
  {
   "cell_type": "code",
   "execution_count": null,
   "metadata": {},
   "outputs": [],
   "source": []
  },
  {
   "cell_type": "code",
   "execution_count": 40,
   "metadata": {},
   "outputs": [
    {
     "name": "stderr",
     "output_type": "stream",
     "text": [
      "C:\\Users\\Gurpreet\\AppData\\Local\\Continuum\\anaconda3\\lib\\site-packages\\sklearn\\ensemble\\forest.py:246: FutureWarning: The default value of n_estimators will change from 10 in version 0.20 to 100 in 0.22.\n",
      "  \"10 in version 0.20 to 100 in 0.22.\", FutureWarning)\n"
     ]
    },
    {
     "data": {
      "text/plain": [
       "ExtraTreesClassifier(bootstrap=False, class_weight=None, criterion='gini',\n",
       "           max_depth=None, max_features='auto', max_leaf_nodes=None,\n",
       "           min_impurity_decrease=0.0, min_impurity_split=None,\n",
       "           min_samples_leaf=1, min_samples_split=2,\n",
       "           min_weight_fraction_leaf=0.0, n_estimators=10, n_jobs=None,\n",
       "           oob_score=False, random_state=3, verbose=0, warm_start=False)"
      ]
     },
     "execution_count": 40,
     "metadata": {},
     "output_type": "execute_result"
    }
   ],
   "source": [
    "from sklearn.ensemble import ExtraTreesClassifier\n",
    "model = ExtraTreesClassifier(random_state = 3)\n",
    "\n",
    "model.fit(X_train2,y_train)"
   ]
  },
  {
   "cell_type": "code",
   "execution_count": 41,
   "metadata": {},
   "outputs": [
    {
     "name": "stdout",
     "output_type": "stream",
     "text": [
      "226\n",
      "97\n"
     ]
    }
   ],
   "source": [
    "df = pd.DataFrame(data=X_train2[0:,0:],index=[i for i in range(X_train2.shape[0])], columns=['f'+str(i) for i in range(X_train2.shape[1])])\n",
    "\n",
    "print(len(df))\n",
    "\n",
    "df2 = pd.DataFrame(data=X_test2[0:,0:],index=[i for i in range(X_test2.shape[0])], columns=['f'+str(i) for i in range(X_test2.shape[1])])\n",
    "\n",
    "print(len(df2))"
   ]
  },
  {
   "cell_type": "code",
   "execution_count": 42,
   "metadata": {},
   "outputs": [
    {
     "data": {
      "image/png": "[encoded data removed]",
      "text/plain": [
       "<Figure size 432x288 with 1 Axes>"
      ]
     },
     "metadata": {
      "needs_background": "light"
     },
     "output_type": "display_data"
    }
   ],
   "source": [
    "feat_importances = pd.Series(model.feature_importances_, index=df.columns)\n",
    "feat_importances.nlargest(2).plot(kind='barh')\n",
    "plt.show()"
   ]
  },
  {
   "cell_type": "code",
   "execution_count": null,
   "metadata": {},
   "outputs": [],
   "source": []
  },
  {
   "cell_type": "code",
   "execution_count": 43,
   "metadata": {},
   "outputs": [
    {
     "name": "stdout",
     "output_type": "stream",
     "text": [
      "Index(['f15836', 'f15699'], dtype='object')\n"
     ]
    }
   ],
   "source": [
    "fi = pd.Series(model.feature_importances_, index=df.columns)\n",
    "\n",
    "ftr = fi.nlargest(2)\n",
    "\n",
    "print(ftr.index)"
   ]
  },
  {
   "cell_type": "code",
   "execution_count": 44,
   "metadata": {},
   "outputs": [
    {
     "name": "stdout",
     "output_type": "stream",
     "text": [
      "(226, 2)\n",
      "(97, 2)\n"
     ]
    }
   ],
   "source": [
    "npar = []\n",
    "for i in range(len(ftr.index)):\n",
    "    npar.append(df[ftr.index[i]].values)\n",
    "\n",
    "npar = np.array(npar).T\n",
    "\n",
    "print(npar.shape)\n",
    "\n",
    "\n",
    "npar2 = []\n",
    "for i in range(len(ftr.index)):\n",
    "    npar2.append(df2[ftr.index[i]].values)\n",
    "\n",
    "npar2 = np.array(npar2).T\n",
    "\n",
    "print(npar2.shape)\n",
    "\n",
    "\n",
    "\n",
    "\n",
    "\n",
    "scaler = preprocessing.StandardScaler().fit(npar)\n",
    "\n",
    "X_train = scaler.transform(npar)\n",
    "\n",
    "X_test = scaler.transform(npar2)"
   ]
  },
  {
   "cell_type": "code",
   "execution_count": 45,
   "metadata": {},
   "outputs": [
    {
     "name": "stdout",
     "output_type": "stream",
     "text": [
      "---------------------Training-------------------------------\n",
      "Accuracy :  0.9929453262786597\n",
      "MCC :  0.9611241783892092\n",
      "Precision :  0.9807175209264992\n",
      "Recall :  0.9804953560371517\n",
      "F1 :  0.9804923123199408\n",
      "---------------------Validation-------------------------------\n",
      "Accuracy :  0.990990990990991\n",
      "MCC :  0.9429904174424563\n",
      "Precision :  0.9767857142857143\n",
      "Recall :  0.9697712418300654\n",
      "F1 :  0.968977060865445\n"
     ]
    }
   ],
   "source": [
    "tr_accs,tst_accs,tr_mccs,tst_mccs,tr_ps,tst_ps,tr_rs,tst_rs,tr_f1s,tst_f1s = K_fold(X_train, y_train, 6)\n",
    "print_metrics(tr_accs,tst_accs,tr_mccs,tst_mccs,tr_ps,tst_ps,tr_rs,tst_rs,tr_f1s,tst_f1s)"
   ]
  },
  {
   "cell_type": "code",
   "execution_count": 46,
   "metadata": {},
   "outputs": [
    {
     "data": {
      "text/plain": [
       "SVC(C=1.0, cache_size=200, class_weight=None, coef0=0.0,\n",
       "  decision_function_shape='ovr', degree=3, gamma='auto_deprecated',\n",
       "  kernel='linear', max_iter=-1, probability=True, random_state=None,\n",
       "  shrinking=True, tol=0.001, verbose=False)"
      ]
     },
     "execution_count": 46,
     "metadata": {},
     "output_type": "execute_result"
    }
   ],
   "source": [
    "clf = svm.SVC(kernel='linear', probability = True)\n",
    "\n",
    "clf.fit(X_train, y_train)"
   ]
  },
  {
   "cell_type": "code",
   "execution_count": 47,
   "metadata": {},
   "outputs": [
    {
     "data": {
      "text/plain": [
       "1.0"
      ]
     },
     "execution_count": 47,
     "metadata": {},
     "output_type": "execute_result"
    }
   ],
   "source": [
    "clf.score(X_test, y_test)"
   ]
  },
  {
   "cell_type": "code",
   "execution_count": 48,
   "metadata": {},
   "outputs": [
    {
     "data": {
      "text/plain": [
       "0.9911504424778761"
      ]
     },
     "execution_count": 48,
     "metadata": {},
     "output_type": "execute_result"
    }
   ],
   "source": [
    "clf.score(X_train, y_train)"
   ]
  },
  {
   "cell_type": "code",
   "execution_count": 49,
   "metadata": {},
   "outputs": [
    {
     "data": {
      "text/plain": [
       "0.9496434937611408"
      ]
     },
     "execution_count": 49,
     "metadata": {},
     "output_type": "execute_result"
    }
   ],
   "source": [
    "pred = clf.predict(X_train)\n",
    "\n",
    "matthews_corrcoef(y_train, pred)"
   ]
  },
  {
   "cell_type": "code",
   "execution_count": 50,
   "metadata": {},
   "outputs": [
    {
     "data": {
      "text/plain": [
       "1.0"
      ]
     },
     "execution_count": 50,
     "metadata": {},
     "output_type": "execute_result"
    }
   ],
   "source": [
    "pred = clf.predict(X_test)\n",
    "\n",
    "matthews_corrcoef(y_test, pred)"
   ]
  },
  {
   "cell_type": "code",
   "execution_count": 51,
   "metadata": {},
   "outputs": [
    {
     "name": "stdout",
     "output_type": "stream",
     "text": [
      "SFRP1\n",
      "SEMA3G\n"
     ]
    }
   ],
   "source": [
    "import pickle\n",
    "with open('my_dict_ft.pkl', 'rb') as fp:\n",
    "    dct = pickle.load(fp)\n",
    "\n",
    "for i in range(len(ftr)):\n",
    "    print(dct[ftr.index[i]])"
   ]
  },
  {
   "cell_type": "code",
   "execution_count": 52,
   "metadata": {},
   "outputs": [
    {
     "data": {
      "text/plain": [
       "(1.0, 1.0, 1.0, None)"
      ]
     },
     "execution_count": 52,
     "metadata": {},
     "output_type": "execute_result"
    }
   ],
   "source": [
    "from sklearn.metrics import precision_recall_fscore_support\n",
    "\n",
    "precision_recall_fscore_support(y_test, pred, average='macro')"
   ]
  },
  {
   "cell_type": "code",
   "execution_count": 53,
   "metadata": {},
   "outputs": [
    {
     "name": "stderr",
     "output_type": "stream",
     "text": [
      "C:\\Users\\Gurpreet\\AppData\\Local\\Continuum\\anaconda3\\lib\\site-packages\\sklearn\\utils\\deprecation.py:77: DeprecationWarning: Function plot_roc_curve is deprecated; This will be removed in v0.5.0. Please use scikitplot.metrics.plot_roc instead.\n",
      "  warnings.warn(msg, category=DeprecationWarning)\n"
     ]
    },
    {
     "data": {
      "image/png": "[encoded data removed]",
      "text/plain": [
       "<Figure size 432x288 with 1 Axes>"
      ]
     },
     "metadata": {
      "needs_background": "light"
     },
     "output_type": "display_data"
    }
   ],
   "source": [
    "import scikitplot as skplt\n",
    "\n",
    "y_probas = clf.predict_proba(X_test)\n",
    "skplt.metrics.plot_roc_curve(y_test, y_probas)\n",
    "plt.show()"
   ]
  },
  {
   "cell_type": "code",
   "execution_count": 54,
   "metadata": {},
   "outputs": [
    {
     "name": "stdout",
     "output_type": "stream",
     "text": [
      "---------------------Training-------------------------------\n",
      "Accuracy :  0.9955908289241622\n",
      "MCC :  0.976507085062769\n",
      "Precision :  0.9791666666666666\n",
      "Recall :  0.9975490196078431\n",
      "F1 :  0.9880871341048332\n",
      "---------------------Validation-------------------------------\n",
      "Accuracy :  0.9954954954954954\n",
      "MCC :  0.9755324480819635\n",
      "Precision :  0.9791666666666666\n",
      "Recall :  0.9975490196078431\n",
      "F1 :  0.9868514570007108\n"
     ]
    },
    {
     "name": "stderr",
     "output_type": "stream",
     "text": [
      "C:\\Users\\Gurpreet\\AppData\\Local\\Continuum\\anaconda3\\lib\\site-packages\\sklearn\\linear_model\\logistic.py:433: FutureWarning: Default solver will be changed to 'lbfgs' in 0.22. Specify a solver to silence this warning.\n",
      "  FutureWarning)\n",
      "C:\\Users\\Gurpreet\\AppData\\Local\\Continuum\\anaconda3\\lib\\site-packages\\sklearn\\linear_model\\logistic.py:433: FutureWarning: Default solver will be changed to 'lbfgs' in 0.22. Specify a solver to silence this warning.\n",
      "  FutureWarning)\n",
      "C:\\Users\\Gurpreet\\AppData\\Local\\Continuum\\anaconda3\\lib\\site-packages\\sklearn\\linear_model\\logistic.py:433: FutureWarning: Default solver will be changed to 'lbfgs' in 0.22. Specify a solver to silence this warning.\n",
      "  FutureWarning)\n",
      "C:\\Users\\Gurpreet\\AppData\\Local\\Continuum\\anaconda3\\lib\\site-packages\\sklearn\\linear_model\\logistic.py:433: FutureWarning: Default solver will be changed to 'lbfgs' in 0.22. Specify a solver to silence this warning.\n",
      "  FutureWarning)\n",
      "C:\\Users\\Gurpreet\\AppData\\Local\\Continuum\\anaconda3\\lib\\site-packages\\sklearn\\linear_model\\logistic.py:433: FutureWarning: Default solver will be changed to 'lbfgs' in 0.22. Specify a solver to silence this warning.\n",
      "  FutureWarning)\n",
      "C:\\Users\\Gurpreet\\AppData\\Local\\Continuum\\anaconda3\\lib\\site-packages\\sklearn\\linear_model\\logistic.py:433: FutureWarning: Default solver will be changed to 'lbfgs' in 0.22. Specify a solver to silence this warning.\n",
      "  FutureWarning)\n"
     ]
    }
   ],
   "source": [
    "tr_accs,tst_accs,tr_mccs,tst_mccs,tr_ps,tst_ps,tr_rs,tst_rs,tr_f1s,tst_f1s = K_fold2(X_train, y_train, 6)\n",
    "print_metrics(tr_accs,tst_accs,tr_mccs,tst_mccs,tr_ps,tst_ps,tr_rs,tst_rs,tr_f1s,tst_f1s)"
   ]
  },
  {
   "cell_type": "code",
   "execution_count": 55,
   "metadata": {},
   "outputs": [
    {
     "name": "stdout",
     "output_type": "stream",
     "text": [
      "Accuracy :  1.0\n",
      "MCC :  1.0\n",
      "Precission :  1.0\n",
      "Recall :  1.0\n",
      "F1 :  1.0\n"
     ]
    },
    {
     "name": "stderr",
     "output_type": "stream",
     "text": [
      "C:\\Users\\Gurpreet\\AppData\\Local\\Continuum\\anaconda3\\lib\\site-packages\\sklearn\\linear_model\\logistic.py:433: FutureWarning: Default solver will be changed to 'lbfgs' in 0.22. Specify a solver to silence this warning.\n",
      "  FutureWarning)\n"
     ]
    }
   ],
   "source": [
    "from sklearn.linear_model import LogisticRegression\n",
    "\n",
    "clf = LogisticRegression(random_state=0)\n",
    "\n",
    "clf.fit(X_train,y_train)\n",
    "\n",
    "prd = clf.predict(X_test)\n",
    "\n",
    "print(\"Accuracy : \",clf.score(X_test, y_test))\n",
    "\n",
    "print(\"MCC : \",matthews_corrcoef(y_test, prd))\n",
    "\n",
    "prf = precision_recall_fscore_support(y_test, prd, average='macro')\n",
    "print(\"Precission : \",prf[0])\n",
    "print(\"Recall : \",prf[1])\n",
    "print(\"F1 : \",prf[2])"
   ]
  },
  {
   "cell_type": "code",
   "execution_count": 56,
   "metadata": {},
   "outputs": [
    {
     "name": "stderr",
     "output_type": "stream",
     "text": [
      "C:\\Users\\Gurpreet\\AppData\\Local\\Continuum\\anaconda3\\lib\\site-packages\\sklearn\\utils\\deprecation.py:77: DeprecationWarning: Function plot_roc_curve is deprecated; This will be removed in v0.5.0. Please use scikitplot.metrics.plot_roc instead.\n",
      "  warnings.warn(msg, category=DeprecationWarning)\n"
     ]
    },
    {
     "data": {
      "image/png": "[encoded data removed]",
      "text/plain": [
       "<Figure size 432x288 with 1 Axes>"
      ]
     },
     "metadata": {
      "needs_background": "light"
     },
     "output_type": "display_data"
    }
   ],
   "source": [
    "y_probas = clf.predict_proba(X_test)\n",
    "skplt.metrics.plot_roc_curve(y_test, y_probas)\n",
    "plt.show()"
   ]
  },
  {
   "cell_type": "code",
   "execution_count": null,
   "metadata": {},
   "outputs": [],
   "source": []
  },
  {
   "cell_type": "code",
   "execution_count": 59,
   "metadata": {},
   "outputs": [
    {
     "name": "stdout",
     "output_type": "stream",
     "text": [
      "---------------------Training-------------------------------\n",
      "Accuracy :  0.9858906525573192\n",
      "MCC :  0.9199109404151705\n",
      "Precision :  0.9922816686830666\n",
      "Recall :  0.9298245614035089\n",
      "F1 :  0.9582792014048728\n",
      "---------------------Validation-------------------------------\n",
      "Accuracy :  0.981981981981982\n",
      "MCC :  0.8663897516079277\n",
      "Precision :  0.9651416122004357\n",
      "Recall :  0.9142156862745098\n",
      "F1 :  0.9257236227824462\n"
     ]
    },
    {
     "name": "stderr",
     "output_type": "stream",
     "text": [
      "C:\\Users\\Gurpreet\\AppData\\Local\\Continuum\\anaconda3\\lib\\site-packages\\sklearn\\linear_model\\logistic.py:433: FutureWarning: Default solver will be changed to 'lbfgs' in 0.22. Specify a solver to silence this warning.\n",
      "  FutureWarning)\n",
      "C:\\Users\\Gurpreet\\AppData\\Local\\Continuum\\anaconda3\\lib\\site-packages\\sklearn\\linear_model\\logistic.py:433: FutureWarning: Default solver will be changed to 'lbfgs' in 0.22. Specify a solver to silence this warning.\n",
      "  FutureWarning)\n",
      "C:\\Users\\Gurpreet\\AppData\\Local\\Continuum\\anaconda3\\lib\\site-packages\\sklearn\\linear_model\\logistic.py:433: FutureWarning: Default solver will be changed to 'lbfgs' in 0.22. Specify a solver to silence this warning.\n",
      "  FutureWarning)\n",
      "C:\\Users\\Gurpreet\\AppData\\Local\\Continuum\\anaconda3\\lib\\site-packages\\sklearn\\linear_model\\logistic.py:433: FutureWarning: Default solver will be changed to 'lbfgs' in 0.22. Specify a solver to silence this warning.\n",
      "  FutureWarning)\n",
      "C:\\Users\\Gurpreet\\AppData\\Local\\Continuum\\anaconda3\\lib\\site-packages\\sklearn\\linear_model\\logistic.py:433: FutureWarning: Default solver will be changed to 'lbfgs' in 0.22. Specify a solver to silence this warning.\n",
      "  FutureWarning)\n",
      "C:\\Users\\Gurpreet\\AppData\\Local\\Continuum\\anaconda3\\lib\\site-packages\\sklearn\\linear_model\\logistic.py:433: FutureWarning: Default solver will be changed to 'lbfgs' in 0.22. Specify a solver to silence this warning.\n",
      "  FutureWarning)\n"
     ]
    }
   ],
   "source": [
    "from sklearn.feature_selection import SelectKBest, chi2\n",
    "\n",
    "skb = SelectKBest(chi2, k=2).fit(X_train2, y_train)\n",
    "X_now_train = skb.transform(X_train2)\n",
    "X_now_test = skb.transform(X_test2)\n",
    "\n",
    "\n",
    "scaler = preprocessing.StandardScaler().fit(X_now_train)\n",
    "X_now_train = scaler.transform(X_now_train)\n",
    "X_now_test = scaler.transform(X_now_test)\n",
    "\n",
    "tr_accs,tst_accs,tr_mccs,tst_mccs,tr_ps,tst_ps,tr_rs,tst_rs,tr_f1s,tst_f1s = K_fold2(X_now_train, y_train, 6)\n",
    "print_metrics(tr_accs,tst_accs,tr_mccs,tst_mccs,tr_ps,tst_ps,tr_rs,tst_rs,tr_f1s,tst_f1s)"
   ]
  },
  {
   "cell_type": "code",
   "execution_count": 58,
   "metadata": {},
   "outputs": [
    {
     "name": "stdout",
     "output_type": "stream",
     "text": [
      "Accuracy :  0.9690721649484536\n",
      "MCC :  0.8225975119502045\n",
      "Precission :  0.9833333333333334\n",
      "Recall :  0.85\n",
      "F1 :  0.9032901296111664\n"
     ]
    },
    {
     "name": "stderr",
     "output_type": "stream",
     "text": [
      "C:\\Users\\Gurpreet\\AppData\\Local\\Continuum\\anaconda3\\lib\\site-packages\\sklearn\\linear_model\\logistic.py:433: FutureWarning: Default solver will be changed to 'lbfgs' in 0.22. Specify a solver to silence this warning.\n",
      "  FutureWarning)\n"
     ]
    }
   ],
   "source": [
    "clf = LogisticRegression(random_state=0)\n",
    "\n",
    "clf.fit(X_now_train,y_train)\n",
    "\n",
    "prd = clf.predict(X_now_test)\n",
    "\n",
    "print(\"Accuracy : \",clf.score(X_now_test, y_test))\n",
    "\n",
    "print(\"MCC : \",matthews_corrcoef(y_test, prd))\n",
    "\n",
    "prf = precision_recall_fscore_support(y_test, prd, average='macro')\n",
    "print(\"Precission : \",prf[0])\n",
    "print(\"Recall : \",prf[1])\n",
    "print(\"F1 : \",prf[2])"
   ]
  },
  {
   "cell_type": "code",
   "execution_count": null,
   "metadata": {},
   "outputs": [],
   "source": []
  }
 ],
 "metadata": {
  "kernelspec": {
   "display_name": "Python 3",
   "language": "python",
   "name": "python3"
  },
  "language_info": {
   "codemirror_mode": {
    "name": "ipython",
    "version": 3
   },
   "file_extension": ".py",
   "mimetype": "text/x-python",
   "name": "python",
   "nbconvert_exporter": "python",
   "pygments_lexer": "ipython3",
   "version": "3.7.1"
  }
 },
 "nbformat": 4,
 "nbformat_minor": 2
}
