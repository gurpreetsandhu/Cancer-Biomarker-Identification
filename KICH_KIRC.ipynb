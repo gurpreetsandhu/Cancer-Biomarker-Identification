{
 "cells": [
  {
   "cell_type": "code",
   "execution_count": 1,
   "metadata": {},
   "outputs": [],
   "source": [
    "import numpy as np\n",
    "import copy\n",
    "import csv\n",
    "from sklearn import preprocessing\n",
    "from sklearn.model_selection import train_test_split\n",
    "from sklearn import svm\n",
    "from sklearn.discriminant_analysis import LinearDiscriminantAnalysis\n",
    "from sklearn.decomposition import PCA\n",
    "import matplotlib.pyplot as plt\n",
    "import matplotlib\n",
    "import random\n",
    "import math\n",
    "from sklearn.metrics import matthews_corrcoef\n",
    "from sklearn.metrics import precision_recall_fscore_support\n",
    "from sklearn.linear_model import LogisticRegression"
   ]
  },
  {
   "cell_type": "code",
   "execution_count": 2,
   "metadata": {},
   "outputs": [],
   "source": [
    "def get_classwise(train_data, train_labels):\n",
    "    dct = {}\n",
    "    for i in range(len(train_data)):\n",
    "        if train_labels[i] not in dct.keys():\n",
    "            dct[train_labels[i]] = [train_data[i]]\n",
    "        else:\n",
    "            dct[train_labels[i]].append(train_data[i])\n",
    "    return dct\n",
    "\n",
    "def get_data(dct, ini, ky, hwmch):\n",
    "    tst_dt = []\n",
    "    tst_lbl = []\n",
    "    tr_dt = []\n",
    "    tr_lbl = []\n",
    "    for i in range(len(dct[ky])):\n",
    "        if i >= ini and i < (ini+hwmch):\n",
    "            if i >= len(dct[ky]):\n",
    "                break\n",
    "            else:\n",
    "                tst_dt.append(dct[ky][i])\n",
    "                tst_lbl.append(ky)\n",
    "        else:\n",
    "            tr_dt.append(dct[ky][i])\n",
    "            tr_lbl.append(ky)\n",
    "    return tr_dt, tr_lbl, tst_dt, tst_lbl, ini+hwmch\n",
    "\n",
    "def K_fold(train_data, train_label, k):\n",
    "    dct = get_classwise(train_data, train_label)\n",
    "    ins = []\n",
    "    cont = []\n",
    "    for i in range(len(dct.keys())):\n",
    "        ins.append(0)\n",
    "        cont.append(int(len(dct[i])/k))\n",
    "    \n",
    "    tr_accs, tst_accs, tr_mccs, tst_mccs, tr_ps, tst_ps, tr_rs, tst_rs, tr_f1s, tst_f1s = [],[],[],[],[],[],[],[],[],[] \n",
    "    for j in range(k):\n",
    "        tr_dt = []\n",
    "        tr_lbl = []\n",
    "        tst_dt = []\n",
    "        tst_lbl = []\n",
    "        for i in dct.keys():\n",
    "            tr_d, tr_l, tst_d, tst_l,upt = get_data(dct, ins[i], i, cont[i])\n",
    "            tr_dt += tr_d\n",
    "            tr_lbl += tr_l\n",
    "            tst_dt += tst_d\n",
    "            tst_lbl += tst_l\n",
    "            ins[i] = upt\n",
    "        \n",
    "        tr_dt = np.array(tr_dt)\n",
    "        tr_lbl = np.array(tr_lbl)\n",
    "        tst_dt = np.array(tst_dt)\n",
    "        tst_lbl = np.array(tst_lbl)\n",
    "        \n",
    "        #print(tr_dt.shape)\n",
    "        #print(tst_dt.shape)\n",
    "        \n",
    "        idx = np.random.permutation(len(tr_dt))\n",
    "        tr_x, tr_y = tr_dt[idx], tr_lbl[idx]\n",
    "        \n",
    "        idx = np.random.permutation(len(tst_dt))\n",
    "        tst_x, tst_y = tst_dt[idx], tst_lbl[idx]\n",
    "        \n",
    "        \n",
    "        \n",
    "        clf = svm.SVC(kernel='linear')\n",
    "        clf.fit(tr_x, tr_y)\n",
    "        \n",
    "        tr_sc = clf.score(tr_x, tr_y)\n",
    "        tst_sc = clf.score(tst_x, tst_y)\n",
    "        \n",
    "        pred = clf.predict(tr_x)\n",
    "        tr_mcc = matthews_corrcoef(tr_y, pred)\n",
    "        prf = precision_recall_fscore_support(tr_y, pred, average='macro')\n",
    "        tr_p = prf[0]\n",
    "        tr_r = prf[1]\n",
    "        tr_f1 = prf[2]\n",
    "        \n",
    "        pred = clf.predict(tst_x)\n",
    "        tst_mcc = matthews_corrcoef(tst_y, pred)\n",
    "        prf = precision_recall_fscore_support(tst_y, pred, average='macro')\n",
    "        tst_p = prf[0]\n",
    "        tst_r = prf[1]\n",
    "        tst_f1 = prf[2]\n",
    "        \n",
    "        tr_accs.append(tr_sc)\n",
    "        tst_accs.append(tst_sc)\n",
    "        tr_mccs.append(tr_mcc)\n",
    "        tst_mccs.append(tst_mcc)\n",
    "        tr_ps.append(tr_p)\n",
    "        tst_ps.append(tst_p)\n",
    "        tr_rs.append(tr_r)\n",
    "        tst_rs.append(tst_r)\n",
    "        tr_f1s.append(tr_f1)\n",
    "        tst_f1s.append(tst_f1)\n",
    "        #print(\"Fold : \", j+1, \" Train Acc : \", tr_sc, \" Validation Acc : \", tst_sc)\n",
    "        #print(\"Fold : \", j+1, \" Train MCC : \", tr_mcc, \" Validation MCC : \", tst_mcc)\n",
    "        #print(\"Fold : \", j+1, \" Train Precission : \", tr_p, \" Validation Precission : \", tst_p)\n",
    "        #print(\"Fold : \", j+1, \" Train Recall : \", tr_r, \" Validation Recall : \", tst_r)\n",
    "        #print(\"Fold : \", j+1, \" Train F1 : \", tr_f1, \" Validation F1 : \", tst_f1)\n",
    "        #print(\"-----------------------------------------------------------------------------------\")\n",
    "    return tr_accs,tst_accs,tr_mccs,tst_mccs,tr_ps,tst_ps,tr_rs,tst_rs,tr_f1s,tst_f1s\n",
    "\n",
    "\n",
    "\n",
    "def K_fold2(train_data, train_label, k):\n",
    "    dct = get_classwise(train_data, train_label)\n",
    "    ins = []\n",
    "    cont = []\n",
    "    for i in range(len(dct.keys())):\n",
    "        ins.append(0)\n",
    "        cont.append(int(len(dct[i])/k))\n",
    "    \n",
    "    tr_accs, tst_accs, tr_mccs, tst_mccs, tr_ps, tst_ps, tr_rs, tst_rs, tr_f1s, tst_f1s = [],[],[],[],[],[],[],[],[],[] \n",
    "    for j in range(k):\n",
    "        tr_dt = []\n",
    "        tr_lbl = []\n",
    "        tst_dt = []\n",
    "        tst_lbl = []\n",
    "        for i in dct.keys():\n",
    "            tr_d, tr_l, tst_d, tst_l,upt = get_data(dct, ins[i], i, cont[i])\n",
    "            tr_dt += tr_d\n",
    "            tr_lbl += tr_l\n",
    "            tst_dt += tst_d\n",
    "            tst_lbl += tst_l\n",
    "            ins[i] = upt\n",
    "        \n",
    "        tr_dt = np.array(tr_dt)\n",
    "        tr_lbl = np.array(tr_lbl)\n",
    "        tst_dt = np.array(tst_dt)\n",
    "        tst_lbl = np.array(tst_lbl)\n",
    "        \n",
    "        #print(tr_dt.shape)\n",
    "        #print(tst_dt.shape)\n",
    "        \n",
    "        idx = np.random.permutation(len(tr_dt))\n",
    "        tr_x, tr_y = tr_dt[idx], tr_lbl[idx]\n",
    "        \n",
    "        idx = np.random.permutation(len(tst_dt))\n",
    "        tst_x, tst_y = tst_dt[idx], tst_lbl[idx]\n",
    "        \n",
    "        \n",
    "        \n",
    "        clf = LogisticRegression(random_state=0)\n",
    "        clf.fit(tr_x, tr_y)\n",
    "        \n",
    "        tr_sc = clf.score(tr_x, tr_y)\n",
    "        tst_sc = clf.score(tst_x, tst_y)\n",
    "        \n",
    "        pred = clf.predict(tr_x)\n",
    "        tr_mcc = matthews_corrcoef(tr_y, pred)\n",
    "        prf = precision_recall_fscore_support(tr_y, pred, average='macro')\n",
    "        tr_p = prf[0]\n",
    "        tr_r = prf[1]\n",
    "        tr_f1 = prf[2]\n",
    "        \n",
    "        pred = clf.predict(tst_x)\n",
    "        tst_mcc = matthews_corrcoef(tst_y, pred)\n",
    "        prf = precision_recall_fscore_support(tst_y, pred, average='macro')\n",
    "        tst_p = prf[0]\n",
    "        tst_r = prf[1]\n",
    "        tst_f1 = prf[2]\n",
    "        \n",
    "        tr_accs.append(tr_sc)\n",
    "        tst_accs.append(tst_sc)\n",
    "        tr_mccs.append(tr_mcc)\n",
    "        tst_mccs.append(tst_mcc)\n",
    "        tr_ps.append(tr_p)\n",
    "        tst_ps.append(tst_p)\n",
    "        tr_rs.append(tr_r)\n",
    "        tst_rs.append(tst_r)\n",
    "        tr_f1s.append(tr_f1)\n",
    "        tst_f1s.append(tst_f1)\n",
    "        #print(\"Fold : \", j+1, \" Train Acc : \", tr_sc, \" Validation Acc : \", tst_sc)\n",
    "        #print(\"Fold : \", j+1, \" Train MCC : \", tr_mcc, \" Validation MCC : \", tst_mcc)\n",
    "        #print(\"Fold : \", j+1, \" Train Precission : \", tr_p, \" Validation Precission : \", tst_p)\n",
    "        #print(\"Fold : \", j+1, \" Train Recall : \", tr_r, \" Validation Recall : \", tst_r)\n",
    "        #print(\"Fold : \", j+1, \" Train F1 : \", tr_f1, \" Validation F1 : \", tst_f1)\n",
    "        #print(\"-----------------------------------------------------------------------------------\")\n",
    "    return tr_accs,tst_accs,tr_mccs,tst_mccs,tr_ps,tst_ps,tr_rs,tst_rs,tr_f1s,tst_f1s\n",
    "\n",
    "\n",
    "\n",
    "def print_metrics(tr_accs,tst_accs,tr_mccs,tst_mccs,tr_ps,tst_ps,tr_rs,tst_rs,tr_f1s,tst_f1s):\n",
    "    print(\"---------------------Training-------------------------------\")\n",
    "    print(\"Accuracy : \", np.mean(tr_accs))\n",
    "    print(\"MCC : \", np.mean(tr_mccs))\n",
    "    print(\"Precision : \", np.mean(tr_ps))\n",
    "    print(\"Recall : \", np.mean(tr_rs))\n",
    "    print(\"F1 : \", np.mean(tr_f1s))\n",
    "    \n",
    "    print(\"---------------------Validation-------------------------------\")\n",
    "    print(\"Accuracy : \", np.mean(tst_accs))\n",
    "    print(\"MCC : \", np.mean(tst_mccs))\n",
    "    print(\"Precision : \", np.mean(tst_ps))\n",
    "    print(\"Recall : \", np.mean(tst_rs))\n",
    "    print(\"F1 : \", np.mean(tst_f1s))"
   ]
  },
  {
   "cell_type": "code",
   "execution_count": 3,
   "metadata": {},
   "outputs": [],
   "source": [
    "data1 = []\n",
    "with open('kichdata.csv','rt')as f:\n",
    "  dt = csv.reader(f)\n",
    "  for row in dt:\n",
    "        data1.append(row)"
   ]
  },
  {
   "cell_type": "code",
   "execution_count": 4,
   "metadata": {},
   "outputs": [],
   "source": [
    "data1 = data1[1:]\n",
    "\n",
    "data1 = np.array(data1)\n",
    "\n",
    "data1 = data1[:,1:]"
   ]
  },
  {
   "cell_type": "code",
   "execution_count": 5,
   "metadata": {},
   "outputs": [],
   "source": [
    "labels1 = []\n",
    "with open('kichlabel.csv','rt')as f:\n",
    "  dt = csv.reader(f)\n",
    "  for row in dt:\n",
    "        labels1.append(row)"
   ]
  },
  {
   "cell_type": "code",
   "execution_count": 6,
   "metadata": {},
   "outputs": [],
   "source": [
    "labels1 = labels1[1:]\n",
    "\n",
    "labels1 = np.array(labels1)[:,1:]"
   ]
  },
  {
   "cell_type": "code",
   "execution_count": 7,
   "metadata": {},
   "outputs": [],
   "source": [
    "data2 = []\n",
    "with open('kircdata.csv','rt')as f:\n",
    "  dt = csv.reader(f)\n",
    "  for row in dt:\n",
    "        data2.append(row)"
   ]
  },
  {
   "cell_type": "code",
   "execution_count": 8,
   "metadata": {},
   "outputs": [],
   "source": [
    "data2 = data2[1:]\n",
    "\n",
    "data2 = np.array(data2)\n",
    "\n",
    "data2 = data2[:,1:]"
   ]
  },
  {
   "cell_type": "code",
   "execution_count": 9,
   "metadata": {},
   "outputs": [],
   "source": [
    "labels2 = []\n",
    "with open('kirclabel.csv','rt')as f:\n",
    "  dt = csv.reader(f)\n",
    "  for row in dt:\n",
    "        labels2.append(row)"
   ]
  },
  {
   "cell_type": "code",
   "execution_count": 10,
   "metadata": {},
   "outputs": [],
   "source": [
    "labels2 = labels2[1:]\n",
    "\n",
    "labels2 = np.array(labels2)[:,1:]\n",
    "\n",
    "labels2[labels2 == '1'] = '2'"
   ]
  },
  {
   "cell_type": "code",
   "execution_count": 11,
   "metadata": {},
   "outputs": [
    {
     "data": {
      "text/plain": [
       "(91, 20502)"
      ]
     },
     "execution_count": 11,
     "metadata": {},
     "output_type": "execute_result"
    }
   ],
   "source": [
    "data1.shape"
   ]
  },
  {
   "cell_type": "code",
   "execution_count": 12,
   "metadata": {},
   "outputs": [
    {
     "data": {
      "text/plain": [
       "(606, 20502)"
      ]
     },
     "execution_count": 12,
     "metadata": {},
     "output_type": "execute_result"
    }
   ],
   "source": [
    "data2.shape"
   ]
  },
  {
   "cell_type": "code",
   "execution_count": 13,
   "metadata": {},
   "outputs": [
    {
     "data": {
      "text/plain": [
       "array(['0', '1'], dtype='<U2')"
      ]
     },
     "execution_count": 13,
     "metadata": {},
     "output_type": "execute_result"
    }
   ],
   "source": [
    "u,c = np.unique(labels1 , return_counts=True)\n",
    "u"
   ]
  },
  {
   "cell_type": "code",
   "execution_count": 14,
   "metadata": {},
   "outputs": [
    {
     "data": {
      "text/plain": [
       "array([25, 66], dtype=int64)"
      ]
     },
     "execution_count": 14,
     "metadata": {},
     "output_type": "execute_result"
    }
   ],
   "source": [
    "c"
   ]
  },
  {
   "cell_type": "code",
   "execution_count": 15,
   "metadata": {},
   "outputs": [
    {
     "data": {
      "text/plain": [
       "array(['0', '2'], dtype='<U3')"
      ]
     },
     "execution_count": 15,
     "metadata": {},
     "output_type": "execute_result"
    }
   ],
   "source": [
    "u,c = np.unique(labels2 , return_counts=True)\n",
    "u"
   ]
  },
  {
   "cell_type": "code",
   "execution_count": 16,
   "metadata": {},
   "outputs": [
    {
     "data": {
      "text/plain": [
       "array([ 72, 534], dtype=int64)"
      ]
     },
     "execution_count": 16,
     "metadata": {},
     "output_type": "execute_result"
    }
   ],
   "source": [
    "c"
   ]
  },
  {
   "cell_type": "code",
   "execution_count": 17,
   "metadata": {},
   "outputs": [],
   "source": [
    "data = np.append(data1, data2, axis = 0)"
   ]
  },
  {
   "cell_type": "code",
   "execution_count": 18,
   "metadata": {},
   "outputs": [],
   "source": [
    "labels = np.append(labels1,labels2)"
   ]
  },
  {
   "cell_type": "code",
   "execution_count": 19,
   "metadata": {},
   "outputs": [
    {
     "data": {
      "text/plain": [
       "(697, 20502)"
      ]
     },
     "execution_count": 19,
     "metadata": {},
     "output_type": "execute_result"
    }
   ],
   "source": [
    "data.shape"
   ]
  },
  {
   "cell_type": "code",
   "execution_count": 20,
   "metadata": {},
   "outputs": [
    {
     "data": {
      "text/plain": [
       "(697,)"
      ]
     },
     "execution_count": 20,
     "metadata": {},
     "output_type": "execute_result"
    }
   ],
   "source": [
    "labels.shape"
   ]
  },
  {
   "cell_type": "markdown",
   "metadata": {},
   "source": [
    "# Exp 2"
   ]
  },
  {
   "cell_type": "code",
   "execution_count": 21,
   "metadata": {},
   "outputs": [
    {
     "data": {
      "text/plain": [
       "(697, 20502)"
      ]
     },
     "execution_count": 21,
     "metadata": {},
     "output_type": "execute_result"
    }
   ],
   "source": [
    "data.shape"
   ]
  },
  {
   "cell_type": "code",
   "execution_count": 22,
   "metadata": {},
   "outputs": [
    {
     "data": {
      "text/plain": [
       "(697,)"
      ]
     },
     "execution_count": 22,
     "metadata": {},
     "output_type": "execute_result"
    }
   ],
   "source": [
    "labels.shape"
   ]
  },
  {
   "cell_type": "code",
   "execution_count": 23,
   "metadata": {},
   "outputs": [],
   "source": [
    "data = data.astype(np.float)"
   ]
  },
  {
   "cell_type": "code",
   "execution_count": 24,
   "metadata": {},
   "outputs": [
    {
     "data": {
      "text/plain": [
       "array([  9.1903,   0.    ,   0.    , ..., 592.7403,   1.9944,   8.3765])"
      ]
     },
     "execution_count": 24,
     "metadata": {},
     "output_type": "execute_result"
    }
   ],
   "source": [
    "data[0]"
   ]
  },
  {
   "cell_type": "code",
   "execution_count": 25,
   "metadata": {},
   "outputs": [],
   "source": [
    "labels = labels.astype(np.int)"
   ]
  },
  {
   "cell_type": "code",
   "execution_count": 26,
   "metadata": {},
   "outputs": [
    {
     "data": {
      "text/plain": [
       "array([0, 1, 2])"
      ]
     },
     "execution_count": 26,
     "metadata": {},
     "output_type": "execute_result"
    }
   ],
   "source": [
    "u,c = np.unique(labels, return_counts = True)\n",
    "u"
   ]
  },
  {
   "cell_type": "code",
   "execution_count": 27,
   "metadata": {},
   "outputs": [
    {
     "data": {
      "text/plain": [
       "array([ 97,  66, 534], dtype=int64)"
      ]
     },
     "execution_count": 27,
     "metadata": {},
     "output_type": "execute_result"
    }
   ],
   "source": [
    "c"
   ]
  },
  {
   "cell_type": "markdown",
   "metadata": {},
   "source": [
    "# Now process"
   ]
  },
  {
   "cell_type": "code",
   "execution_count": 28,
   "metadata": {},
   "outputs": [],
   "source": [
    "labels = labels.reshape((len(labels),))\n",
    "\n",
    "X_train2, X_test2, y_train, y_test = train_test_split(data, labels, test_size = 0.3, stratify = labels, random_state = 3)\n",
    "\n",
    "scaler = preprocessing.StandardScaler().fit(X_train2) \n",
    "\n",
    "X_train = scaler.transform(X_train2)\n",
    "X_test = scaler.transform(X_test2)"
   ]
  },
  {
   "cell_type": "code",
   "execution_count": 29,
   "metadata": {},
   "outputs": [
    {
     "name": "stdout",
     "output_type": "stream",
     "text": [
      "---------------------Training-------------------------------\n",
      "Accuracy :  1.0\n",
      "MCC :  1.0\n",
      "Precision :  1.0\n",
      "Recall :  1.0\n",
      "F1 :  1.0\n",
      "---------------------Validation-------------------------------\n",
      "Accuracy :  0.9729166666666667\n",
      "MCC :  0.9296144234678648\n",
      "Precision :  0.9491033029115222\n",
      "Recall :  0.9538076538076539\n",
      "F1 :  0.9502135033199071\n"
     ]
    }
   ],
   "source": [
    "tr_accs,tst_accs,tr_mccs,tst_mccs,tr_ps,tst_ps,tr_rs,tst_rs,tr_f1s,tst_f1s = K_fold(X_train, y_train, 5)\n",
    "print_metrics(tr_accs,tst_accs,tr_mccs,tst_mccs,tr_ps,tst_ps,tr_rs,tst_rs,tr_f1s,tst_f1s)"
   ]
  },
  {
   "cell_type": "code",
   "execution_count": 30,
   "metadata": {},
   "outputs": [],
   "source": [
    "clf = svm.SVC(kernel='linear')"
   ]
  },
  {
   "cell_type": "code",
   "execution_count": 31,
   "metadata": {},
   "outputs": [
    {
     "data": {
      "text/plain": [
       "SVC(C=1.0, cache_size=200, class_weight=None, coef0=0.0,\n",
       "  decision_function_shape='ovr', degree=3, gamma='auto_deprecated',\n",
       "  kernel='linear', max_iter=-1, probability=False, random_state=None,\n",
       "  shrinking=True, tol=0.001, verbose=False)"
      ]
     },
     "execution_count": 31,
     "metadata": {},
     "output_type": "execute_result"
    }
   ],
   "source": [
    "clf.fit(X_train, y_train)"
   ]
  },
  {
   "cell_type": "code",
   "execution_count": 32,
   "metadata": {},
   "outputs": [
    {
     "data": {
      "text/plain": [
       "0.9761904761904762"
      ]
     },
     "execution_count": 32,
     "metadata": {},
     "output_type": "execute_result"
    }
   ],
   "source": [
    "clf.score(X_test, y_test)"
   ]
  },
  {
   "cell_type": "code",
   "execution_count": 33,
   "metadata": {},
   "outputs": [
    {
     "data": {
      "text/plain": [
       "1.0"
      ]
     },
     "execution_count": 33,
     "metadata": {},
     "output_type": "execute_result"
    }
   ],
   "source": [
    "clf.score(X_train, y_train)"
   ]
  },
  {
   "cell_type": "code",
   "execution_count": null,
   "metadata": {},
   "outputs": [],
   "source": []
  },
  {
   "cell_type": "code",
   "execution_count": null,
   "metadata": {},
   "outputs": [],
   "source": []
  },
  {
   "cell_type": "code",
   "execution_count": 34,
   "metadata": {},
   "outputs": [],
   "source": [
    "pca = PCA(n_components=2)"
   ]
  },
  {
   "cell_type": "code",
   "execution_count": 35,
   "metadata": {},
   "outputs": [
    {
     "data": {
      "text/plain": [
       "PCA(copy=True, iterated_power='auto', n_components=2, random_state=None,\n",
       "  svd_solver='auto', tol=0.0, whiten=False)"
      ]
     },
     "execution_count": 35,
     "metadata": {},
     "output_type": "execute_result"
    }
   ],
   "source": [
    "pca.fit(X_train)"
   ]
  },
  {
   "cell_type": "code",
   "execution_count": 36,
   "metadata": {},
   "outputs": [],
   "source": [
    "pca_data = pca.transform(X_train)"
   ]
  },
  {
   "cell_type": "code",
   "execution_count": 37,
   "metadata": {},
   "outputs": [
    {
     "data": {
      "text/plain": [
       "(487, 2)"
      ]
     },
     "execution_count": 37,
     "metadata": {},
     "output_type": "execute_result"
    }
   ],
   "source": [
    "pca_data.shape"
   ]
  },
  {
   "cell_type": "code",
   "execution_count": 38,
   "metadata": {},
   "outputs": [],
   "source": [
    "import seaborn as sns \n",
    "import pandas as pd"
   ]
  },
  {
   "cell_type": "code",
   "execution_count": 39,
   "metadata": {},
   "outputs": [
    {
     "data": {
      "text/plain": [
       "(487, 2)"
      ]
     },
     "execution_count": 39,
     "metadata": {},
     "output_type": "execute_result"
    }
   ],
   "source": [
    "pca_data.shape"
   ]
  },
  {
   "cell_type": "code",
   "execution_count": 40,
   "metadata": {},
   "outputs": [],
   "source": [
    "df = pd.DataFrame(pca_data, columns=[\"x\", \"y\"])"
   ]
  },
  {
   "cell_type": "code",
   "execution_count": 41,
   "metadata": {},
   "outputs": [],
   "source": [
    "df[\"val\"] = pd.Series(y_train)"
   ]
  },
  {
   "cell_type": "code",
   "execution_count": 42,
   "metadata": {},
   "outputs": [],
   "source": [
    "df[\"val\"] = df[\"val\"].apply(lambda x: \"red\" if x==1 else x)"
   ]
  },
  {
   "cell_type": "code",
   "execution_count": 43,
   "metadata": {},
   "outputs": [],
   "source": [
    "df[\"val\"] = df[\"val\"].apply(lambda x: \"blue\" if x==0 else x)"
   ]
  },
  {
   "cell_type": "code",
   "execution_count": 44,
   "metadata": {},
   "outputs": [],
   "source": [
    "df[\"val\"] = df[\"val\"].apply(lambda x: \"brown\" if x==2 else x)"
   ]
  },
  {
   "cell_type": "code",
   "execution_count": 45,
   "metadata": {},
   "outputs": [
    {
     "data": {
      "text/html": [
       "<div>\n",
       "<style scoped>\n",
       "    .dataframe tbody tr th:only-of-type {\n",
       "        vertical-align: middle;\n",
       "    }\n",
       "\n",
       "    .dataframe tbody tr th {\n",
       "        vertical-align: top;\n",
       "    }\n",
       "\n",
       "    .dataframe thead th {\n",
       "        text-align: right;\n",
       "    }\n",
       "</style>\n",
       "<table border=\"1\" class=\"dataframe\">\n",
       "  <thead>\n",
       "    <tr style=\"text-align: right;\">\n",
       "      <th></th>\n",
       "      <th>x</th>\n",
       "      <th>y</th>\n",
       "      <th>val</th>\n",
       "    </tr>\n",
       "  </thead>\n",
       "  <tbody>\n",
       "    <tr>\n",
       "      <th>0</th>\n",
       "      <td>-16.364262</td>\n",
       "      <td>-11.575789</td>\n",
       "      <td>brown</td>\n",
       "    </tr>\n",
       "    <tr>\n",
       "      <th>1</th>\n",
       "      <td>-17.469098</td>\n",
       "      <td>-15.180295</td>\n",
       "      <td>brown</td>\n",
       "    </tr>\n",
       "    <tr>\n",
       "      <th>2</th>\n",
       "      <td>-14.218750</td>\n",
       "      <td>9.528953</td>\n",
       "      <td>brown</td>\n",
       "    </tr>\n",
       "    <tr>\n",
       "      <th>3</th>\n",
       "      <td>-14.747179</td>\n",
       "      <td>-38.905363</td>\n",
       "      <td>brown</td>\n",
       "    </tr>\n",
       "    <tr>\n",
       "      <th>4</th>\n",
       "      <td>-14.219182</td>\n",
       "      <td>-19.144764</td>\n",
       "      <td>brown</td>\n",
       "    </tr>\n",
       "    <tr>\n",
       "      <th>5</th>\n",
       "      <td>-41.696058</td>\n",
       "      <td>4.448413</td>\n",
       "      <td>brown</td>\n",
       "    </tr>\n",
       "    <tr>\n",
       "      <th>6</th>\n",
       "      <td>-27.382330</td>\n",
       "      <td>13.468309</td>\n",
       "      <td>brown</td>\n",
       "    </tr>\n",
       "    <tr>\n",
       "      <th>7</th>\n",
       "      <td>119.595714</td>\n",
       "      <td>55.250628</td>\n",
       "      <td>red</td>\n",
       "    </tr>\n",
       "    <tr>\n",
       "      <th>8</th>\n",
       "      <td>-31.532723</td>\n",
       "      <td>93.930496</td>\n",
       "      <td>brown</td>\n",
       "    </tr>\n",
       "    <tr>\n",
       "      <th>9</th>\n",
       "      <td>-28.535285</td>\n",
       "      <td>-51.874891</td>\n",
       "      <td>brown</td>\n",
       "    </tr>\n",
       "    <tr>\n",
       "      <th>10</th>\n",
       "      <td>-20.859379</td>\n",
       "      <td>-20.604590</td>\n",
       "      <td>brown</td>\n",
       "    </tr>\n",
       "    <tr>\n",
       "      <th>11</th>\n",
       "      <td>6.940257</td>\n",
       "      <td>-34.659950</td>\n",
       "      <td>blue</td>\n",
       "    </tr>\n",
       "    <tr>\n",
       "      <th>12</th>\n",
       "      <td>-24.850894</td>\n",
       "      <td>0.101027</td>\n",
       "      <td>brown</td>\n",
       "    </tr>\n",
       "    <tr>\n",
       "      <th>13</th>\n",
       "      <td>-36.978117</td>\n",
       "      <td>-40.167919</td>\n",
       "      <td>brown</td>\n",
       "    </tr>\n",
       "    <tr>\n",
       "      <th>14</th>\n",
       "      <td>-29.930355</td>\n",
       "      <td>52.639765</td>\n",
       "      <td>brown</td>\n",
       "    </tr>\n",
       "    <tr>\n",
       "      <th>15</th>\n",
       "      <td>-10.453003</td>\n",
       "      <td>-6.546337</td>\n",
       "      <td>brown</td>\n",
       "    </tr>\n",
       "    <tr>\n",
       "      <th>16</th>\n",
       "      <td>-20.872511</td>\n",
       "      <td>-49.766485</td>\n",
       "      <td>brown</td>\n",
       "    </tr>\n",
       "    <tr>\n",
       "      <th>17</th>\n",
       "      <td>129.767697</td>\n",
       "      <td>1.288144</td>\n",
       "      <td>red</td>\n",
       "    </tr>\n",
       "    <tr>\n",
       "      <th>18</th>\n",
       "      <td>94.185803</td>\n",
       "      <td>15.077658</td>\n",
       "      <td>red</td>\n",
       "    </tr>\n",
       "    <tr>\n",
       "      <th>19</th>\n",
       "      <td>-25.771819</td>\n",
       "      <td>6.717289</td>\n",
       "      <td>brown</td>\n",
       "    </tr>\n",
       "    <tr>\n",
       "      <th>20</th>\n",
       "      <td>-35.852360</td>\n",
       "      <td>18.969802</td>\n",
       "      <td>brown</td>\n",
       "    </tr>\n",
       "    <tr>\n",
       "      <th>21</th>\n",
       "      <td>-21.258976</td>\n",
       "      <td>-61.544484</td>\n",
       "      <td>brown</td>\n",
       "    </tr>\n",
       "    <tr>\n",
       "      <th>22</th>\n",
       "      <td>2.976616</td>\n",
       "      <td>-3.800167</td>\n",
       "      <td>brown</td>\n",
       "    </tr>\n",
       "    <tr>\n",
       "      <th>23</th>\n",
       "      <td>-18.614791</td>\n",
       "      <td>-22.303506</td>\n",
       "      <td>brown</td>\n",
       "    </tr>\n",
       "    <tr>\n",
       "      <th>24</th>\n",
       "      <td>-14.814670</td>\n",
       "      <td>60.698300</td>\n",
       "      <td>brown</td>\n",
       "    </tr>\n",
       "    <tr>\n",
       "      <th>25</th>\n",
       "      <td>102.951191</td>\n",
       "      <td>-3.951252</td>\n",
       "      <td>brown</td>\n",
       "    </tr>\n",
       "    <tr>\n",
       "      <th>26</th>\n",
       "      <td>-42.531066</td>\n",
       "      <td>39.665232</td>\n",
       "      <td>brown</td>\n",
       "    </tr>\n",
       "    <tr>\n",
       "      <th>27</th>\n",
       "      <td>-42.969373</td>\n",
       "      <td>-40.504534</td>\n",
       "      <td>brown</td>\n",
       "    </tr>\n",
       "    <tr>\n",
       "      <th>28</th>\n",
       "      <td>-34.025437</td>\n",
       "      <td>-4.523359</td>\n",
       "      <td>brown</td>\n",
       "    </tr>\n",
       "    <tr>\n",
       "      <th>29</th>\n",
       "      <td>-15.630633</td>\n",
       "      <td>-23.361671</td>\n",
       "      <td>brown</td>\n",
       "    </tr>\n",
       "    <tr>\n",
       "      <th>...</th>\n",
       "      <td>...</td>\n",
       "      <td>...</td>\n",
       "      <td>...</td>\n",
       "    </tr>\n",
       "    <tr>\n",
       "      <th>457</th>\n",
       "      <td>-24.723513</td>\n",
       "      <td>-9.932784</td>\n",
       "      <td>brown</td>\n",
       "    </tr>\n",
       "    <tr>\n",
       "      <th>458</th>\n",
       "      <td>-22.049558</td>\n",
       "      <td>-33.202008</td>\n",
       "      <td>brown</td>\n",
       "    </tr>\n",
       "    <tr>\n",
       "      <th>459</th>\n",
       "      <td>-17.276490</td>\n",
       "      <td>-30.180033</td>\n",
       "      <td>brown</td>\n",
       "    </tr>\n",
       "    <tr>\n",
       "      <th>460</th>\n",
       "      <td>-30.883180</td>\n",
       "      <td>9.982447</td>\n",
       "      <td>brown</td>\n",
       "    </tr>\n",
       "    <tr>\n",
       "      <th>461</th>\n",
       "      <td>49.137086</td>\n",
       "      <td>-24.182748</td>\n",
       "      <td>blue</td>\n",
       "    </tr>\n",
       "    <tr>\n",
       "      <th>462</th>\n",
       "      <td>44.330667</td>\n",
       "      <td>-15.023092</td>\n",
       "      <td>blue</td>\n",
       "    </tr>\n",
       "    <tr>\n",
       "      <th>463</th>\n",
       "      <td>-62.975173</td>\n",
       "      <td>116.433387</td>\n",
       "      <td>brown</td>\n",
       "    </tr>\n",
       "    <tr>\n",
       "      <th>464</th>\n",
       "      <td>58.078121</td>\n",
       "      <td>-45.551681</td>\n",
       "      <td>blue</td>\n",
       "    </tr>\n",
       "    <tr>\n",
       "      <th>465</th>\n",
       "      <td>-21.202627</td>\n",
       "      <td>-5.081772</td>\n",
       "      <td>brown</td>\n",
       "    </tr>\n",
       "    <tr>\n",
       "      <th>466</th>\n",
       "      <td>25.926729</td>\n",
       "      <td>-54.948621</td>\n",
       "      <td>blue</td>\n",
       "    </tr>\n",
       "    <tr>\n",
       "      <th>467</th>\n",
       "      <td>-28.335226</td>\n",
       "      <td>71.569904</td>\n",
       "      <td>brown</td>\n",
       "    </tr>\n",
       "    <tr>\n",
       "      <th>468</th>\n",
       "      <td>116.597479</td>\n",
       "      <td>73.557068</td>\n",
       "      <td>red</td>\n",
       "    </tr>\n",
       "    <tr>\n",
       "      <th>469</th>\n",
       "      <td>118.677553</td>\n",
       "      <td>-10.316397</td>\n",
       "      <td>red</td>\n",
       "    </tr>\n",
       "    <tr>\n",
       "      <th>470</th>\n",
       "      <td>-30.191155</td>\n",
       "      <td>-40.514346</td>\n",
       "      <td>brown</td>\n",
       "    </tr>\n",
       "    <tr>\n",
       "      <th>471</th>\n",
       "      <td>-41.017774</td>\n",
       "      <td>106.687636</td>\n",
       "      <td>brown</td>\n",
       "    </tr>\n",
       "    <tr>\n",
       "      <th>472</th>\n",
       "      <td>-36.143032</td>\n",
       "      <td>25.645390</td>\n",
       "      <td>brown</td>\n",
       "    </tr>\n",
       "    <tr>\n",
       "      <th>473</th>\n",
       "      <td>-33.389488</td>\n",
       "      <td>15.812182</td>\n",
       "      <td>brown</td>\n",
       "    </tr>\n",
       "    <tr>\n",
       "      <th>474</th>\n",
       "      <td>31.474714</td>\n",
       "      <td>1.709252</td>\n",
       "      <td>brown</td>\n",
       "    </tr>\n",
       "    <tr>\n",
       "      <th>475</th>\n",
       "      <td>-19.527323</td>\n",
       "      <td>16.999787</td>\n",
       "      <td>brown</td>\n",
       "    </tr>\n",
       "    <tr>\n",
       "      <th>476</th>\n",
       "      <td>-35.254544</td>\n",
       "      <td>-29.002423</td>\n",
       "      <td>brown</td>\n",
       "    </tr>\n",
       "    <tr>\n",
       "      <th>477</th>\n",
       "      <td>-3.999900</td>\n",
       "      <td>16.786156</td>\n",
       "      <td>brown</td>\n",
       "    </tr>\n",
       "    <tr>\n",
       "      <th>478</th>\n",
       "      <td>-34.434120</td>\n",
       "      <td>13.886180</td>\n",
       "      <td>brown</td>\n",
       "    </tr>\n",
       "    <tr>\n",
       "      <th>479</th>\n",
       "      <td>-5.275995</td>\n",
       "      <td>14.561736</td>\n",
       "      <td>brown</td>\n",
       "    </tr>\n",
       "    <tr>\n",
       "      <th>480</th>\n",
       "      <td>-10.242165</td>\n",
       "      <td>11.262868</td>\n",
       "      <td>brown</td>\n",
       "    </tr>\n",
       "    <tr>\n",
       "      <th>481</th>\n",
       "      <td>-23.667598</td>\n",
       "      <td>33.504861</td>\n",
       "      <td>brown</td>\n",
       "    </tr>\n",
       "    <tr>\n",
       "      <th>482</th>\n",
       "      <td>-26.859161</td>\n",
       "      <td>-22.867204</td>\n",
       "      <td>brown</td>\n",
       "    </tr>\n",
       "    <tr>\n",
       "      <th>483</th>\n",
       "      <td>36.508487</td>\n",
       "      <td>-46.097596</td>\n",
       "      <td>blue</td>\n",
       "    </tr>\n",
       "    <tr>\n",
       "      <th>484</th>\n",
       "      <td>31.402120</td>\n",
       "      <td>-52.180387</td>\n",
       "      <td>blue</td>\n",
       "    </tr>\n",
       "    <tr>\n",
       "      <th>485</th>\n",
       "      <td>51.778904</td>\n",
       "      <td>-5.547668</td>\n",
       "      <td>blue</td>\n",
       "    </tr>\n",
       "    <tr>\n",
       "      <th>486</th>\n",
       "      <td>-39.931614</td>\n",
       "      <td>-23.050860</td>\n",
       "      <td>brown</td>\n",
       "    </tr>\n",
       "  </tbody>\n",
       "</table>\n",
       "<p>487 rows × 3 columns</p>\n",
       "</div>"
      ],
      "text/plain": [
       "              x           y    val\n",
       "0    -16.364262  -11.575789  brown\n",
       "1    -17.469098  -15.180295  brown\n",
       "2    -14.218750    9.528953  brown\n",
       "3    -14.747179  -38.905363  brown\n",
       "4    -14.219182  -19.144764  brown\n",
       "5    -41.696058    4.448413  brown\n",
       "6    -27.382330   13.468309  brown\n",
       "7    119.595714   55.250628    red\n",
       "8    -31.532723   93.930496  brown\n",
       "9    -28.535285  -51.874891  brown\n",
       "10   -20.859379  -20.604590  brown\n",
       "11     6.940257  -34.659950   blue\n",
       "12   -24.850894    0.101027  brown\n",
       "13   -36.978117  -40.167919  brown\n",
       "14   -29.930355   52.639765  brown\n",
       "15   -10.453003   -6.546337  brown\n",
       "16   -20.872511  -49.766485  brown\n",
       "17   129.767697    1.288144    red\n",
       "18    94.185803   15.077658    red\n",
       "19   -25.771819    6.717289  brown\n",
       "20   -35.852360   18.969802  brown\n",
       "21   -21.258976  -61.544484  brown\n",
       "22     2.976616   -3.800167  brown\n",
       "23   -18.614791  -22.303506  brown\n",
       "24   -14.814670   60.698300  brown\n",
       "25   102.951191   -3.951252  brown\n",
       "26   -42.531066   39.665232  brown\n",
       "27   -42.969373  -40.504534  brown\n",
       "28   -34.025437   -4.523359  brown\n",
       "29   -15.630633  -23.361671  brown\n",
       "..          ...         ...    ...\n",
       "457  -24.723513   -9.932784  brown\n",
       "458  -22.049558  -33.202008  brown\n",
       "459  -17.276490  -30.180033  brown\n",
       "460  -30.883180    9.982447  brown\n",
       "461   49.137086  -24.182748   blue\n",
       "462   44.330667  -15.023092   blue\n",
       "463  -62.975173  116.433387  brown\n",
       "464   58.078121  -45.551681   blue\n",
       "465  -21.202627   -5.081772  brown\n",
       "466   25.926729  -54.948621   blue\n",
       "467  -28.335226   71.569904  brown\n",
       "468  116.597479   73.557068    red\n",
       "469  118.677553  -10.316397    red\n",
       "470  -30.191155  -40.514346  brown\n",
       "471  -41.017774  106.687636  brown\n",
       "472  -36.143032   25.645390  brown\n",
       "473  -33.389488   15.812182  brown\n",
       "474   31.474714    1.709252  brown\n",
       "475  -19.527323   16.999787  brown\n",
       "476  -35.254544  -29.002423  brown\n",
       "477   -3.999900   16.786156  brown\n",
       "478  -34.434120   13.886180  brown\n",
       "479   -5.275995   14.561736  brown\n",
       "480  -10.242165   11.262868  brown\n",
       "481  -23.667598   33.504861  brown\n",
       "482  -26.859161  -22.867204  brown\n",
       "483   36.508487  -46.097596   blue\n",
       "484   31.402120  -52.180387   blue\n",
       "485   51.778904   -5.547668   blue\n",
       "486  -39.931614  -23.050860  brown\n",
       "\n",
       "[487 rows x 3 columns]"
      ]
     },
     "execution_count": 45,
     "metadata": {},
     "output_type": "execute_result"
    }
   ],
   "source": [
    "df"
   ]
  },
  {
   "cell_type": "code",
   "execution_count": 46,
   "metadata": {},
   "outputs": [
    {
     "data": {
      "text/plain": [
       "[]"
      ]
     },
     "execution_count": 46,
     "metadata": {},
     "output_type": "execute_result"
    },
    {
     "data": {
      "image/png": "[encoded data removed]",
      "text/plain": [
       "<Figure size 432x288 with 1 Axes>"
      ]
     },
     "metadata": {
      "needs_background": "light"
     },
     "output_type": "display_data"
    }
   ],
   "source": [
    "fig, ax = plt.subplots()\n",
    "ax.scatter(x=df[\"x\"], y=df[\"y\"], c=df[\"val\"])\n",
    "plt.plot()"
   ]
  },
  {
   "cell_type": "code",
   "execution_count": 47,
   "metadata": {},
   "outputs": [],
   "source": [
    "from sklearn.metrics import matthews_corrcoef"
   ]
  },
  {
   "cell_type": "code",
   "execution_count": 48,
   "metadata": {},
   "outputs": [
    {
     "data": {
      "text/plain": [
       "0.9385712005357666"
      ]
     },
     "execution_count": 48,
     "metadata": {},
     "output_type": "execute_result"
    }
   ],
   "source": [
    "pred = clf.predict(X_test)\n",
    "\n",
    "matthews_corrcoef(y_test, pred)"
   ]
  },
  {
   "cell_type": "code",
   "execution_count": 49,
   "metadata": {},
   "outputs": [
    {
     "data": {
      "text/plain": [
       "1.0"
      ]
     },
     "execution_count": 49,
     "metadata": {},
     "output_type": "execute_result"
    }
   ],
   "source": [
    "pred = clf.predict(X_train)\n",
    "\n",
    "matthews_corrcoef(y_train, pred)"
   ]
  },
  {
   "cell_type": "code",
   "execution_count": null,
   "metadata": {},
   "outputs": [],
   "source": []
  },
  {
   "cell_type": "code",
   "execution_count": 50,
   "metadata": {},
   "outputs": [
    {
     "name": "stderr",
     "output_type": "stream",
     "text": [
      "C:\\Users\\Gurpreet\\AppData\\Local\\Continuum\\anaconda3\\lib\\site-packages\\sklearn\\ensemble\\forest.py:246: FutureWarning: The default value of n_estimators will change from 10 in version 0.20 to 100 in 0.22.\n",
      "  \"10 in version 0.20 to 100 in 0.22.\", FutureWarning)\n"
     ]
    },
    {
     "data": {
      "text/plain": [
       "ExtraTreesClassifier(bootstrap=False, class_weight=None, criterion='gini',\n",
       "           max_depth=None, max_features='auto', max_leaf_nodes=None,\n",
       "           min_impurity_decrease=0.0, min_impurity_split=None,\n",
       "           min_samples_leaf=1, min_samples_split=2,\n",
       "           min_weight_fraction_leaf=0.0, n_estimators=10, n_jobs=None,\n",
       "           oob_score=False, random_state=3, verbose=0, warm_start=False)"
      ]
     },
     "execution_count": 50,
     "metadata": {},
     "output_type": "execute_result"
    }
   ],
   "source": [
    "from sklearn.ensemble import ExtraTreesClassifier\n",
    "model = ExtraTreesClassifier(random_state = 3)\n",
    "\n",
    "model.fit(X_train2,y_train)"
   ]
  },
  {
   "cell_type": "code",
   "execution_count": 51,
   "metadata": {},
   "outputs": [
    {
     "name": "stdout",
     "output_type": "stream",
     "text": [
      "487\n",
      "210\n"
     ]
    }
   ],
   "source": [
    "df = pd.DataFrame(data=X_train2[0:,0:],index=[i for i in range(X_train2.shape[0])], columns=['f'+str(i) for i in range(X_train2.shape[1])])\n",
    "\n",
    "print(len(df))\n",
    "\n",
    "df2 = pd.DataFrame(data=X_test2[0:,0:],index=[i for i in range(X_test2.shape[0])], columns=['f'+str(i) for i in range(X_test2.shape[1])])\n",
    "\n",
    "print(len(df2))"
   ]
  },
  {
   "cell_type": "code",
   "execution_count": 52,
   "metadata": {},
   "outputs": [
    {
     "data": {
      "image/png": "[encoded data removed]",
      "text/plain": [
       "<Figure size 432x288 with 1 Axes>"
      ]
     },
     "metadata": {
      "needs_background": "light"
     },
     "output_type": "display_data"
    }
   ],
   "source": [
    "feat_importances = pd.Series(model.feature_importances_, index=df.columns)\n",
    "feat_importances.nlargest(2).plot(kind='barh')\n",
    "plt.show()"
   ]
  },
  {
   "cell_type": "code",
   "execution_count": null,
   "metadata": {},
   "outputs": [],
   "source": []
  },
  {
   "cell_type": "code",
   "execution_count": 53,
   "metadata": {},
   "outputs": [
    {
     "name": "stdout",
     "output_type": "stream",
     "text": [
      "Index(['f18228', 'f156'], dtype='object')\n"
     ]
    }
   ],
   "source": [
    "fi = pd.Series(model.feature_importances_, index=df.columns)\n",
    "\n",
    "ftr = fi.nlargest(2)\n",
    "\n",
    "print(ftr.index)"
   ]
  },
  {
   "cell_type": "code",
   "execution_count": 54,
   "metadata": {},
   "outputs": [
    {
     "name": "stdout",
     "output_type": "stream",
     "text": [
      "(487, 2)\n",
      "(210, 2)\n"
     ]
    }
   ],
   "source": [
    "npar = []\n",
    "for i in range(len(ftr.index)):\n",
    "    npar.append(df[ftr.index[i]].values)\n",
    "\n",
    "npar = np.array(npar).T\n",
    "\n",
    "print(npar.shape)\n",
    "\n",
    "\n",
    "npar2 = []\n",
    "for i in range(len(ftr.index)):\n",
    "    npar2.append(df2[ftr.index[i]].values)\n",
    "\n",
    "npar2 = np.array(npar2).T\n",
    "\n",
    "print(npar2.shape)\n",
    "\n",
    "\n",
    "\n",
    "\n",
    "\n",
    "scaler = preprocessing.StandardScaler().fit(npar)\n",
    "\n",
    "X_train = scaler.transform(npar)\n",
    "\n",
    "X_test = scaler.transform(npar2)"
   ]
  },
  {
   "cell_type": "code",
   "execution_count": 55,
   "metadata": {},
   "outputs": [
    {
     "name": "stdout",
     "output_type": "stream",
     "text": [
      "---------------------Training-------------------------------\n",
      "Accuracy :  0.8792838874680307\n",
      "MCC :  0.662457053766098\n",
      "Precision :  0.6100408052887517\n",
      "Recall :  0.6127617310226006\n",
      "F1 :  0.6085662756742828\n",
      "---------------------Validation-------------------------------\n",
      "Accuracy :  0.8833333333333334\n",
      "MCC :  0.6677740344347093\n",
      "Precision :  0.6105462866978308\n",
      "Recall :  0.6187110187110187\n",
      "F1 :  0.6101571518909623\n"
     ]
    },
    {
     "name": "stderr",
     "output_type": "stream",
     "text": [
      "C:\\Users\\Gurpreet\\AppData\\Local\\Continuum\\anaconda3\\lib\\site-packages\\sklearn\\metrics\\classification.py:1143: UndefinedMetricWarning: Precision and F-score are ill-defined and being set to 0.0 in labels with no predicted samples.\n",
      "  'precision', 'predicted', average, warn_for)\n",
      "C:\\Users\\Gurpreet\\AppData\\Local\\Continuum\\anaconda3\\lib\\site-packages\\sklearn\\metrics\\classification.py:1143: UndefinedMetricWarning: Precision and F-score are ill-defined and being set to 0.0 in labels with no predicted samples.\n",
      "  'precision', 'predicted', average, warn_for)\n",
      "C:\\Users\\Gurpreet\\AppData\\Local\\Continuum\\anaconda3\\lib\\site-packages\\sklearn\\metrics\\classification.py:1143: UndefinedMetricWarning: Precision and F-score are ill-defined and being set to 0.0 in labels with no predicted samples.\n",
      "  'precision', 'predicted', average, warn_for)\n",
      "C:\\Users\\Gurpreet\\AppData\\Local\\Continuum\\anaconda3\\lib\\site-packages\\sklearn\\metrics\\classification.py:1143: UndefinedMetricWarning: Precision and F-score are ill-defined and being set to 0.0 in labels with no predicted samples.\n",
      "  'precision', 'predicted', average, warn_for)\n",
      "C:\\Users\\Gurpreet\\AppData\\Local\\Continuum\\anaconda3\\lib\\site-packages\\sklearn\\metrics\\classification.py:1143: UndefinedMetricWarning: Precision and F-score are ill-defined and being set to 0.0 in labels with no predicted samples.\n",
      "  'precision', 'predicted', average, warn_for)\n",
      "C:\\Users\\Gurpreet\\AppData\\Local\\Continuum\\anaconda3\\lib\\site-packages\\sklearn\\metrics\\classification.py:1143: UndefinedMetricWarning: Precision and F-score are ill-defined and being set to 0.0 in labels with no predicted samples.\n",
      "  'precision', 'predicted', average, warn_for)\n",
      "C:\\Users\\Gurpreet\\AppData\\Local\\Continuum\\anaconda3\\lib\\site-packages\\sklearn\\metrics\\classification.py:1143: UndefinedMetricWarning: Precision and F-score are ill-defined and being set to 0.0 in labels with no predicted samples.\n",
      "  'precision', 'predicted', average, warn_for)\n",
      "C:\\Users\\Gurpreet\\AppData\\Local\\Continuum\\anaconda3\\lib\\site-packages\\sklearn\\metrics\\classification.py:1143: UndefinedMetricWarning: Precision and F-score are ill-defined and being set to 0.0 in labels with no predicted samples.\n",
      "  'precision', 'predicted', average, warn_for)\n",
      "C:\\Users\\Gurpreet\\AppData\\Local\\Continuum\\anaconda3\\lib\\site-packages\\sklearn\\metrics\\classification.py:1143: UndefinedMetricWarning: Precision and F-score are ill-defined and being set to 0.0 in labels with no predicted samples.\n",
      "  'precision', 'predicted', average, warn_for)\n",
      "C:\\Users\\Gurpreet\\AppData\\Local\\Continuum\\anaconda3\\lib\\site-packages\\sklearn\\metrics\\classification.py:1143: UndefinedMetricWarning: Precision and F-score are ill-defined and being set to 0.0 in labels with no predicted samples.\n",
      "  'precision', 'predicted', average, warn_for)\n"
     ]
    }
   ],
   "source": [
    "tr_accs,tst_accs,tr_mccs,tst_mccs,tr_ps,tst_ps,tr_rs,tst_rs,tr_f1s,tst_f1s = K_fold(X_train, y_train, 5)\n",
    "print_metrics(tr_accs,tst_accs,tr_mccs,tst_mccs,tr_ps,tst_ps,tr_rs,tst_rs,tr_f1s,tst_f1s)"
   ]
  },
  {
   "cell_type": "code",
   "execution_count": 56,
   "metadata": {},
   "outputs": [
    {
     "data": {
      "text/plain": [
       "SVC(C=1.0, cache_size=200, class_weight=None, coef0=0.0,\n",
       "  decision_function_shape='ovr', degree=3, gamma='auto_deprecated',\n",
       "  kernel='linear', max_iter=-1, probability=True, random_state=None,\n",
       "  shrinking=True, tol=0.001, verbose=False)"
      ]
     },
     "execution_count": 56,
     "metadata": {},
     "output_type": "execute_result"
    }
   ],
   "source": [
    "clf = svm.SVC(kernel='linear', probability = True)\n",
    "\n",
    "clf.fit(X_train, y_train)"
   ]
  },
  {
   "cell_type": "code",
   "execution_count": 57,
   "metadata": {},
   "outputs": [
    {
     "data": {
      "text/plain": [
       "0.8761904761904762"
      ]
     },
     "execution_count": 57,
     "metadata": {},
     "output_type": "execute_result"
    }
   ],
   "source": [
    "clf.score(X_test, y_test)"
   ]
  },
  {
   "cell_type": "code",
   "execution_count": 58,
   "metadata": {},
   "outputs": [
    {
     "data": {
      "text/plain": [
       "0.8788501026694046"
      ]
     },
     "execution_count": 58,
     "metadata": {},
     "output_type": "execute_result"
    }
   ],
   "source": [
    "clf.score(X_train, y_train)"
   ]
  },
  {
   "cell_type": "code",
   "execution_count": 59,
   "metadata": {},
   "outputs": [
    {
     "data": {
      "text/plain": [
       "0.6594559822592836"
      ]
     },
     "execution_count": 59,
     "metadata": {},
     "output_type": "execute_result"
    }
   ],
   "source": [
    "pred = clf.predict(X_train)\n",
    "\n",
    "matthews_corrcoef(y_train, pred)"
   ]
  },
  {
   "cell_type": "code",
   "execution_count": 60,
   "metadata": {},
   "outputs": [
    {
     "data": {
      "text/plain": [
       "0.6517926184119665"
      ]
     },
     "execution_count": 60,
     "metadata": {},
     "output_type": "execute_result"
    }
   ],
   "source": [
    "pred = clf.predict(X_test)\n",
    "\n",
    "matthews_corrcoef(y_test, pred)"
   ]
  },
  {
   "cell_type": "code",
   "execution_count": 61,
   "metadata": {},
   "outputs": [
    {
     "name": "stdout",
     "output_type": "stream",
     "text": [
      "TMEM207\n",
      "ACOT12\n"
     ]
    }
   ],
   "source": [
    "import pickle\n",
    "with open('my_dict_ft.pkl', 'rb') as fp:\n",
    "    dct = pickle.load(fp)\n",
    "\n",
    "for i in range(len(ftr)):\n",
    "    print(dct[ftr.index[i]])"
   ]
  },
  {
   "cell_type": "code",
   "execution_count": 62,
   "metadata": {},
   "outputs": [
    {
     "name": "stderr",
     "output_type": "stream",
     "text": [
      "C:\\Users\\Gurpreet\\AppData\\Local\\Continuum\\anaconda3\\lib\\site-packages\\sklearn\\metrics\\classification.py:1143: UndefinedMetricWarning: Precision and F-score are ill-defined and being set to 0.0 in labels with no predicted samples.\n",
      "  'precision', 'predicted', average, warn_for)\n"
     ]
    },
    {
     "data": {
      "text/plain": [
       "(0.5667134831460674, 0.6259727279217534, 0.594870802907942, None)"
      ]
     },
     "execution_count": 62,
     "metadata": {},
     "output_type": "execute_result"
    }
   ],
   "source": [
    "from sklearn.metrics import precision_recall_fscore_support\n",
    "\n",
    "precision_recall_fscore_support(y_test, pred, average='macro')"
   ]
  },
  {
   "cell_type": "code",
   "execution_count": 63,
   "metadata": {},
   "outputs": [
    {
     "name": "stderr",
     "output_type": "stream",
     "text": [
      "C:\\Users\\Gurpreet\\AppData\\Local\\Continuum\\anaconda3\\lib\\site-packages\\sklearn\\utils\\deprecation.py:77: DeprecationWarning: Function plot_roc_curve is deprecated; This will be removed in v0.5.0. Please use scikitplot.metrics.plot_roc instead.\n",
      "  warnings.warn(msg, category=DeprecationWarning)\n"
     ]
    },
    {
     "data": {
      "image/png": "[encoded data removed]",
      "text/plain": [
       "<Figure size 432x288 with 1 Axes>"
      ]
     },
     "metadata": {
      "needs_background": "light"
     },
     "output_type": "display_data"
    }
   ],
   "source": [
    "import scikitplot as skplt\n",
    "\n",
    "y_probas = clf.predict_proba(X_test)\n",
    "skplt.metrics.plot_roc_curve(y_test, y_probas)\n",
    "plt.show()"
   ]
  },
  {
   "cell_type": "code",
   "execution_count": 64,
   "metadata": {},
   "outputs": [
    {
     "name": "stdout",
     "output_type": "stream",
     "text": [
      "---------------------Training-------------------------------\n",
      "Accuracy :  0.8731457800511508\n",
      "MCC :  0.6420281821308772\n",
      "Precision :  0.6085826694745867\n",
      "Recall :  0.598216276477146\n",
      "F1 :  0.5991409457975456\n",
      "---------------------Validation-------------------------------\n",
      "Accuracy :  0.875\n",
      "MCC :  0.6391034223622047\n",
      "Precision :  0.6074702529196565\n",
      "Recall :  0.5981981981981982\n",
      "F1 :  0.5958803543807031\n"
     ]
    },
    {
     "name": "stderr",
     "output_type": "stream",
     "text": [
      "C:\\Users\\Gurpreet\\AppData\\Local\\Continuum\\anaconda3\\lib\\site-packages\\sklearn\\linear_model\\logistic.py:433: FutureWarning: Default solver will be changed to 'lbfgs' in 0.22. Specify a solver to silence this warning.\n",
      "  FutureWarning)\n",
      "C:\\Users\\Gurpreet\\AppData\\Local\\Continuum\\anaconda3\\lib\\site-packages\\sklearn\\linear_model\\logistic.py:460: FutureWarning: Default multi_class will be changed to 'auto' in 0.22. Specify the multi_class option to silence this warning.\n",
      "  \"this warning.\", FutureWarning)\n",
      "C:\\Users\\Gurpreet\\AppData\\Local\\Continuum\\anaconda3\\lib\\site-packages\\sklearn\\metrics\\classification.py:1143: UndefinedMetricWarning: Precision and F-score are ill-defined and being set to 0.0 in labels with no predicted samples.\n",
      "  'precision', 'predicted', average, warn_for)\n",
      "C:\\Users\\Gurpreet\\AppData\\Local\\Continuum\\anaconda3\\lib\\site-packages\\sklearn\\metrics\\classification.py:1143: UndefinedMetricWarning: Precision and F-score are ill-defined and being set to 0.0 in labels with no predicted samples.\n",
      "  'precision', 'predicted', average, warn_for)\n",
      "C:\\Users\\Gurpreet\\AppData\\Local\\Continuum\\anaconda3\\lib\\site-packages\\sklearn\\linear_model\\logistic.py:433: FutureWarning: Default solver will be changed to 'lbfgs' in 0.22. Specify a solver to silence this warning.\n",
      "  FutureWarning)\n",
      "C:\\Users\\Gurpreet\\AppData\\Local\\Continuum\\anaconda3\\lib\\site-packages\\sklearn\\linear_model\\logistic.py:460: FutureWarning: Default multi_class will be changed to 'auto' in 0.22. Specify the multi_class option to silence this warning.\n",
      "  \"this warning.\", FutureWarning)\n",
      "C:\\Users\\Gurpreet\\AppData\\Local\\Continuum\\anaconda3\\lib\\site-packages\\sklearn\\metrics\\classification.py:1143: UndefinedMetricWarning: Precision and F-score are ill-defined and being set to 0.0 in labels with no predicted samples.\n",
      "  'precision', 'predicted', average, warn_for)\n",
      "C:\\Users\\Gurpreet\\AppData\\Local\\Continuum\\anaconda3\\lib\\site-packages\\sklearn\\metrics\\classification.py:1143: UndefinedMetricWarning: Precision and F-score are ill-defined and being set to 0.0 in labels with no predicted samples.\n",
      "  'precision', 'predicted', average, warn_for)\n",
      "C:\\Users\\Gurpreet\\AppData\\Local\\Continuum\\anaconda3\\lib\\site-packages\\sklearn\\linear_model\\logistic.py:433: FutureWarning: Default solver will be changed to 'lbfgs' in 0.22. Specify a solver to silence this warning.\n",
      "  FutureWarning)\n",
      "C:\\Users\\Gurpreet\\AppData\\Local\\Continuum\\anaconda3\\lib\\site-packages\\sklearn\\linear_model\\logistic.py:460: FutureWarning: Default multi_class will be changed to 'auto' in 0.22. Specify the multi_class option to silence this warning.\n",
      "  \"this warning.\", FutureWarning)\n",
      "C:\\Users\\Gurpreet\\AppData\\Local\\Continuum\\anaconda3\\lib\\site-packages\\sklearn\\metrics\\classification.py:1143: UndefinedMetricWarning: Precision and F-score are ill-defined and being set to 0.0 in labels with no predicted samples.\n",
      "  'precision', 'predicted', average, warn_for)\n",
      "C:\\Users\\Gurpreet\\AppData\\Local\\Continuum\\anaconda3\\lib\\site-packages\\sklearn\\metrics\\classification.py:1143: UndefinedMetricWarning: Precision and F-score are ill-defined and being set to 0.0 in labels with no predicted samples.\n",
      "  'precision', 'predicted', average, warn_for)\n",
      "C:\\Users\\Gurpreet\\AppData\\Local\\Continuum\\anaconda3\\lib\\site-packages\\sklearn\\linear_model\\logistic.py:433: FutureWarning: Default solver will be changed to 'lbfgs' in 0.22. Specify a solver to silence this warning.\n",
      "  FutureWarning)\n",
      "C:\\Users\\Gurpreet\\AppData\\Local\\Continuum\\anaconda3\\lib\\site-packages\\sklearn\\linear_model\\logistic.py:460: FutureWarning: Default multi_class will be changed to 'auto' in 0.22. Specify the multi_class option to silence this warning.\n",
      "  \"this warning.\", FutureWarning)\n",
      "C:\\Users\\Gurpreet\\AppData\\Local\\Continuum\\anaconda3\\lib\\site-packages\\sklearn\\metrics\\classification.py:1143: UndefinedMetricWarning: Precision and F-score are ill-defined and being set to 0.0 in labels with no predicted samples.\n",
      "  'precision', 'predicted', average, warn_for)\n",
      "C:\\Users\\Gurpreet\\AppData\\Local\\Continuum\\anaconda3\\lib\\site-packages\\sklearn\\metrics\\classification.py:1143: UndefinedMetricWarning: Precision and F-score are ill-defined and being set to 0.0 in labels with no predicted samples.\n",
      "  'precision', 'predicted', average, warn_for)\n",
      "C:\\Users\\Gurpreet\\AppData\\Local\\Continuum\\anaconda3\\lib\\site-packages\\sklearn\\linear_model\\logistic.py:433: FutureWarning: Default solver will be changed to 'lbfgs' in 0.22. Specify a solver to silence this warning.\n",
      "  FutureWarning)\n",
      "C:\\Users\\Gurpreet\\AppData\\Local\\Continuum\\anaconda3\\lib\\site-packages\\sklearn\\linear_model\\logistic.py:460: FutureWarning: Default multi_class will be changed to 'auto' in 0.22. Specify the multi_class option to silence this warning.\n",
      "  \"this warning.\", FutureWarning)\n",
      "C:\\Users\\Gurpreet\\AppData\\Local\\Continuum\\anaconda3\\lib\\site-packages\\sklearn\\metrics\\classification.py:1143: UndefinedMetricWarning: Precision and F-score are ill-defined and being set to 0.0 in labels with no predicted samples.\n",
      "  'precision', 'predicted', average, warn_for)\n",
      "C:\\Users\\Gurpreet\\AppData\\Local\\Continuum\\anaconda3\\lib\\site-packages\\sklearn\\metrics\\classification.py:1143: UndefinedMetricWarning: Precision and F-score are ill-defined and being set to 0.0 in labels with no predicted samples.\n",
      "  'precision', 'predicted', average, warn_for)\n"
     ]
    }
   ],
   "source": [
    "tr_accs,tst_accs,tr_mccs,tst_mccs,tr_ps,tst_ps,tr_rs,tst_rs,tr_f1s,tst_f1s = K_fold2(X_train, y_train, 5)\n",
    "print_metrics(tr_accs,tst_accs,tr_mccs,tst_mccs,tr_ps,tst_ps,tr_rs,tst_rs,tr_f1s,tst_f1s)"
   ]
  },
  {
   "cell_type": "code",
   "execution_count": 65,
   "metadata": {},
   "outputs": [
    {
     "name": "stdout",
     "output_type": "stream",
     "text": [
      "Accuracy :  0.8714285714285714\n",
      "MCC :  0.6354252116318423\n",
      "Precission :  0.563044392383012\n",
      "Recall :  0.6144784750481902\n",
      "F1 :  0.5875816993464053\n"
     ]
    },
    {
     "name": "stderr",
     "output_type": "stream",
     "text": [
      "C:\\Users\\Gurpreet\\AppData\\Local\\Continuum\\anaconda3\\lib\\site-packages\\sklearn\\linear_model\\logistic.py:433: FutureWarning: Default solver will be changed to 'lbfgs' in 0.22. Specify a solver to silence this warning.\n",
      "  FutureWarning)\n",
      "C:\\Users\\Gurpreet\\AppData\\Local\\Continuum\\anaconda3\\lib\\site-packages\\sklearn\\linear_model\\logistic.py:460: FutureWarning: Default multi_class will be changed to 'auto' in 0.22. Specify the multi_class option to silence this warning.\n",
      "  \"this warning.\", FutureWarning)\n",
      "C:\\Users\\Gurpreet\\AppData\\Local\\Continuum\\anaconda3\\lib\\site-packages\\sklearn\\metrics\\classification.py:1143: UndefinedMetricWarning: Precision and F-score are ill-defined and being set to 0.0 in labels with no predicted samples.\n",
      "  'precision', 'predicted', average, warn_for)\n"
     ]
    }
   ],
   "source": [
    "from sklearn.linear_model import LogisticRegression\n",
    "\n",
    "clf = LogisticRegression(random_state=0)\n",
    "\n",
    "clf.fit(X_train,y_train)\n",
    "\n",
    "prd = clf.predict(X_test)\n",
    "\n",
    "print(\"Accuracy : \",clf.score(X_test, y_test))\n",
    "\n",
    "print(\"MCC : \",matthews_corrcoef(y_test, prd))\n",
    "\n",
    "prf = precision_recall_fscore_support(y_test, prd, average='macro')\n",
    "print(\"Precission : \",prf[0])\n",
    "print(\"Recall : \",prf[1])\n",
    "print(\"F1 : \",prf[2])"
   ]
  },
  {
   "cell_type": "code",
   "execution_count": 66,
   "metadata": {},
   "outputs": [
    {
     "name": "stderr",
     "output_type": "stream",
     "text": [
      "C:\\Users\\Gurpreet\\AppData\\Local\\Continuum\\anaconda3\\lib\\site-packages\\sklearn\\utils\\deprecation.py:77: DeprecationWarning: Function plot_roc_curve is deprecated; This will be removed in v0.5.0. Please use scikitplot.metrics.plot_roc instead.\n",
      "  warnings.warn(msg, category=DeprecationWarning)\n"
     ]
    },
    {
     "data": {
      "image/png": "[encoded data removed]",
      "text/plain": [
       "<Figure size 432x288 with 1 Axes>"
      ]
     },
     "metadata": {
      "needs_background": "light"
     },
     "output_type": "display_data"
    }
   ],
   "source": [
    "y_probas = clf.predict_proba(X_test)\n",
    "skplt.metrics.plot_roc_curve(y_test, y_probas)\n",
    "plt.show()"
   ]
  },
  {
   "cell_type": "code",
   "execution_count": null,
   "metadata": {},
   "outputs": [],
   "source": []
  },
  {
   "cell_type": "code",
   "execution_count": 69,
   "metadata": {},
   "outputs": [
    {
     "name": "stdout",
     "output_type": "stream",
     "text": [
      "---------------------Training-------------------------------\n",
      "Accuracy :  0.8905370843989768\n",
      "MCC :  0.70077135111137\n",
      "Precision :  0.6249332729422682\n",
      "Recall :  0.6315151515151514\n",
      "F1 :  0.6257687781771564\n",
      "---------------------Validation-------------------------------\n",
      "Accuracy :  0.8875\n",
      "MCC :  0.680694617115816\n",
      "Precision :  0.6202214712212729\n",
      "Recall :  0.6247401247401247\n",
      "F1 :  0.6169507295694256\n"
     ]
    },
    {
     "name": "stderr",
     "output_type": "stream",
     "text": [
      "C:\\Users\\Gurpreet\\AppData\\Local\\Continuum\\anaconda3\\lib\\site-packages\\sklearn\\linear_model\\logistic.py:433: FutureWarning: Default solver will be changed to 'lbfgs' in 0.22. Specify a solver to silence this warning.\n",
      "  FutureWarning)\n",
      "C:\\Users\\Gurpreet\\AppData\\Local\\Continuum\\anaconda3\\lib\\site-packages\\sklearn\\linear_model\\logistic.py:460: FutureWarning: Default multi_class will be changed to 'auto' in 0.22. Specify the multi_class option to silence this warning.\n",
      "  \"this warning.\", FutureWarning)\n",
      "C:\\Users\\Gurpreet\\AppData\\Local\\Continuum\\anaconda3\\lib\\site-packages\\sklearn\\metrics\\classification.py:1143: UndefinedMetricWarning: Precision and F-score are ill-defined and being set to 0.0 in labels with no predicted samples.\n",
      "  'precision', 'predicted', average, warn_for)\n",
      "C:\\Users\\Gurpreet\\AppData\\Local\\Continuum\\anaconda3\\lib\\site-packages\\sklearn\\metrics\\classification.py:1143: UndefinedMetricWarning: Precision and F-score are ill-defined and being set to 0.0 in labels with no predicted samples.\n",
      "  'precision', 'predicted', average, warn_for)\n",
      "C:\\Users\\Gurpreet\\AppData\\Local\\Continuum\\anaconda3\\lib\\site-packages\\sklearn\\linear_model\\logistic.py:433: FutureWarning: Default solver will be changed to 'lbfgs' in 0.22. Specify a solver to silence this warning.\n",
      "  FutureWarning)\n",
      "C:\\Users\\Gurpreet\\AppData\\Local\\Continuum\\anaconda3\\lib\\site-packages\\sklearn\\linear_model\\logistic.py:460: FutureWarning: Default multi_class will be changed to 'auto' in 0.22. Specify the multi_class option to silence this warning.\n",
      "  \"this warning.\", FutureWarning)\n",
      "C:\\Users\\Gurpreet\\AppData\\Local\\Continuum\\anaconda3\\lib\\site-packages\\sklearn\\metrics\\classification.py:1143: UndefinedMetricWarning: Precision and F-score are ill-defined and being set to 0.0 in labels with no predicted samples.\n",
      "  'precision', 'predicted', average, warn_for)\n",
      "C:\\Users\\Gurpreet\\AppData\\Local\\Continuum\\anaconda3\\lib\\site-packages\\sklearn\\metrics\\classification.py:1143: UndefinedMetricWarning: Precision and F-score are ill-defined and being set to 0.0 in labels with no predicted samples.\n",
      "  'precision', 'predicted', average, warn_for)\n",
      "C:\\Users\\Gurpreet\\AppData\\Local\\Continuum\\anaconda3\\lib\\site-packages\\sklearn\\linear_model\\logistic.py:433: FutureWarning: Default solver will be changed to 'lbfgs' in 0.22. Specify a solver to silence this warning.\n",
      "  FutureWarning)\n",
      "C:\\Users\\Gurpreet\\AppData\\Local\\Continuum\\anaconda3\\lib\\site-packages\\sklearn\\linear_model\\logistic.py:460: FutureWarning: Default multi_class will be changed to 'auto' in 0.22. Specify the multi_class option to silence this warning.\n",
      "  \"this warning.\", FutureWarning)\n",
      "C:\\Users\\Gurpreet\\AppData\\Local\\Continuum\\anaconda3\\lib\\site-packages\\sklearn\\metrics\\classification.py:1143: UndefinedMetricWarning: Precision and F-score are ill-defined and being set to 0.0 in labels with no predicted samples.\n",
      "  'precision', 'predicted', average, warn_for)\n",
      "C:\\Users\\Gurpreet\\AppData\\Local\\Continuum\\anaconda3\\lib\\site-packages\\sklearn\\metrics\\classification.py:1143: UndefinedMetricWarning: Precision and F-score are ill-defined and being set to 0.0 in labels with no predicted samples.\n",
      "  'precision', 'predicted', average, warn_for)\n",
      "C:\\Users\\Gurpreet\\AppData\\Local\\Continuum\\anaconda3\\lib\\site-packages\\sklearn\\linear_model\\logistic.py:433: FutureWarning: Default solver will be changed to 'lbfgs' in 0.22. Specify a solver to silence this warning.\n",
      "  FutureWarning)\n",
      "C:\\Users\\Gurpreet\\AppData\\Local\\Continuum\\anaconda3\\lib\\site-packages\\sklearn\\linear_model\\logistic.py:460: FutureWarning: Default multi_class will be changed to 'auto' in 0.22. Specify the multi_class option to silence this warning.\n",
      "  \"this warning.\", FutureWarning)\n",
      "C:\\Users\\Gurpreet\\AppData\\Local\\Continuum\\anaconda3\\lib\\site-packages\\sklearn\\metrics\\classification.py:1143: UndefinedMetricWarning: Precision and F-score are ill-defined and being set to 0.0 in labels with no predicted samples.\n",
      "  'precision', 'predicted', average, warn_for)\n",
      "C:\\Users\\Gurpreet\\AppData\\Local\\Continuum\\anaconda3\\lib\\site-packages\\sklearn\\metrics\\classification.py:1143: UndefinedMetricWarning: Precision and F-score are ill-defined and being set to 0.0 in labels with no predicted samples.\n",
      "  'precision', 'predicted', average, warn_for)\n",
      "C:\\Users\\Gurpreet\\AppData\\Local\\Continuum\\anaconda3\\lib\\site-packages\\sklearn\\linear_model\\logistic.py:433: FutureWarning: Default solver will be changed to 'lbfgs' in 0.22. Specify a solver to silence this warning.\n",
      "  FutureWarning)\n",
      "C:\\Users\\Gurpreet\\AppData\\Local\\Continuum\\anaconda3\\lib\\site-packages\\sklearn\\linear_model\\logistic.py:460: FutureWarning: Default multi_class will be changed to 'auto' in 0.22. Specify the multi_class option to silence this warning.\n",
      "  \"this warning.\", FutureWarning)\n",
      "C:\\Users\\Gurpreet\\AppData\\Local\\Continuum\\anaconda3\\lib\\site-packages\\sklearn\\metrics\\classification.py:1143: UndefinedMetricWarning: Precision and F-score are ill-defined and being set to 0.0 in labels with no predicted samples.\n",
      "  'precision', 'predicted', average, warn_for)\n",
      "C:\\Users\\Gurpreet\\AppData\\Local\\Continuum\\anaconda3\\lib\\site-packages\\sklearn\\metrics\\classification.py:1143: UndefinedMetricWarning: Precision and F-score are ill-defined and being set to 0.0 in labels with no predicted samples.\n",
      "  'precision', 'predicted', average, warn_for)\n"
     ]
    }
   ],
   "source": [
    "from sklearn.feature_selection import SelectKBest, chi2\n",
    "\n",
    "skb = SelectKBest(chi2, k=2).fit(X_train2, y_train)\n",
    "X_now_train = skb.transform(X_train2)\n",
    "X_now_test = skb.transform(X_test2)\n",
    "\n",
    "\n",
    "scaler = preprocessing.StandardScaler().fit(X_now_train)\n",
    "X_now_train = scaler.transform(X_now_train)\n",
    "X_now_test = scaler.transform(X_now_test)\n",
    "\n",
    "tr_accs,tst_accs,tr_mccs,tst_mccs,tr_ps,tst_ps,tr_rs,tst_rs,tr_f1s,tst_f1s = K_fold2(X_now_train, y_train, 5)\n",
    "print_metrics(tr_accs,tst_accs,tr_mccs,tst_mccs,tr_ps,tst_ps,tr_rs,tst_rs,tr_f1s,tst_f1s)"
   ]
  },
  {
   "cell_type": "code",
   "execution_count": 68,
   "metadata": {},
   "outputs": [
    {
     "name": "stdout",
     "output_type": "stream",
     "text": [
      "Accuracy :  0.8904761904761904\n",
      "MCC :  0.6984861618275382\n",
      "Precission :  0.625\n",
      "Recall :  0.632183908045977\n",
      "F1 :  0.6262626262626263\n"
     ]
    },
    {
     "name": "stderr",
     "output_type": "stream",
     "text": [
      "C:\\Users\\Gurpreet\\AppData\\Local\\Continuum\\anaconda3\\lib\\site-packages\\sklearn\\linear_model\\logistic.py:433: FutureWarning: Default solver will be changed to 'lbfgs' in 0.22. Specify a solver to silence this warning.\n",
      "  FutureWarning)\n",
      "C:\\Users\\Gurpreet\\AppData\\Local\\Continuum\\anaconda3\\lib\\site-packages\\sklearn\\linear_model\\logistic.py:460: FutureWarning: Default multi_class will be changed to 'auto' in 0.22. Specify the multi_class option to silence this warning.\n",
      "  \"this warning.\", FutureWarning)\n",
      "C:\\Users\\Gurpreet\\AppData\\Local\\Continuum\\anaconda3\\lib\\site-packages\\sklearn\\metrics\\classification.py:1143: UndefinedMetricWarning: Precision and F-score are ill-defined and being set to 0.0 in labels with no predicted samples.\n",
      "  'precision', 'predicted', average, warn_for)\n"
     ]
    }
   ],
   "source": [
    "clf = LogisticRegression(random_state=0)\n",
    "\n",
    "clf.fit(X_now_train,y_train)\n",
    "\n",
    "prd = clf.predict(X_now_test)\n",
    "\n",
    "print(\"Accuracy : \",clf.score(X_now_test, y_test))\n",
    "\n",
    "print(\"MCC : \",matthews_corrcoef(y_test, prd))\n",
    "\n",
    "prf = precision_recall_fscore_support(y_test, prd, average='macro')\n",
    "print(\"Precission : \",prf[0])\n",
    "print(\"Recall : \",prf[1])\n",
    "print(\"F1 : \",prf[2])"
   ]
  },
  {
   "cell_type": "code",
   "execution_count": null,
   "metadata": {},
   "outputs": [],
   "source": []
  },
  {
   "cell_type": "code",
   "execution_count": null,
   "metadata": {},
   "outputs": [],
   "source": []
  }
 ],
 "metadata": {
  "kernelspec": {
   "display_name": "Python 3",
   "language": "python",
   "name": "python3"
  },
  "language_info": {
   "codemirror_mode": {
    "name": "ipython",
    "version": 3
   },
   "file_extension": ".py",
   "mimetype": "text/x-python",
   "name": "python",
   "nbconvert_exporter": "python",
   "pygments_lexer": "ipython3",
   "version": "3.7.1"
  }
 },
 "nbformat": 4,
 "nbformat_minor": 2
}
